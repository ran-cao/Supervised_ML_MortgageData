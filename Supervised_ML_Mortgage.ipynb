{
  "nbformat": 4,
  "nbformat_minor": 0,
  "metadata": {
    "colab": {
      "name": "Supervised ML_Mortgage.ipynb",
      "provenance": [],
      "collapsed_sections": [
        "7nT545EpOgA_"
      ],
      "authorship_tag": "ABX9TyNvXM/6cHgpyUeJ8osX59y2",
      "include_colab_link": true
    },
    "kernelspec": {
      "name": "python3",
      "display_name": "Python 3"
    }
  },
  "cells": [
    {
      "cell_type": "markdown",
      "metadata": {
        "id": "view-in-github",
        "colab_type": "text"
      },
      "source": [
        "<a href=\"https://colab.research.google.com/github/ran-cao/Supervised_ML_MortgageData/blob/main/Supervised_ML_Mortgage.ipynb\" target=\"_parent\"><img src=\"https://colab.research.google.com/assets/colab-badge.svg\" alt=\"Open In Colab\"/></a>"
      ]
    },
    {
      "cell_type": "code",
      "metadata": {
        "id": "s7JPKvA28koX"
      },
      "source": [
        "import pandas as pd\n",
        "import numpy as np\n",
        "from sklearn.manifold import TSNE"
      ],
      "execution_count": 2,
      "outputs": []
    },
    {
      "cell_type": "code",
      "metadata": {
        "id": "0M_VYHph8WeF",
        "outputId": "1794fd1c-c553-48b6-a23c-ccf4572baf22",
        "colab": {
          "base_uri": "https://localhost:8080/"
        }
      },
      "source": [
        "from google.colab import drive\n",
        "drive.mount('/content/gdrive', force_remount= True)"
      ],
      "execution_count": 3,
      "outputs": [
        {
          "output_type": "stream",
          "text": [
            "Mounted at /content/gdrive\n"
          ],
          "name": "stdout"
        }
      ]
    },
    {
      "cell_type": "code",
      "metadata": {
        "id": "ZkqWMhv88a8m"
      },
      "source": [
        "loan_data = pd.read_csv('/content/gdrive/My Drive/anomaly detection/XYZloan_default_selected_vars.csv')"
      ],
      "execution_count": 4,
      "outputs": []
    },
    {
      "cell_type": "code",
      "metadata": {
        "id": "Fk2MiNuh8nft",
        "outputId": "a120e92d-b23f-425d-9d09-853e70685847",
        "colab": {
          "base_uri": "https://localhost:8080/",
          "height": 355
        }
      },
      "source": [
        "loan_data.head(5)"
      ],
      "execution_count": 10,
      "outputs": [
        {
          "output_type": "execute_result",
          "data": {
            "text/html": [
              "<div>\n",
              "<style scoped>\n",
              "    .dataframe tbody tr th:only-of-type {\n",
              "        vertical-align: middle;\n",
              "    }\n",
              "\n",
              "    .dataframe tbody tr th {\n",
              "        vertical-align: top;\n",
              "    }\n",
              "\n",
              "    .dataframe thead th {\n",
              "        text-align: right;\n",
              "    }\n",
              "</style>\n",
              "<table border=\"1\" class=\"dataframe\">\n",
              "  <thead>\n",
              "    <tr style=\"text-align: right;\">\n",
              "      <th></th>\n",
              "      <th>Unnamed: 0</th>\n",
              "      <th>Unnamed: 0.1</th>\n",
              "      <th>id</th>\n",
              "      <th>loan_default</th>\n",
              "      <th>AP001</th>\n",
              "      <th>AP002</th>\n",
              "      <th>AP003</th>\n",
              "      <th>AP004</th>\n",
              "      <th>AP005</th>\n",
              "      <th>AP006</th>\n",
              "      <th>AP007</th>\n",
              "      <th>AP008</th>\n",
              "      <th>AP009</th>\n",
              "      <th>TD001</th>\n",
              "      <th>TD002</th>\n",
              "      <th>TD005</th>\n",
              "      <th>TD006</th>\n",
              "      <th>TD009</th>\n",
              "      <th>TD010</th>\n",
              "      <th>TD013</th>\n",
              "      <th>TD014</th>\n",
              "      <th>TD015</th>\n",
              "      <th>TD022</th>\n",
              "      <th>TD023</th>\n",
              "      <th>TD024</th>\n",
              "      <th>TD025</th>\n",
              "      <th>TD026</th>\n",
              "      <th>TD027</th>\n",
              "      <th>TD028</th>\n",
              "      <th>TD029</th>\n",
              "      <th>TD044</th>\n",
              "      <th>TD048</th>\n",
              "      <th>TD051</th>\n",
              "      <th>TD054</th>\n",
              "      <th>TD055</th>\n",
              "      <th>TD061</th>\n",
              "      <th>TD062</th>\n",
              "      <th>CR004</th>\n",
              "      <th>CR005</th>\n",
              "      <th>CR009</th>\n",
              "      <th>...</th>\n",
              "      <th>PA030</th>\n",
              "      <th>PA031</th>\n",
              "      <th>CD008</th>\n",
              "      <th>CD018</th>\n",
              "      <th>CD071</th>\n",
              "      <th>CD072</th>\n",
              "      <th>CD088</th>\n",
              "      <th>CD100</th>\n",
              "      <th>CD101</th>\n",
              "      <th>CD106</th>\n",
              "      <th>CD107</th>\n",
              "      <th>CD108</th>\n",
              "      <th>CD113</th>\n",
              "      <th>CD114</th>\n",
              "      <th>CD115</th>\n",
              "      <th>CD117</th>\n",
              "      <th>CD118</th>\n",
              "      <th>CD120</th>\n",
              "      <th>CD121</th>\n",
              "      <th>CD123</th>\n",
              "      <th>CD130</th>\n",
              "      <th>CD131</th>\n",
              "      <th>CD132</th>\n",
              "      <th>CD133</th>\n",
              "      <th>CD135</th>\n",
              "      <th>CD136</th>\n",
              "      <th>CD137</th>\n",
              "      <th>CD152</th>\n",
              "      <th>CD153</th>\n",
              "      <th>CD160</th>\n",
              "      <th>CD162</th>\n",
              "      <th>CD164</th>\n",
              "      <th>CD166</th>\n",
              "      <th>CD167</th>\n",
              "      <th>CD169</th>\n",
              "      <th>CD170</th>\n",
              "      <th>CD172</th>\n",
              "      <th>CD173</th>\n",
              "      <th>MB005</th>\n",
              "      <th>MB007</th>\n",
              "    </tr>\n",
              "  </thead>\n",
              "  <tbody>\n",
              "    <tr>\n",
              "      <th>0</th>\n",
              "      <td>0</td>\n",
              "      <td>1</td>\n",
              "      <td>1</td>\n",
              "      <td>1</td>\n",
              "      <td>31</td>\n",
              "      <td>2</td>\n",
              "      <td>1</td>\n",
              "      <td>12</td>\n",
              "      <td>2017/7/6 10:21</td>\n",
              "      <td>ios</td>\n",
              "      <td>3</td>\n",
              "      <td>3</td>\n",
              "      <td>1</td>\n",
              "      <td>1</td>\n",
              "      <td>1</td>\n",
              "      <td>4</td>\n",
              "      <td>1</td>\n",
              "      <td>5</td>\n",
              "      <td>1</td>\n",
              "      <td>14</td>\n",
              "      <td>2</td>\n",
              "      <td>2</td>\n",
              "      <td>10.0</td>\n",
              "      <td>9.0</td>\n",
              "      <td>6.0</td>\n",
              "      <td>0.0</td>\n",
              "      <td>0.0</td>\n",
              "      <td>0.0</td>\n",
              "      <td>0.0</td>\n",
              "      <td>6.0</td>\n",
              "      <td>NaN</td>\n",
              "      <td>NaN</td>\n",
              "      <td>NaN</td>\n",
              "      <td>NaN</td>\n",
              "      <td>NaN</td>\n",
              "      <td>NaN</td>\n",
              "      <td>NaN</td>\n",
              "      <td>2</td>\n",
              "      <td>1</td>\n",
              "      <td>35807</td>\n",
              "      <td>...</td>\n",
              "      <td>-98.0</td>\n",
              "      <td>-98.0</td>\n",
              "      <td>13840.0</td>\n",
              "      <td>172.0</td>\n",
              "      <td>0.0</td>\n",
              "      <td>0.0</td>\n",
              "      <td>0.0</td>\n",
              "      <td>0.0</td>\n",
              "      <td>0.0</td>\n",
              "      <td>1.0</td>\n",
              "      <td>0.0</td>\n",
              "      <td>1.0</td>\n",
              "      <td>0.0</td>\n",
              "      <td>1.0</td>\n",
              "      <td>57.0</td>\n",
              "      <td>48.0</td>\n",
              "      <td>95.0</td>\n",
              "      <td>79.0</td>\n",
              "      <td>125.0</td>\n",
              "      <td>103.0</td>\n",
              "      <td>43.0</td>\n",
              "      <td>55.0</td>\n",
              "      <td>56.0</td>\n",
              "      <td>52.0</td>\n",
              "      <td>65.0</td>\n",
              "      <td>91.0</td>\n",
              "      <td>96.0</td>\n",
              "      <td>10900.0</td>\n",
              "      <td>12757.0</td>\n",
              "      <td>8.0</td>\n",
              "      <td>13.0</td>\n",
              "      <td>13.0</td>\n",
              "      <td>0.0</td>\n",
              "      <td>0.0</td>\n",
              "      <td>1449.0</td>\n",
              "      <td>1449.0</td>\n",
              "      <td>2249.0</td>\n",
              "      <td>2249.0</td>\n",
              "      <td>7.0</td>\n",
              "      <td>IPHONE7</td>\n",
              "    </tr>\n",
              "    <tr>\n",
              "      <th>1</th>\n",
              "      <td>1</td>\n",
              "      <td>2</td>\n",
              "      <td>2</td>\n",
              "      <td>0</td>\n",
              "      <td>27</td>\n",
              "      <td>1</td>\n",
              "      <td>1</td>\n",
              "      <td>12</td>\n",
              "      <td>2017/4/6 12:51</td>\n",
              "      <td>h5</td>\n",
              "      <td>5</td>\n",
              "      <td>4</td>\n",
              "      <td>0</td>\n",
              "      <td>2</td>\n",
              "      <td>0</td>\n",
              "      <td>3</td>\n",
              "      <td>1</td>\n",
              "      <td>3</td>\n",
              "      <td>1</td>\n",
              "      <td>3</td>\n",
              "      <td>2</td>\n",
              "      <td>0</td>\n",
              "      <td>15.0</td>\n",
              "      <td>6.0</td>\n",
              "      <td>0.0</td>\n",
              "      <td>0.0</td>\n",
              "      <td>0.0</td>\n",
              "      <td>0.0</td>\n",
              "      <td>0.0</td>\n",
              "      <td>6.0</td>\n",
              "      <td>NaN</td>\n",
              "      <td>NaN</td>\n",
              "      <td>NaN</td>\n",
              "      <td>NaN</td>\n",
              "      <td>NaN</td>\n",
              "      <td>NaN</td>\n",
              "      <td>NaN</td>\n",
              "      <td>3</td>\n",
              "      <td>1</td>\n",
              "      <td>7254</td>\n",
              "      <td>...</td>\n",
              "      <td>-98.0</td>\n",
              "      <td>-98.0</td>\n",
              "      <td>-99.0</td>\n",
              "      <td>-99.0</td>\n",
              "      <td>-99.0</td>\n",
              "      <td>-99.0</td>\n",
              "      <td>-99.0</td>\n",
              "      <td>-99.0</td>\n",
              "      <td>-99.0</td>\n",
              "      <td>-99.0</td>\n",
              "      <td>-99.0</td>\n",
              "      <td>-99.0</td>\n",
              "      <td>-99.0</td>\n",
              "      <td>-99.0</td>\n",
              "      <td>-99.0</td>\n",
              "      <td>-99.0</td>\n",
              "      <td>-99.0</td>\n",
              "      <td>-99.0</td>\n",
              "      <td>-99.0</td>\n",
              "      <td>-99.0</td>\n",
              "      <td>-99.0</td>\n",
              "      <td>-99.0</td>\n",
              "      <td>-99.0</td>\n",
              "      <td>-99.0</td>\n",
              "      <td>-99.0</td>\n",
              "      <td>-99.0</td>\n",
              "      <td>-99.0</td>\n",
              "      <td>-99.0</td>\n",
              "      <td>-99.0</td>\n",
              "      <td>-99.0</td>\n",
              "      <td>-99.0</td>\n",
              "      <td>-99.0</td>\n",
              "      <td>-99.0</td>\n",
              "      <td>-99.0</td>\n",
              "      <td>-99.0</td>\n",
              "      <td>-99.0</td>\n",
              "      <td>-99.0</td>\n",
              "      <td>-99.0</td>\n",
              "      <td>NaN</td>\n",
              "      <td>WEB</td>\n",
              "    </tr>\n",
              "    <tr>\n",
              "      <th>2</th>\n",
              "      <td>2</td>\n",
              "      <td>3</td>\n",
              "      <td>3</td>\n",
              "      <td>0</td>\n",
              "      <td>33</td>\n",
              "      <td>1</td>\n",
              "      <td>4</td>\n",
              "      <td>12</td>\n",
              "      <td>2017/7/1 14:11</td>\n",
              "      <td>h5</td>\n",
              "      <td>4</td>\n",
              "      <td>2</td>\n",
              "      <td>0</td>\n",
              "      <td>2</td>\n",
              "      <td>1</td>\n",
              "      <td>4</td>\n",
              "      <td>1</td>\n",
              "      <td>5</td>\n",
              "      <td>1</td>\n",
              "      <td>9</td>\n",
              "      <td>1</td>\n",
              "      <td>2</td>\n",
              "      <td>15.0</td>\n",
              "      <td>9.0</td>\n",
              "      <td>2.0</td>\n",
              "      <td>0.0</td>\n",
              "      <td>0.0</td>\n",
              "      <td>0.0</td>\n",
              "      <td>0.0</td>\n",
              "      <td>6.0</td>\n",
              "      <td>NaN</td>\n",
              "      <td>NaN</td>\n",
              "      <td>NaN</td>\n",
              "      <td>NaN</td>\n",
              "      <td>NaN</td>\n",
              "      <td>NaN</td>\n",
              "      <td>NaN</td>\n",
              "      <td>2</td>\n",
              "      <td>2</td>\n",
              "      <td>30377</td>\n",
              "      <td>...</td>\n",
              "      <td>-98.0</td>\n",
              "      <td>-98.0</td>\n",
              "      <td>2454.0</td>\n",
              "      <td>13.0</td>\n",
              "      <td>0.0</td>\n",
              "      <td>0.0</td>\n",
              "      <td>0.0</td>\n",
              "      <td>0.0</td>\n",
              "      <td>0.0</td>\n",
              "      <td>0.0</td>\n",
              "      <td>0.0</td>\n",
              "      <td>0.0</td>\n",
              "      <td>0.0</td>\n",
              "      <td>0.0</td>\n",
              "      <td>13.0</td>\n",
              "      <td>13.0</td>\n",
              "      <td>20.0</td>\n",
              "      <td>20.0</td>\n",
              "      <td>23.0</td>\n",
              "      <td>21.0</td>\n",
              "      <td>11.0</td>\n",
              "      <td>9.0</td>\n",
              "      <td>10.0</td>\n",
              "      <td>12.0</td>\n",
              "      <td>13.0</td>\n",
              "      <td>9.0</td>\n",
              "      <td>11.0</td>\n",
              "      <td>3807.0</td>\n",
              "      <td>2314.0</td>\n",
              "      <td>0.0</td>\n",
              "      <td>3.0</td>\n",
              "      <td>2.0</td>\n",
              "      <td>33.0</td>\n",
              "      <td>0.0</td>\n",
              "      <td>33.0</td>\n",
              "      <td>0.0</td>\n",
              "      <td>143.0</td>\n",
              "      <td>110.0</td>\n",
              "      <td>8.0</td>\n",
              "      <td>WEB</td>\n",
              "    </tr>\n",
              "    <tr>\n",
              "      <th>3</th>\n",
              "      <td>3</td>\n",
              "      <td>4</td>\n",
              "      <td>4</td>\n",
              "      <td>0</td>\n",
              "      <td>34</td>\n",
              "      <td>2</td>\n",
              "      <td>4</td>\n",
              "      <td>12</td>\n",
              "      <td>2017/7/7 10:10</td>\n",
              "      <td>android</td>\n",
              "      <td>5</td>\n",
              "      <td>5</td>\n",
              "      <td>0</td>\n",
              "      <td>0</td>\n",
              "      <td>0</td>\n",
              "      <td>0</td>\n",
              "      <td>0</td>\n",
              "      <td>0</td>\n",
              "      <td>0</td>\n",
              "      <td>1</td>\n",
              "      <td>1</td>\n",
              "      <td>0</td>\n",
              "      <td>NaN</td>\n",
              "      <td>NaN</td>\n",
              "      <td>NaN</td>\n",
              "      <td>0.0</td>\n",
              "      <td>0.0</td>\n",
              "      <td>0.0</td>\n",
              "      <td>0.0</td>\n",
              "      <td>6.0</td>\n",
              "      <td>NaN</td>\n",
              "      <td>NaN</td>\n",
              "      <td>NaN</td>\n",
              "      <td>NaN</td>\n",
              "      <td>NaN</td>\n",
              "      <td>NaN</td>\n",
              "      <td>NaN</td>\n",
              "      <td>2</td>\n",
              "      <td>1</td>\n",
              "      <td>0</td>\n",
              "      <td>...</td>\n",
              "      <td>-98.0</td>\n",
              "      <td>-98.0</td>\n",
              "      <td>0.0</td>\n",
              "      <td>0.0</td>\n",
              "      <td>0.0</td>\n",
              "      <td>0.0</td>\n",
              "      <td>0.0</td>\n",
              "      <td>0.0</td>\n",
              "      <td>0.0</td>\n",
              "      <td>0.0</td>\n",
              "      <td>0.0</td>\n",
              "      <td>0.0</td>\n",
              "      <td>0.0</td>\n",
              "      <td>0.0</td>\n",
              "      <td>0.0</td>\n",
              "      <td>0.0</td>\n",
              "      <td>0.0</td>\n",
              "      <td>0.0</td>\n",
              "      <td>0.0</td>\n",
              "      <td>0.0</td>\n",
              "      <td>0.0</td>\n",
              "      <td>0.0</td>\n",
              "      <td>0.0</td>\n",
              "      <td>0.0</td>\n",
              "      <td>0.0</td>\n",
              "      <td>0.0</td>\n",
              "      <td>0.0</td>\n",
              "      <td>0.0</td>\n",
              "      <td>0.0</td>\n",
              "      <td>0.0</td>\n",
              "      <td>0.0</td>\n",
              "      <td>0.0</td>\n",
              "      <td>0.0</td>\n",
              "      <td>0.0</td>\n",
              "      <td>0.0</td>\n",
              "      <td>0.0</td>\n",
              "      <td>0.0</td>\n",
              "      <td>0.0</td>\n",
              "      <td>10.0</td>\n",
              "      <td>OPPO</td>\n",
              "    </tr>\n",
              "    <tr>\n",
              "      <th>4</th>\n",
              "      <td>4</td>\n",
              "      <td>5</td>\n",
              "      <td>5</td>\n",
              "      <td>0</td>\n",
              "      <td>47</td>\n",
              "      <td>2</td>\n",
              "      <td>1</td>\n",
              "      <td>12</td>\n",
              "      <td>2017/7/6 14:37</td>\n",
              "      <td>h5</td>\n",
              "      <td>4</td>\n",
              "      <td>4</td>\n",
              "      <td>1</td>\n",
              "      <td>2</td>\n",
              "      <td>0</td>\n",
              "      <td>2</td>\n",
              "      <td>1</td>\n",
              "      <td>2</td>\n",
              "      <td>1</td>\n",
              "      <td>2</td>\n",
              "      <td>1</td>\n",
              "      <td>0</td>\n",
              "      <td>10.0</td>\n",
              "      <td>3.0</td>\n",
              "      <td>0.0</td>\n",
              "      <td>0.0</td>\n",
              "      <td>0.0</td>\n",
              "      <td>0.0</td>\n",
              "      <td>0.0</td>\n",
              "      <td>6.0</td>\n",
              "      <td>NaN</td>\n",
              "      <td>NaN</td>\n",
              "      <td>NaN</td>\n",
              "      <td>NaN</td>\n",
              "      <td>NaN</td>\n",
              "      <td>NaN</td>\n",
              "      <td>NaN</td>\n",
              "      <td>4</td>\n",
              "      <td>2</td>\n",
              "      <td>0</td>\n",
              "      <td>...</td>\n",
              "      <td>-99.0</td>\n",
              "      <td>-99.0</td>\n",
              "      <td>-99.0</td>\n",
              "      <td>-99.0</td>\n",
              "      <td>-99.0</td>\n",
              "      <td>-99.0</td>\n",
              "      <td>-99.0</td>\n",
              "      <td>-99.0</td>\n",
              "      <td>-99.0</td>\n",
              "      <td>-99.0</td>\n",
              "      <td>-99.0</td>\n",
              "      <td>-99.0</td>\n",
              "      <td>-99.0</td>\n",
              "      <td>-99.0</td>\n",
              "      <td>-99.0</td>\n",
              "      <td>-99.0</td>\n",
              "      <td>-99.0</td>\n",
              "      <td>-99.0</td>\n",
              "      <td>-99.0</td>\n",
              "      <td>-99.0</td>\n",
              "      <td>-99.0</td>\n",
              "      <td>-99.0</td>\n",
              "      <td>-99.0</td>\n",
              "      <td>-99.0</td>\n",
              "      <td>-99.0</td>\n",
              "      <td>-99.0</td>\n",
              "      <td>-99.0</td>\n",
              "      <td>-99.0</td>\n",
              "      <td>-99.0</td>\n",
              "      <td>-99.0</td>\n",
              "      <td>-99.0</td>\n",
              "      <td>-99.0</td>\n",
              "      <td>-99.0</td>\n",
              "      <td>-99.0</td>\n",
              "      <td>-99.0</td>\n",
              "      <td>-99.0</td>\n",
              "      <td>-99.0</td>\n",
              "      <td>-99.0</td>\n",
              "      <td>NaN</td>\n",
              "      <td>WEB</td>\n",
              "    </tr>\n",
              "  </tbody>\n",
              "</table>\n",
              "<p>5 rows × 89 columns</p>\n",
              "</div>"
            ],
            "text/plain": [
              "   Unnamed: 0  Unnamed: 0.1  id  loan_default  ...   CD172   CD173  MB005    MB007\n",
              "0           0             1   1             1  ...  2249.0  2249.0    7.0  IPHONE7\n",
              "1           1             2   2             0  ...   -99.0   -99.0    NaN      WEB\n",
              "2           2             3   3             0  ...   143.0   110.0    8.0      WEB\n",
              "3           3             4   4             0  ...     0.0     0.0   10.0     OPPO\n",
              "4           4             5   5             0  ...   -99.0   -99.0    NaN      WEB\n",
              "\n",
              "[5 rows x 89 columns]"
            ]
          },
          "metadata": {
            "tags": []
          },
          "execution_count": 10
        }
      ]
    },
    {
      "cell_type": "markdown",
      "metadata": {
        "id": "VhPmm8I_OUPD"
      },
      "source": [
        "# Data Preparation"
      ]
    },
    {
      "cell_type": "markdown",
      "metadata": {
        "id": "7nT545EpOgA_"
      },
      "source": [
        "## Part1: Use the raw dataset"
      ]
    },
    {
      "cell_type": "code",
      "metadata": {
        "id": "gkNYk3NKBXXe"
      },
      "source": [
        "from sklearn.model_selection import train_test_split\n",
        "train, test = train_test_split(\n",
        "     loan_data, test_size=0.40, random_state=42)"
      ],
      "execution_count": 5,
      "outputs": []
    },
    {
      "cell_type": "code",
      "metadata": {
        "id": "IFh5SjuHBldJ",
        "outputId": "a65a0bc6-a762-472d-9a80-c1545bfc3448",
        "colab": {
          "base_uri": "https://localhost:8080/"
        }
      },
      "source": [
        "train.shape"
      ],
      "execution_count": 12,
      "outputs": [
        {
          "output_type": "execute_result",
          "data": {
            "text/plain": [
              "(48000, 89)"
            ]
          },
          "metadata": {
            "tags": []
          },
          "execution_count": 12
        }
      ]
    },
    {
      "cell_type": "code",
      "metadata": {
        "id": "QlRW8uWLBpcR",
        "outputId": "59540a69-dbf8-4d97-aa20-a98bb88e58da",
        "colab": {
          "base_uri": "https://localhost:8080/",
          "height": 204
        }
      },
      "source": [
        "var = pd.DataFrame(train.dtypes).reset_index()\n",
        "var.head()"
      ],
      "execution_count": 6,
      "outputs": [
        {
          "output_type": "execute_result",
          "data": {
            "text/html": [
              "<div>\n",
              "<style scoped>\n",
              "    .dataframe tbody tr th:only-of-type {\n",
              "        vertical-align: middle;\n",
              "    }\n",
              "\n",
              "    .dataframe tbody tr th {\n",
              "        vertical-align: top;\n",
              "    }\n",
              "\n",
              "    .dataframe thead th {\n",
              "        text-align: right;\n",
              "    }\n",
              "</style>\n",
              "<table border=\"1\" class=\"dataframe\">\n",
              "  <thead>\n",
              "    <tr style=\"text-align: right;\">\n",
              "      <th></th>\n",
              "      <th>index</th>\n",
              "      <th>0</th>\n",
              "    </tr>\n",
              "  </thead>\n",
              "  <tbody>\n",
              "    <tr>\n",
              "      <th>0</th>\n",
              "      <td>Unnamed: 0</td>\n",
              "      <td>int64</td>\n",
              "    </tr>\n",
              "    <tr>\n",
              "      <th>1</th>\n",
              "      <td>Unnamed: 0.1</td>\n",
              "      <td>int64</td>\n",
              "    </tr>\n",
              "    <tr>\n",
              "      <th>2</th>\n",
              "      <td>id</td>\n",
              "      <td>int64</td>\n",
              "    </tr>\n",
              "    <tr>\n",
              "      <th>3</th>\n",
              "      <td>loan_default</td>\n",
              "      <td>int64</td>\n",
              "    </tr>\n",
              "    <tr>\n",
              "      <th>4</th>\n",
              "      <td>AP001</td>\n",
              "      <td>int64</td>\n",
              "    </tr>\n",
              "  </tbody>\n",
              "</table>\n",
              "</div>"
            ],
            "text/plain": [
              "          index      0\n",
              "0    Unnamed: 0  int64\n",
              "1  Unnamed: 0.1  int64\n",
              "2            id  int64\n",
              "3  loan_default  int64\n",
              "4         AP001  int64"
            ]
          },
          "metadata": {
            "tags": []
          },
          "execution_count": 6
        }
      ]
    },
    {
      "cell_type": "code",
      "metadata": {
        "id": "f6PhEnDwBzDr",
        "outputId": "c87553d8-513a-4de2-a2c1-c9646d68d3a6",
        "colab": {
          "base_uri": "https://localhost:8080/",
          "height": 204
        }
      },
      "source": [
        "var.columns = ['varname','dtype'] \n",
        "var['source'] = var['varname'].str[:2]\n",
        "var.head()"
      ],
      "execution_count": 7,
      "outputs": [
        {
          "output_type": "execute_result",
          "data": {
            "text/html": [
              "<div>\n",
              "<style scoped>\n",
              "    .dataframe tbody tr th:only-of-type {\n",
              "        vertical-align: middle;\n",
              "    }\n",
              "\n",
              "    .dataframe tbody tr th {\n",
              "        vertical-align: top;\n",
              "    }\n",
              "\n",
              "    .dataframe thead th {\n",
              "        text-align: right;\n",
              "    }\n",
              "</style>\n",
              "<table border=\"1\" class=\"dataframe\">\n",
              "  <thead>\n",
              "    <tr style=\"text-align: right;\">\n",
              "      <th></th>\n",
              "      <th>varname</th>\n",
              "      <th>dtype</th>\n",
              "      <th>source</th>\n",
              "    </tr>\n",
              "  </thead>\n",
              "  <tbody>\n",
              "    <tr>\n",
              "      <th>0</th>\n",
              "      <td>Unnamed: 0</td>\n",
              "      <td>int64</td>\n",
              "      <td>Un</td>\n",
              "    </tr>\n",
              "    <tr>\n",
              "      <th>1</th>\n",
              "      <td>Unnamed: 0.1</td>\n",
              "      <td>int64</td>\n",
              "      <td>Un</td>\n",
              "    </tr>\n",
              "    <tr>\n",
              "      <th>2</th>\n",
              "      <td>id</td>\n",
              "      <td>int64</td>\n",
              "      <td>id</td>\n",
              "    </tr>\n",
              "    <tr>\n",
              "      <th>3</th>\n",
              "      <td>loan_default</td>\n",
              "      <td>int64</td>\n",
              "      <td>lo</td>\n",
              "    </tr>\n",
              "    <tr>\n",
              "      <th>4</th>\n",
              "      <td>AP001</td>\n",
              "      <td>int64</td>\n",
              "      <td>AP</td>\n",
              "    </tr>\n",
              "  </tbody>\n",
              "</table>\n",
              "</div>"
            ],
            "text/plain": [
              "        varname  dtype source\n",
              "0    Unnamed: 0  int64     Un\n",
              "1  Unnamed: 0.1  int64     Un\n",
              "2            id  int64     id\n",
              "3  loan_default  int64     lo\n",
              "4         AP001  int64     AP"
            ]
          },
          "metadata": {
            "tags": []
          },
          "execution_count": 7
        }
      ]
    },
    {
      "cell_type": "code",
      "metadata": {
        "id": "dOsRYuMFB7j9",
        "outputId": "32ccb0ab-f1b2-4320-8a17-0e70cf11636c",
        "colab": {
          "base_uri": "https://localhost:8080/"
        }
      },
      "source": [
        "var['source'].value_counts()"
      ],
      "execution_count": 8,
      "outputs": [
        {
          "output_type": "execute_result",
          "data": {
            "text/plain": [
              "CD    36\n",
              "TD    24\n",
              "AP     9\n",
              "CR     8\n",
              "PA     6\n",
              "Un     2\n",
              "MB     2\n",
              "lo     1\n",
              "id     1\n",
              "Name: source, dtype: int64"
            ]
          },
          "metadata": {
            "tags": []
          },
          "execution_count": 8
        }
      ]
    },
    {
      "cell_type": "code",
      "metadata": {
        "id": "jb5v7rWKCAwh",
        "outputId": "3ecb5a47-4ab8-4dfb-8f33-0e18996254ba",
        "colab": {
          "base_uri": "https://localhost:8080/"
        }
      },
      "source": [
        "train['AP004'].unique()"
      ],
      "execution_count": 21,
      "outputs": [
        {
          "output_type": "execute_result",
          "data": {
            "text/plain": [
              "array([12,  9,  3,  6])"
            ]
          },
          "metadata": {
            "tags": []
          },
          "execution_count": 21
        }
      ]
    },
    {
      "cell_type": "code",
      "metadata": {
        "id": "C4GlHWLoCU1N",
        "outputId": "0637db24-1e2e-45e7-8e6f-84bf9be6b3f0",
        "colab": {
          "base_uri": "https://localhost:8080/",
          "height": 282
        }
      },
      "source": [
        "train['AP004'].hist()"
      ],
      "execution_count": 22,
      "outputs": [
        {
          "output_type": "execute_result",
          "data": {
            "text/plain": [
              "<matplotlib.axes._subplots.AxesSubplot at 0x7f955316c0b8>"
            ]
          },
          "metadata": {
            "tags": []
          },
          "execution_count": 22
        },
        {
          "output_type": "display_data",
          "data": {
            "image/png": "[encoded data removed]",
            "text/plain": [
              "<Figure size 432x288 with 1 Axes>"
            ]
          },
          "metadata": {
            "tags": [],
            "needs_background": "light"
          }
        }
      ]
    },
    {
      "cell_type": "code",
      "metadata": {
        "id": "dI7KIg8ZCkbM",
        "outputId": "3e4aaccf-cde1-4c45-a7be-21e49fff95c1",
        "colab": {
          "base_uri": "https://localhost:8080/"
        }
      },
      "source": [
        "train['loan_default'].value_counts(dropna=False)"
      ],
      "execution_count": 25,
      "outputs": [
        {
          "output_type": "execute_result",
          "data": {
            "text/plain": [
              "0    38736\n",
              "1     9264\n",
              "Name: loan_default, dtype: int64"
            ]
          },
          "metadata": {
            "tags": []
          },
          "execution_count": 25
        }
      ]
    },
    {
      "cell_type": "code",
      "metadata": {
        "id": "EUE4Kd5bCAGz"
      },
      "source": [
        "MB_list = list(var[var['source']=='MB']['varname'])\n",
        "AP_list = list(var[var['source']=='AP']['varname'])\n",
        "TD_list = list(var[var['source']=='TD']['varname'])\n",
        "CR_list = list(var[var['source']=='CR']['varname'])\n",
        "PA_list = list(var[var['source']=='PA']['varname'])\n",
        "CD_list = list(var[var['source']=='CD']['varname'])"
      ],
      "execution_count": 9,
      "outputs": []
    },
    {
      "cell_type": "code",
      "metadata": {
        "id": "IA5GHnvC7PGy"
      },
      "source": [
        "import h2o\n",
        "from h2o.estimators.random_forest import H2ORandomForestEstimator"
      ],
      "execution_count": 10,
      "outputs": []
    },
    {
      "cell_type": "code",
      "metadata": {
        "id": "LUYmN7v3DDuY",
        "outputId": "e24d307d-0926-4eb2-9c4a-071ba2080751",
        "colab": {
          "base_uri": "https://localhost:8080/",
          "height": 545
        }
      },
      "source": [
        "h2o.init()"
      ],
      "execution_count": 11,
      "outputs": [
        {
          "output_type": "stream",
          "text": [
            "Checking whether there is an H2O instance running at http://localhost:54321 ..... not found.\n",
            "Attempting to start a local H2O server...\n",
            "  Java Version: openjdk version \"11.0.9\" 2020-10-20; OpenJDK Runtime Environment (build 11.0.9+11-Ubuntu-0ubuntu1.18.04.1); OpenJDK 64-Bit Server VM (build 11.0.9+11-Ubuntu-0ubuntu1.18.04.1, mixed mode, sharing)\n",
            "  Starting server from /usr/local/lib/python3.6/dist-packages/h2o/backend/bin/h2o.jar\n",
            "  Ice root: /tmp/tmp_cst1lgp\n",
            "  JVM stdout: /tmp/tmp_cst1lgp/h2o_unknownUser_started_from_python.out\n",
            "  JVM stderr: /tmp/tmp_cst1lgp/h2o_unknownUser_started_from_python.err\n",
            "  Server is running at http://127.0.0.1:54321\n",
            "Connecting to H2O server at http://127.0.0.1:54321 ... successful.\n"
          ],
          "name": "stdout"
        },
        {
          "output_type": "display_data",
          "data": {
            "text/html": [
              "<div style=\"overflow:auto\"><table style=\"width:50%\"><tr><td>H2O_cluster_uptime:</td>\n",
              "<td>02 secs</td></tr>\n",
              "<tr><td>H2O_cluster_timezone:</td>\n",
              "<td>Etc/UTC</td></tr>\n",
              "<tr><td>H2O_data_parsing_timezone:</td>\n",
              "<td>UTC</td></tr>\n",
              "<tr><td>H2O_cluster_version:</td>\n",
              "<td>3.30.1.3</td></tr>\n",
              "<tr><td>H2O_cluster_version_age:</td>\n",
              "<td>1 month and 5 days </td></tr>\n",
              "<tr><td>H2O_cluster_name:</td>\n",
              "<td>H2O_from_python_unknownUser_zuzxcs</td></tr>\n",
              "<tr><td>H2O_cluster_total_nodes:</td>\n",
              "<td>1</td></tr>\n",
              "<tr><td>H2O_cluster_free_memory:</td>\n",
              "<td>3.180 Gb</td></tr>\n",
              "<tr><td>H2O_cluster_total_cores:</td>\n",
              "<td>2</td></tr>\n",
              "<tr><td>H2O_cluster_allowed_cores:</td>\n",
              "<td>2</td></tr>\n",
              "<tr><td>H2O_cluster_status:</td>\n",
              "<td>accepting new members, healthy</td></tr>\n",
              "<tr><td>H2O_connection_url:</td>\n",
              "<td>http://127.0.0.1:54321</td></tr>\n",
              "<tr><td>H2O_connection_proxy:</td>\n",
              "<td>{\"http\": null, \"https\": null}</td></tr>\n",
              "<tr><td>H2O_internal_security:</td>\n",
              "<td>False</td></tr>\n",
              "<tr><td>H2O_API_Extensions:</td>\n",
              "<td>Amazon S3, XGBoost, Algos, AutoML, Core V3, TargetEncoder, Core V4</td></tr>\n",
              "<tr><td>Python_version:</td>\n",
              "<td>3.6.9 final</td></tr></table></div>"
            ],
            "text/plain": [
              "--------------------------  ------------------------------------------------------------------\n",
              "H2O_cluster_uptime:         02 secs\n",
              "H2O_cluster_timezone:       Etc/UTC\n",
              "H2O_data_parsing_timezone:  UTC\n",
              "H2O_cluster_version:        3.30.1.3\n",
              "H2O_cluster_version_age:    1 month and 5 days\n",
              "H2O_cluster_name:           H2O_from_python_unknownUser_zuzxcs\n",
              "H2O_cluster_total_nodes:    1\n",
              "H2O_cluster_free_memory:    3.180 Gb\n",
              "H2O_cluster_total_cores:    2\n",
              "H2O_cluster_allowed_cores:  2\n",
              "H2O_cluster_status:         accepting new members, healthy\n",
              "H2O_connection_url:         http://127.0.0.1:54321\n",
              "H2O_connection_proxy:       {\"http\": null, \"https\": null}\n",
              "H2O_internal_security:      False\n",
              "H2O_API_Extensions:         Amazon S3, XGBoost, Algos, AutoML, Core V3, TargetEncoder, Core V4\n",
              "Python_version:             3.6.9 final\n",
              "--------------------------  ------------------------------------------------------------------"
            ]
          },
          "metadata": {
            "tags": []
          }
        }
      ]
    },
    {
      "cell_type": "markdown",
      "metadata": {
        "id": "bObXTsnQuJnW"
      },
      "source": [
        "Portion"
      ]
    },
    {
      "cell_type": "code",
      "metadata": {
        "id": "KSmIwI7_Cpoh",
        "outputId": "b71503d8-661e-4254-db6d-3895e0565120",
        "colab": {
          "base_uri": "https://localhost:8080/"
        }
      },
      "source": [
        "train_smpl = train.sample(frac=0.1, random_state=1)\n",
        "test_smpl = test.sample(frac=0.1, random_state=1)\n",
        "train_hex = h2o.H2OFrame(train_smpl)\n",
        "test_hex = h2o.H2OFrame(test_smpl)\n"
      ],
      "execution_count": 14,
      "outputs": [
        {
          "output_type": "stream",
          "text": [
            "Parse progress: |█████████████████████████████████████████████████████████| 100%\n",
            "Parse progress: |█████████████████████████████████████████████████████████| 100%\n"
          ],
          "name": "stdout"
        }
      ]
    },
    {
      "cell_type": "markdown",
      "metadata": {
        "id": "H8iviPWmuLPH"
      },
      "source": [
        "Whole Dataset"
      ]
    },
    {
      "cell_type": "code",
      "metadata": {
        "id": "7DRwVRFDNKvw",
        "outputId": "40eec3b0-c532-4f32-f40b-8b87c3e29394",
        "colab": {
          "base_uri": "https://localhost:8080/"
        }
      },
      "source": [
        "df_hex = h2o.H2OFrame(loan_data)\n",
        "train_hex2 = h2o.H2OFrame(train)\n",
        "test_hex2 = h2o.H2OFrame(test)"
      ],
      "execution_count": 58,
      "outputs": [
        {
          "output_type": "stream",
          "text": [
            "Parse progress: |█████████████████████████████████████████████████████████| 100%\n",
            "Parse progress: |█████████████████████████████████████████████████████████| 100%\n",
            "Parse progress: |█████████████████████████████████████████████████████████| 100%\n"
          ],
          "name": "stdout"
        }
      ]
    },
    {
      "cell_type": "markdown",
      "metadata": {
        "id": "ELB2YbPUOrHe"
      },
      "source": [
        "## Part2: Data Cleaning: drop variable, compute NA, Encoding"
      ]
    },
    {
      "cell_type": "markdown",
      "metadata": {
        "id": "T83s5o4puNMP"
      },
      "source": [
        "Drop the time"
      ]
    },
    {
      "cell_type": "code",
      "metadata": {
        "id": "1cXkuJS520-Z"
      },
      "source": [
        "loan_data2 = loan_data.drop('AP005',axis=1)"
      ],
      "execution_count": 126,
      "outputs": []
    },
    {
      "cell_type": "code",
      "metadata": {
        "id": "gfl6qPaI2eH_",
        "outputId": "c2a29ea8-bb12-4590-aaf2-c15258e6d97b",
        "colab": {
          "base_uri": "https://localhost:8080/",
          "height": 270
        }
      },
      "source": [
        "loan_data2.head(5)"
      ],
      "execution_count": 85,
      "outputs": [
        {
          "output_type": "execute_result",
          "data": {
            "text/html": [
              "<div>\n",
              "<style scoped>\n",
              "    .dataframe tbody tr th:only-of-type {\n",
              "        vertical-align: middle;\n",
              "    }\n",
              "\n",
              "    .dataframe tbody tr th {\n",
              "        vertical-align: top;\n",
              "    }\n",
              "\n",
              "    .dataframe thead th {\n",
              "        text-align: right;\n",
              "    }\n",
              "</style>\n",
              "<table border=\"1\" class=\"dataframe\">\n",
              "  <thead>\n",
              "    <tr style=\"text-align: right;\">\n",
              "      <th></th>\n",
              "      <th>Unnamed: 0</th>\n",
              "      <th>Unnamed: 0.1</th>\n",
              "      <th>id</th>\n",
              "      <th>loan_default</th>\n",
              "      <th>AP001</th>\n",
              "      <th>AP002</th>\n",
              "      <th>AP003</th>\n",
              "      <th>AP004</th>\n",
              "      <th>AP006</th>\n",
              "      <th>AP007</th>\n",
              "      <th>AP008</th>\n",
              "      <th>AP009</th>\n",
              "      <th>TD001</th>\n",
              "      <th>TD002</th>\n",
              "      <th>TD005</th>\n",
              "      <th>TD006</th>\n",
              "      <th>TD009</th>\n",
              "      <th>TD010</th>\n",
              "      <th>TD013</th>\n",
              "      <th>TD014</th>\n",
              "      <th>TD015</th>\n",
              "      <th>TD022</th>\n",
              "      <th>TD023</th>\n",
              "      <th>TD024</th>\n",
              "      <th>TD025</th>\n",
              "      <th>TD026</th>\n",
              "      <th>TD027</th>\n",
              "      <th>TD028</th>\n",
              "      <th>TD029</th>\n",
              "      <th>TD044</th>\n",
              "      <th>TD048</th>\n",
              "      <th>TD051</th>\n",
              "      <th>TD054</th>\n",
              "      <th>TD055</th>\n",
              "      <th>TD061</th>\n",
              "      <th>TD062</th>\n",
              "      <th>CR004</th>\n",
              "      <th>CR005</th>\n",
              "      <th>CR009</th>\n",
              "      <th>CR012</th>\n",
              "      <th>...</th>\n",
              "      <th>PA030</th>\n",
              "      <th>PA031</th>\n",
              "      <th>CD008</th>\n",
              "      <th>CD018</th>\n",
              "      <th>CD071</th>\n",
              "      <th>CD072</th>\n",
              "      <th>CD088</th>\n",
              "      <th>CD100</th>\n",
              "      <th>CD101</th>\n",
              "      <th>CD106</th>\n",
              "      <th>CD107</th>\n",
              "      <th>CD108</th>\n",
              "      <th>CD113</th>\n",
              "      <th>CD114</th>\n",
              "      <th>CD115</th>\n",
              "      <th>CD117</th>\n",
              "      <th>CD118</th>\n",
              "      <th>CD120</th>\n",
              "      <th>CD121</th>\n",
              "      <th>CD123</th>\n",
              "      <th>CD130</th>\n",
              "      <th>CD131</th>\n",
              "      <th>CD132</th>\n",
              "      <th>CD133</th>\n",
              "      <th>CD135</th>\n",
              "      <th>CD136</th>\n",
              "      <th>CD137</th>\n",
              "      <th>CD152</th>\n",
              "      <th>CD153</th>\n",
              "      <th>CD160</th>\n",
              "      <th>CD162</th>\n",
              "      <th>CD164</th>\n",
              "      <th>CD166</th>\n",
              "      <th>CD167</th>\n",
              "      <th>CD169</th>\n",
              "      <th>CD170</th>\n",
              "      <th>CD172</th>\n",
              "      <th>CD173</th>\n",
              "      <th>MB005</th>\n",
              "      <th>MB007</th>\n",
              "    </tr>\n",
              "  </thead>\n",
              "  <tbody>\n",
              "    <tr>\n",
              "      <th>0</th>\n",
              "      <td>0</td>\n",
              "      <td>1</td>\n",
              "      <td>1</td>\n",
              "      <td>1</td>\n",
              "      <td>31</td>\n",
              "      <td>2</td>\n",
              "      <td>1</td>\n",
              "      <td>12</td>\n",
              "      <td>ios</td>\n",
              "      <td>3</td>\n",
              "      <td>3</td>\n",
              "      <td>1</td>\n",
              "      <td>1</td>\n",
              "      <td>1</td>\n",
              "      <td>4</td>\n",
              "      <td>1</td>\n",
              "      <td>5</td>\n",
              "      <td>1</td>\n",
              "      <td>14</td>\n",
              "      <td>2</td>\n",
              "      <td>2</td>\n",
              "      <td>10.0</td>\n",
              "      <td>9.0</td>\n",
              "      <td>6.0</td>\n",
              "      <td>0.0</td>\n",
              "      <td>0.0</td>\n",
              "      <td>0.0</td>\n",
              "      <td>0.0</td>\n",
              "      <td>6.0</td>\n",
              "      <td>NaN</td>\n",
              "      <td>NaN</td>\n",
              "      <td>NaN</td>\n",
              "      <td>NaN</td>\n",
              "      <td>NaN</td>\n",
              "      <td>NaN</td>\n",
              "      <td>NaN</td>\n",
              "      <td>2</td>\n",
              "      <td>1</td>\n",
              "      <td>35807</td>\n",
              "      <td>0</td>\n",
              "      <td>...</td>\n",
              "      <td>-98.0</td>\n",
              "      <td>-98.0</td>\n",
              "      <td>13840.0</td>\n",
              "      <td>172.0</td>\n",
              "      <td>0.0</td>\n",
              "      <td>0.0</td>\n",
              "      <td>0.0</td>\n",
              "      <td>0.0</td>\n",
              "      <td>0.0</td>\n",
              "      <td>1.0</td>\n",
              "      <td>0.0</td>\n",
              "      <td>1.0</td>\n",
              "      <td>0.0</td>\n",
              "      <td>1.0</td>\n",
              "      <td>57.0</td>\n",
              "      <td>48.0</td>\n",
              "      <td>95.0</td>\n",
              "      <td>79.0</td>\n",
              "      <td>125.0</td>\n",
              "      <td>103.0</td>\n",
              "      <td>43.0</td>\n",
              "      <td>55.0</td>\n",
              "      <td>56.0</td>\n",
              "      <td>52.0</td>\n",
              "      <td>65.0</td>\n",
              "      <td>91.0</td>\n",
              "      <td>96.0</td>\n",
              "      <td>10900.0</td>\n",
              "      <td>12757.0</td>\n",
              "      <td>8.0</td>\n",
              "      <td>13.0</td>\n",
              "      <td>13.0</td>\n",
              "      <td>0.0</td>\n",
              "      <td>0.0</td>\n",
              "      <td>1449.0</td>\n",
              "      <td>1449.0</td>\n",
              "      <td>2249.0</td>\n",
              "      <td>2249.0</td>\n",
              "      <td>7.0</td>\n",
              "      <td>IPHONE7</td>\n",
              "    </tr>\n",
              "    <tr>\n",
              "      <th>1</th>\n",
              "      <td>1</td>\n",
              "      <td>2</td>\n",
              "      <td>2</td>\n",
              "      <td>0</td>\n",
              "      <td>27</td>\n",
              "      <td>1</td>\n",
              "      <td>1</td>\n",
              "      <td>12</td>\n",
              "      <td>h5</td>\n",
              "      <td>5</td>\n",
              "      <td>4</td>\n",
              "      <td>0</td>\n",
              "      <td>2</td>\n",
              "      <td>0</td>\n",
              "      <td>3</td>\n",
              "      <td>1</td>\n",
              "      <td>3</td>\n",
              "      <td>1</td>\n",
              "      <td>3</td>\n",
              "      <td>2</td>\n",
              "      <td>0</td>\n",
              "      <td>15.0</td>\n",
              "      <td>6.0</td>\n",
              "      <td>0.0</td>\n",
              "      <td>0.0</td>\n",
              "      <td>0.0</td>\n",
              "      <td>0.0</td>\n",
              "      <td>0.0</td>\n",
              "      <td>6.0</td>\n",
              "      <td>NaN</td>\n",
              "      <td>NaN</td>\n",
              "      <td>NaN</td>\n",
              "      <td>NaN</td>\n",
              "      <td>NaN</td>\n",
              "      <td>NaN</td>\n",
              "      <td>NaN</td>\n",
              "      <td>3</td>\n",
              "      <td>1</td>\n",
              "      <td>7254</td>\n",
              "      <td>0</td>\n",
              "      <td>...</td>\n",
              "      <td>-98.0</td>\n",
              "      <td>-98.0</td>\n",
              "      <td>-99.0</td>\n",
              "      <td>-99.0</td>\n",
              "      <td>-99.0</td>\n",
              "      <td>-99.0</td>\n",
              "      <td>-99.0</td>\n",
              "      <td>-99.0</td>\n",
              "      <td>-99.0</td>\n",
              "      <td>-99.0</td>\n",
              "      <td>-99.0</td>\n",
              "      <td>-99.0</td>\n",
              "      <td>-99.0</td>\n",
              "      <td>-99.0</td>\n",
              "      <td>-99.0</td>\n",
              "      <td>-99.0</td>\n",
              "      <td>-99.0</td>\n",
              "      <td>-99.0</td>\n",
              "      <td>-99.0</td>\n",
              "      <td>-99.0</td>\n",
              "      <td>-99.0</td>\n",
              "      <td>-99.0</td>\n",
              "      <td>-99.0</td>\n",
              "      <td>-99.0</td>\n",
              "      <td>-99.0</td>\n",
              "      <td>-99.0</td>\n",
              "      <td>-99.0</td>\n",
              "      <td>-99.0</td>\n",
              "      <td>-99.0</td>\n",
              "      <td>-99.0</td>\n",
              "      <td>-99.0</td>\n",
              "      <td>-99.0</td>\n",
              "      <td>-99.0</td>\n",
              "      <td>-99.0</td>\n",
              "      <td>-99.0</td>\n",
              "      <td>-99.0</td>\n",
              "      <td>-99.0</td>\n",
              "      <td>-99.0</td>\n",
              "      <td>NaN</td>\n",
              "      <td>WEB</td>\n",
              "    </tr>\n",
              "    <tr>\n",
              "      <th>2</th>\n",
              "      <td>2</td>\n",
              "      <td>3</td>\n",
              "      <td>3</td>\n",
              "      <td>0</td>\n",
              "      <td>33</td>\n",
              "      <td>1</td>\n",
              "      <td>4</td>\n",
              "      <td>12</td>\n",
              "      <td>h5</td>\n",
              "      <td>4</td>\n",
              "      <td>2</td>\n",
              "      <td>0</td>\n",
              "      <td>2</td>\n",
              "      <td>1</td>\n",
              "      <td>4</td>\n",
              "      <td>1</td>\n",
              "      <td>5</td>\n",
              "      <td>1</td>\n",
              "      <td>9</td>\n",
              "      <td>1</td>\n",
              "      <td>2</td>\n",
              "      <td>15.0</td>\n",
              "      <td>9.0</td>\n",
              "      <td>2.0</td>\n",
              "      <td>0.0</td>\n",
              "      <td>0.0</td>\n",
              "      <td>0.0</td>\n",
              "      <td>0.0</td>\n",
              "      <td>6.0</td>\n",
              "      <td>NaN</td>\n",
              "      <td>NaN</td>\n",
              "      <td>NaN</td>\n",
              "      <td>NaN</td>\n",
              "      <td>NaN</td>\n",
              "      <td>NaN</td>\n",
              "      <td>NaN</td>\n",
              "      <td>2</td>\n",
              "      <td>2</td>\n",
              "      <td>30377</td>\n",
              "      <td>0</td>\n",
              "      <td>...</td>\n",
              "      <td>-98.0</td>\n",
              "      <td>-98.0</td>\n",
              "      <td>2454.0</td>\n",
              "      <td>13.0</td>\n",
              "      <td>0.0</td>\n",
              "      <td>0.0</td>\n",
              "      <td>0.0</td>\n",
              "      <td>0.0</td>\n",
              "      <td>0.0</td>\n",
              "      <td>0.0</td>\n",
              "      <td>0.0</td>\n",
              "      <td>0.0</td>\n",
              "      <td>0.0</td>\n",
              "      <td>0.0</td>\n",
              "      <td>13.0</td>\n",
              "      <td>13.0</td>\n",
              "      <td>20.0</td>\n",
              "      <td>20.0</td>\n",
              "      <td>23.0</td>\n",
              "      <td>21.0</td>\n",
              "      <td>11.0</td>\n",
              "      <td>9.0</td>\n",
              "      <td>10.0</td>\n",
              "      <td>12.0</td>\n",
              "      <td>13.0</td>\n",
              "      <td>9.0</td>\n",
              "      <td>11.0</td>\n",
              "      <td>3807.0</td>\n",
              "      <td>2314.0</td>\n",
              "      <td>0.0</td>\n",
              "      <td>3.0</td>\n",
              "      <td>2.0</td>\n",
              "      <td>33.0</td>\n",
              "      <td>0.0</td>\n",
              "      <td>33.0</td>\n",
              "      <td>0.0</td>\n",
              "      <td>143.0</td>\n",
              "      <td>110.0</td>\n",
              "      <td>8.0</td>\n",
              "      <td>WEB</td>\n",
              "    </tr>\n",
              "    <tr>\n",
              "      <th>3</th>\n",
              "      <td>3</td>\n",
              "      <td>4</td>\n",
              "      <td>4</td>\n",
              "      <td>0</td>\n",
              "      <td>34</td>\n",
              "      <td>2</td>\n",
              "      <td>4</td>\n",
              "      <td>12</td>\n",
              "      <td>android</td>\n",
              "      <td>5</td>\n",
              "      <td>5</td>\n",
              "      <td>0</td>\n",
              "      <td>0</td>\n",
              "      <td>0</td>\n",
              "      <td>0</td>\n",
              "      <td>0</td>\n",
              "      <td>0</td>\n",
              "      <td>0</td>\n",
              "      <td>1</td>\n",
              "      <td>1</td>\n",
              "      <td>0</td>\n",
              "      <td>NaN</td>\n",
              "      <td>NaN</td>\n",
              "      <td>NaN</td>\n",
              "      <td>0.0</td>\n",
              "      <td>0.0</td>\n",
              "      <td>0.0</td>\n",
              "      <td>0.0</td>\n",
              "      <td>6.0</td>\n",
              "      <td>NaN</td>\n",
              "      <td>NaN</td>\n",
              "      <td>NaN</td>\n",
              "      <td>NaN</td>\n",
              "      <td>NaN</td>\n",
              "      <td>NaN</td>\n",
              "      <td>NaN</td>\n",
              "      <td>2</td>\n",
              "      <td>1</td>\n",
              "      <td>0</td>\n",
              "      <td>0</td>\n",
              "      <td>...</td>\n",
              "      <td>-98.0</td>\n",
              "      <td>-98.0</td>\n",
              "      <td>0.0</td>\n",
              "      <td>0.0</td>\n",
              "      <td>0.0</td>\n",
              "      <td>0.0</td>\n",
              "      <td>0.0</td>\n",
              "      <td>0.0</td>\n",
              "      <td>0.0</td>\n",
              "      <td>0.0</td>\n",
              "      <td>0.0</td>\n",
              "      <td>0.0</td>\n",
              "      <td>0.0</td>\n",
              "      <td>0.0</td>\n",
              "      <td>0.0</td>\n",
              "      <td>0.0</td>\n",
              "      <td>0.0</td>\n",
              "      <td>0.0</td>\n",
              "      <td>0.0</td>\n",
              "      <td>0.0</td>\n",
              "      <td>0.0</td>\n",
              "      <td>0.0</td>\n",
              "      <td>0.0</td>\n",
              "      <td>0.0</td>\n",
              "      <td>0.0</td>\n",
              "      <td>0.0</td>\n",
              "      <td>0.0</td>\n",
              "      <td>0.0</td>\n",
              "      <td>0.0</td>\n",
              "      <td>0.0</td>\n",
              "      <td>0.0</td>\n",
              "      <td>0.0</td>\n",
              "      <td>0.0</td>\n",
              "      <td>0.0</td>\n",
              "      <td>0.0</td>\n",
              "      <td>0.0</td>\n",
              "      <td>0.0</td>\n",
              "      <td>0.0</td>\n",
              "      <td>10.0</td>\n",
              "      <td>OPPO</td>\n",
              "    </tr>\n",
              "    <tr>\n",
              "      <th>4</th>\n",
              "      <td>4</td>\n",
              "      <td>5</td>\n",
              "      <td>5</td>\n",
              "      <td>0</td>\n",
              "      <td>47</td>\n",
              "      <td>2</td>\n",
              "      <td>1</td>\n",
              "      <td>12</td>\n",
              "      <td>h5</td>\n",
              "      <td>4</td>\n",
              "      <td>4</td>\n",
              "      <td>1</td>\n",
              "      <td>2</td>\n",
              "      <td>0</td>\n",
              "      <td>2</td>\n",
              "      <td>1</td>\n",
              "      <td>2</td>\n",
              "      <td>1</td>\n",
              "      <td>2</td>\n",
              "      <td>1</td>\n",
              "      <td>0</td>\n",
              "      <td>10.0</td>\n",
              "      <td>3.0</td>\n",
              "      <td>0.0</td>\n",
              "      <td>0.0</td>\n",
              "      <td>0.0</td>\n",
              "      <td>0.0</td>\n",
              "      <td>0.0</td>\n",
              "      <td>6.0</td>\n",
              "      <td>NaN</td>\n",
              "      <td>NaN</td>\n",
              "      <td>NaN</td>\n",
              "      <td>NaN</td>\n",
              "      <td>NaN</td>\n",
              "      <td>NaN</td>\n",
              "      <td>NaN</td>\n",
              "      <td>4</td>\n",
              "      <td>2</td>\n",
              "      <td>0</td>\n",
              "      <td>0</td>\n",
              "      <td>...</td>\n",
              "      <td>-99.0</td>\n",
              "      <td>-99.0</td>\n",
              "      <td>-99.0</td>\n",
              "      <td>-99.0</td>\n",
              "      <td>-99.0</td>\n",
              "      <td>-99.0</td>\n",
              "      <td>-99.0</td>\n",
              "      <td>-99.0</td>\n",
              "      <td>-99.0</td>\n",
              "      <td>-99.0</td>\n",
              "      <td>-99.0</td>\n",
              "      <td>-99.0</td>\n",
              "      <td>-99.0</td>\n",
              "      <td>-99.0</td>\n",
              "      <td>-99.0</td>\n",
              "      <td>-99.0</td>\n",
              "      <td>-99.0</td>\n",
              "      <td>-99.0</td>\n",
              "      <td>-99.0</td>\n",
              "      <td>-99.0</td>\n",
              "      <td>-99.0</td>\n",
              "      <td>-99.0</td>\n",
              "      <td>-99.0</td>\n",
              "      <td>-99.0</td>\n",
              "      <td>-99.0</td>\n",
              "      <td>-99.0</td>\n",
              "      <td>-99.0</td>\n",
              "      <td>-99.0</td>\n",
              "      <td>-99.0</td>\n",
              "      <td>-99.0</td>\n",
              "      <td>-99.0</td>\n",
              "      <td>-99.0</td>\n",
              "      <td>-99.0</td>\n",
              "      <td>-99.0</td>\n",
              "      <td>-99.0</td>\n",
              "      <td>-99.0</td>\n",
              "      <td>-99.0</td>\n",
              "      <td>-99.0</td>\n",
              "      <td>NaN</td>\n",
              "      <td>WEB</td>\n",
              "    </tr>\n",
              "  </tbody>\n",
              "</table>\n",
              "<p>5 rows × 88 columns</p>\n",
              "</div>"
            ],
            "text/plain": [
              "   Unnamed: 0  Unnamed: 0.1  id  loan_default  ...   CD172   CD173  MB005    MB007\n",
              "0           0             1   1             1  ...  2249.0  2249.0    7.0  IPHONE7\n",
              "1           1             2   2             0  ...   -99.0   -99.0    NaN      WEB\n",
              "2           2             3   3             0  ...   143.0   110.0    8.0      WEB\n",
              "3           3             4   4             0  ...     0.0     0.0   10.0     OPPO\n",
              "4           4             5   5             0  ...   -99.0   -99.0    NaN      WEB\n",
              "\n",
              "[5 rows x 88 columns]"
            ]
          },
          "metadata": {
            "tags": []
          },
          "execution_count": 85
        }
      ]
    },
    {
      "cell_type": "markdown",
      "metadata": {
        "id": "pwxtjPji2I5D"
      },
      "source": [
        "One hot encoding for variable \"AP006\""
      ]
    },
    {
      "cell_type": "code",
      "metadata": {
        "id": "xTpcFDzs2IJl",
        "outputId": "6946f79a-5874-44a9-fc78-73bd4bc83543",
        "colab": {
          "base_uri": "https://localhost:8080/",
          "height": 204
        }
      },
      "source": [
        "dummies = pd.get_dummies(loan_data2['AP006'],dummy_na=True)\n",
        "dummies.head()"
      ],
      "execution_count": 127,
      "outputs": [
        {
          "output_type": "execute_result",
          "data": {
            "text/html": [
              "<div>\n",
              "<style scoped>\n",
              "    .dataframe tbody tr th:only-of-type {\n",
              "        vertical-align: middle;\n",
              "    }\n",
              "\n",
              "    .dataframe tbody tr th {\n",
              "        vertical-align: top;\n",
              "    }\n",
              "\n",
              "    .dataframe thead th {\n",
              "        text-align: right;\n",
              "    }\n",
              "</style>\n",
              "<table border=\"1\" class=\"dataframe\">\n",
              "  <thead>\n",
              "    <tr style=\"text-align: right;\">\n",
              "      <th></th>\n",
              "      <th>android</th>\n",
              "      <th>api</th>\n",
              "      <th>h5</th>\n",
              "      <th>ios</th>\n",
              "      <th>NaN</th>\n",
              "    </tr>\n",
              "  </thead>\n",
              "  <tbody>\n",
              "    <tr>\n",
              "      <th>0</th>\n",
              "      <td>0</td>\n",
              "      <td>0</td>\n",
              "      <td>0</td>\n",
              "      <td>1</td>\n",
              "      <td>0</td>\n",
              "    </tr>\n",
              "    <tr>\n",
              "      <th>1</th>\n",
              "      <td>0</td>\n",
              "      <td>0</td>\n",
              "      <td>1</td>\n",
              "      <td>0</td>\n",
              "      <td>0</td>\n",
              "    </tr>\n",
              "    <tr>\n",
              "      <th>2</th>\n",
              "      <td>0</td>\n",
              "      <td>0</td>\n",
              "      <td>1</td>\n",
              "      <td>0</td>\n",
              "      <td>0</td>\n",
              "    </tr>\n",
              "    <tr>\n",
              "      <th>3</th>\n",
              "      <td>1</td>\n",
              "      <td>0</td>\n",
              "      <td>0</td>\n",
              "      <td>0</td>\n",
              "      <td>0</td>\n",
              "    </tr>\n",
              "    <tr>\n",
              "      <th>4</th>\n",
              "      <td>0</td>\n",
              "      <td>0</td>\n",
              "      <td>1</td>\n",
              "      <td>0</td>\n",
              "      <td>0</td>\n",
              "    </tr>\n",
              "  </tbody>\n",
              "</table>\n",
              "</div>"
            ],
            "text/plain": [
              "   android  api  h5  ios  NaN\n",
              "0        0    0   0    1    0\n",
              "1        0    0   1    0    0\n",
              "2        0    0   1    0    0\n",
              "3        1    0   0    0    0\n",
              "4        0    0   1    0    0"
            ]
          },
          "metadata": {
            "tags": []
          },
          "execution_count": 127
        }
      ]
    },
    {
      "cell_type": "code",
      "metadata": {
        "id": "mKotOxwj-sMA"
      },
      "source": [
        "dummies.columns = ['AP006_android', 'AP006_api', 'AP006_h5','AP006_ios','AP006_nan']"
      ],
      "execution_count": 129,
      "outputs": []
    },
    {
      "cell_type": "code",
      "metadata": {
        "id": "lpNx5cAp3mOR"
      },
      "source": [
        "loan_data3 = pd.concat([loan_data2, dummies], axis=1)"
      ],
      "execution_count": 131,
      "outputs": []
    },
    {
      "cell_type": "code",
      "metadata": {
        "id": "FcxFtmyj93TL",
        "outputId": "814c7ecb-8c09-4cbc-d29e-84098a583af0",
        "colab": {
          "base_uri": "https://localhost:8080/"
        }
      },
      "source": [
        "loan_data3.columns"
      ],
      "execution_count": 132,
      "outputs": [
        {
          "output_type": "execute_result",
          "data": {
            "text/plain": [
              "Index(['Unnamed: 0', 'Unnamed: 0.1', 'id', 'loan_default', 'AP001', 'AP002',\n",
              "       'AP003', 'AP004', 'AP006', 'AP007', 'AP008', 'AP009', 'TD001', 'TD002',\n",
              "       'TD005', 'TD006', 'TD009', 'TD010', 'TD013', 'TD014', 'TD015', 'TD022',\n",
              "       'TD023', 'TD024', 'TD025', 'TD026', 'TD027', 'TD028', 'TD029', 'TD044',\n",
              "       'TD048', 'TD051', 'TD054', 'TD055', 'TD061', 'TD062', 'CR004', 'CR005',\n",
              "       'CR009', 'CR012', 'CR015', 'CR017', 'CR018', 'CR019', 'PA022', 'PA023',\n",
              "       'PA028', 'PA029', 'PA030', 'PA031', 'CD008', 'CD018', 'CD071', 'CD072',\n",
              "       'CD088', 'CD100', 'CD101', 'CD106', 'CD107', 'CD108', 'CD113', 'CD114',\n",
              "       'CD115', 'CD117', 'CD118', 'CD120', 'CD121', 'CD123', 'CD130', 'CD131',\n",
              "       'CD132', 'CD133', 'CD135', 'CD136', 'CD137', 'CD152', 'CD153', 'CD160',\n",
              "       'CD162', 'CD164', 'CD166', 'CD167', 'CD169', 'CD170', 'CD172', 'CD173',\n",
              "       'MB005', 'MB007', 'AP006_android', 'AP006_api', 'AP006_h5', 'AP006_ios',\n",
              "       'AP006_nan'],\n",
              "      dtype='object')"
            ]
          },
          "metadata": {
            "tags": []
          },
          "execution_count": 132
        }
      ]
    },
    {
      "cell_type": "code",
      "metadata": {
        "id": "9izFEAG33YbS",
        "outputId": "c2ea8426-0c1c-4c5e-be58-cdfda31cc9c1",
        "colab": {
          "base_uri": "https://localhost:8080/",
          "height": 239
        }
      },
      "source": [
        "loan_data3 = loan_data3.drop(['AP006','AP006_nan'], axis=1)\n",
        "loan_data3.head(4)"
      ],
      "execution_count": 133,
      "outputs": [
        {
          "output_type": "execute_result",
          "data": {
            "text/html": [
              "<div>\n",
              "<style scoped>\n",
              "    .dataframe tbody tr th:only-of-type {\n",
              "        vertical-align: middle;\n",
              "    }\n",
              "\n",
              "    .dataframe tbody tr th {\n",
              "        vertical-align: top;\n",
              "    }\n",
              "\n",
              "    .dataframe thead th {\n",
              "        text-align: right;\n",
              "    }\n",
              "</style>\n",
              "<table border=\"1\" class=\"dataframe\">\n",
              "  <thead>\n",
              "    <tr style=\"text-align: right;\">\n",
              "      <th></th>\n",
              "      <th>Unnamed: 0</th>\n",
              "      <th>Unnamed: 0.1</th>\n",
              "      <th>id</th>\n",
              "      <th>loan_default</th>\n",
              "      <th>AP001</th>\n",
              "      <th>AP002</th>\n",
              "      <th>AP003</th>\n",
              "      <th>AP004</th>\n",
              "      <th>AP007</th>\n",
              "      <th>AP008</th>\n",
              "      <th>AP009</th>\n",
              "      <th>TD001</th>\n",
              "      <th>TD002</th>\n",
              "      <th>TD005</th>\n",
              "      <th>TD006</th>\n",
              "      <th>TD009</th>\n",
              "      <th>TD010</th>\n",
              "      <th>TD013</th>\n",
              "      <th>TD014</th>\n",
              "      <th>TD015</th>\n",
              "      <th>TD022</th>\n",
              "      <th>TD023</th>\n",
              "      <th>TD024</th>\n",
              "      <th>TD025</th>\n",
              "      <th>TD026</th>\n",
              "      <th>TD027</th>\n",
              "      <th>TD028</th>\n",
              "      <th>TD029</th>\n",
              "      <th>TD044</th>\n",
              "      <th>TD048</th>\n",
              "      <th>TD051</th>\n",
              "      <th>TD054</th>\n",
              "      <th>TD055</th>\n",
              "      <th>TD061</th>\n",
              "      <th>TD062</th>\n",
              "      <th>CR004</th>\n",
              "      <th>CR005</th>\n",
              "      <th>CR009</th>\n",
              "      <th>CR012</th>\n",
              "      <th>CR015</th>\n",
              "      <th>...</th>\n",
              "      <th>CD071</th>\n",
              "      <th>CD072</th>\n",
              "      <th>CD088</th>\n",
              "      <th>CD100</th>\n",
              "      <th>CD101</th>\n",
              "      <th>CD106</th>\n",
              "      <th>CD107</th>\n",
              "      <th>CD108</th>\n",
              "      <th>CD113</th>\n",
              "      <th>CD114</th>\n",
              "      <th>CD115</th>\n",
              "      <th>CD117</th>\n",
              "      <th>CD118</th>\n",
              "      <th>CD120</th>\n",
              "      <th>CD121</th>\n",
              "      <th>CD123</th>\n",
              "      <th>CD130</th>\n",
              "      <th>CD131</th>\n",
              "      <th>CD132</th>\n",
              "      <th>CD133</th>\n",
              "      <th>CD135</th>\n",
              "      <th>CD136</th>\n",
              "      <th>CD137</th>\n",
              "      <th>CD152</th>\n",
              "      <th>CD153</th>\n",
              "      <th>CD160</th>\n",
              "      <th>CD162</th>\n",
              "      <th>CD164</th>\n",
              "      <th>CD166</th>\n",
              "      <th>CD167</th>\n",
              "      <th>CD169</th>\n",
              "      <th>CD170</th>\n",
              "      <th>CD172</th>\n",
              "      <th>CD173</th>\n",
              "      <th>MB005</th>\n",
              "      <th>MB007</th>\n",
              "      <th>AP006_android</th>\n",
              "      <th>AP006_api</th>\n",
              "      <th>AP006_h5</th>\n",
              "      <th>AP006_ios</th>\n",
              "    </tr>\n",
              "  </thead>\n",
              "  <tbody>\n",
              "    <tr>\n",
              "      <th>0</th>\n",
              "      <td>0</td>\n",
              "      <td>1</td>\n",
              "      <td>1</td>\n",
              "      <td>1</td>\n",
              "      <td>31</td>\n",
              "      <td>2</td>\n",
              "      <td>1</td>\n",
              "      <td>12</td>\n",
              "      <td>3</td>\n",
              "      <td>3</td>\n",
              "      <td>1</td>\n",
              "      <td>1</td>\n",
              "      <td>1</td>\n",
              "      <td>4</td>\n",
              "      <td>1</td>\n",
              "      <td>5</td>\n",
              "      <td>1</td>\n",
              "      <td>14</td>\n",
              "      <td>2</td>\n",
              "      <td>2</td>\n",
              "      <td>10.0</td>\n",
              "      <td>9.0</td>\n",
              "      <td>6.0</td>\n",
              "      <td>0.0</td>\n",
              "      <td>0.0</td>\n",
              "      <td>0.0</td>\n",
              "      <td>0.0</td>\n",
              "      <td>6.0</td>\n",
              "      <td>NaN</td>\n",
              "      <td>NaN</td>\n",
              "      <td>NaN</td>\n",
              "      <td>NaN</td>\n",
              "      <td>NaN</td>\n",
              "      <td>NaN</td>\n",
              "      <td>NaN</td>\n",
              "      <td>2</td>\n",
              "      <td>1</td>\n",
              "      <td>35807</td>\n",
              "      <td>0</td>\n",
              "      <td>4</td>\n",
              "      <td>...</td>\n",
              "      <td>0.0</td>\n",
              "      <td>0.0</td>\n",
              "      <td>0.0</td>\n",
              "      <td>0.0</td>\n",
              "      <td>0.0</td>\n",
              "      <td>1.0</td>\n",
              "      <td>0.0</td>\n",
              "      <td>1.0</td>\n",
              "      <td>0.0</td>\n",
              "      <td>1.0</td>\n",
              "      <td>57.0</td>\n",
              "      <td>48.0</td>\n",
              "      <td>95.0</td>\n",
              "      <td>79.0</td>\n",
              "      <td>125.0</td>\n",
              "      <td>103.0</td>\n",
              "      <td>43.0</td>\n",
              "      <td>55.0</td>\n",
              "      <td>56.0</td>\n",
              "      <td>52.0</td>\n",
              "      <td>65.0</td>\n",
              "      <td>91.0</td>\n",
              "      <td>96.0</td>\n",
              "      <td>10900.0</td>\n",
              "      <td>12757.0</td>\n",
              "      <td>8.0</td>\n",
              "      <td>13.0</td>\n",
              "      <td>13.0</td>\n",
              "      <td>0.0</td>\n",
              "      <td>0.0</td>\n",
              "      <td>1449.0</td>\n",
              "      <td>1449.0</td>\n",
              "      <td>2249.0</td>\n",
              "      <td>2249.0</td>\n",
              "      <td>7.0</td>\n",
              "      <td>IPHONE7</td>\n",
              "      <td>0</td>\n",
              "      <td>0</td>\n",
              "      <td>0</td>\n",
              "      <td>1</td>\n",
              "    </tr>\n",
              "    <tr>\n",
              "      <th>1</th>\n",
              "      <td>1</td>\n",
              "      <td>2</td>\n",
              "      <td>2</td>\n",
              "      <td>0</td>\n",
              "      <td>27</td>\n",
              "      <td>1</td>\n",
              "      <td>1</td>\n",
              "      <td>12</td>\n",
              "      <td>5</td>\n",
              "      <td>4</td>\n",
              "      <td>0</td>\n",
              "      <td>2</td>\n",
              "      <td>0</td>\n",
              "      <td>3</td>\n",
              "      <td>1</td>\n",
              "      <td>3</td>\n",
              "      <td>1</td>\n",
              "      <td>3</td>\n",
              "      <td>2</td>\n",
              "      <td>0</td>\n",
              "      <td>15.0</td>\n",
              "      <td>6.0</td>\n",
              "      <td>0.0</td>\n",
              "      <td>0.0</td>\n",
              "      <td>0.0</td>\n",
              "      <td>0.0</td>\n",
              "      <td>0.0</td>\n",
              "      <td>6.0</td>\n",
              "      <td>NaN</td>\n",
              "      <td>NaN</td>\n",
              "      <td>NaN</td>\n",
              "      <td>NaN</td>\n",
              "      <td>NaN</td>\n",
              "      <td>NaN</td>\n",
              "      <td>NaN</td>\n",
              "      <td>3</td>\n",
              "      <td>1</td>\n",
              "      <td>7254</td>\n",
              "      <td>0</td>\n",
              "      <td>6</td>\n",
              "      <td>...</td>\n",
              "      <td>-99.0</td>\n",
              "      <td>-99.0</td>\n",
              "      <td>-99.0</td>\n",
              "      <td>-99.0</td>\n",
              "      <td>-99.0</td>\n",
              "      <td>-99.0</td>\n",
              "      <td>-99.0</td>\n",
              "      <td>-99.0</td>\n",
              "      <td>-99.0</td>\n",
              "      <td>-99.0</td>\n",
              "      <td>-99.0</td>\n",
              "      <td>-99.0</td>\n",
              "      <td>-99.0</td>\n",
              "      <td>-99.0</td>\n",
              "      <td>-99.0</td>\n",
              "      <td>-99.0</td>\n",
              "      <td>-99.0</td>\n",
              "      <td>-99.0</td>\n",
              "      <td>-99.0</td>\n",
              "      <td>-99.0</td>\n",
              "      <td>-99.0</td>\n",
              "      <td>-99.0</td>\n",
              "      <td>-99.0</td>\n",
              "      <td>-99.0</td>\n",
              "      <td>-99.0</td>\n",
              "      <td>-99.0</td>\n",
              "      <td>-99.0</td>\n",
              "      <td>-99.0</td>\n",
              "      <td>-99.0</td>\n",
              "      <td>-99.0</td>\n",
              "      <td>-99.0</td>\n",
              "      <td>-99.0</td>\n",
              "      <td>-99.0</td>\n",
              "      <td>-99.0</td>\n",
              "      <td>NaN</td>\n",
              "      <td>WEB</td>\n",
              "      <td>0</td>\n",
              "      <td>0</td>\n",
              "      <td>1</td>\n",
              "      <td>0</td>\n",
              "    </tr>\n",
              "    <tr>\n",
              "      <th>2</th>\n",
              "      <td>2</td>\n",
              "      <td>3</td>\n",
              "      <td>3</td>\n",
              "      <td>0</td>\n",
              "      <td>33</td>\n",
              "      <td>1</td>\n",
              "      <td>4</td>\n",
              "      <td>12</td>\n",
              "      <td>4</td>\n",
              "      <td>2</td>\n",
              "      <td>0</td>\n",
              "      <td>2</td>\n",
              "      <td>1</td>\n",
              "      <td>4</td>\n",
              "      <td>1</td>\n",
              "      <td>5</td>\n",
              "      <td>1</td>\n",
              "      <td>9</td>\n",
              "      <td>1</td>\n",
              "      <td>2</td>\n",
              "      <td>15.0</td>\n",
              "      <td>9.0</td>\n",
              "      <td>2.0</td>\n",
              "      <td>0.0</td>\n",
              "      <td>0.0</td>\n",
              "      <td>0.0</td>\n",
              "      <td>0.0</td>\n",
              "      <td>6.0</td>\n",
              "      <td>NaN</td>\n",
              "      <td>NaN</td>\n",
              "      <td>NaN</td>\n",
              "      <td>NaN</td>\n",
              "      <td>NaN</td>\n",
              "      <td>NaN</td>\n",
              "      <td>NaN</td>\n",
              "      <td>2</td>\n",
              "      <td>2</td>\n",
              "      <td>30377</td>\n",
              "      <td>0</td>\n",
              "      <td>2</td>\n",
              "      <td>...</td>\n",
              "      <td>0.0</td>\n",
              "      <td>0.0</td>\n",
              "      <td>0.0</td>\n",
              "      <td>0.0</td>\n",
              "      <td>0.0</td>\n",
              "      <td>0.0</td>\n",
              "      <td>0.0</td>\n",
              "      <td>0.0</td>\n",
              "      <td>0.0</td>\n",
              "      <td>0.0</td>\n",
              "      <td>13.0</td>\n",
              "      <td>13.0</td>\n",
              "      <td>20.0</td>\n",
              "      <td>20.0</td>\n",
              "      <td>23.0</td>\n",
              "      <td>21.0</td>\n",
              "      <td>11.0</td>\n",
              "      <td>9.0</td>\n",
              "      <td>10.0</td>\n",
              "      <td>12.0</td>\n",
              "      <td>13.0</td>\n",
              "      <td>9.0</td>\n",
              "      <td>11.0</td>\n",
              "      <td>3807.0</td>\n",
              "      <td>2314.0</td>\n",
              "      <td>0.0</td>\n",
              "      <td>3.0</td>\n",
              "      <td>2.0</td>\n",
              "      <td>33.0</td>\n",
              "      <td>0.0</td>\n",
              "      <td>33.0</td>\n",
              "      <td>0.0</td>\n",
              "      <td>143.0</td>\n",
              "      <td>110.0</td>\n",
              "      <td>8.0</td>\n",
              "      <td>WEB</td>\n",
              "      <td>0</td>\n",
              "      <td>0</td>\n",
              "      <td>1</td>\n",
              "      <td>0</td>\n",
              "    </tr>\n",
              "    <tr>\n",
              "      <th>3</th>\n",
              "      <td>3</td>\n",
              "      <td>4</td>\n",
              "      <td>4</td>\n",
              "      <td>0</td>\n",
              "      <td>34</td>\n",
              "      <td>2</td>\n",
              "      <td>4</td>\n",
              "      <td>12</td>\n",
              "      <td>5</td>\n",
              "      <td>5</td>\n",
              "      <td>0</td>\n",
              "      <td>0</td>\n",
              "      <td>0</td>\n",
              "      <td>0</td>\n",
              "      <td>0</td>\n",
              "      <td>0</td>\n",
              "      <td>0</td>\n",
              "      <td>1</td>\n",
              "      <td>1</td>\n",
              "      <td>0</td>\n",
              "      <td>NaN</td>\n",
              "      <td>NaN</td>\n",
              "      <td>NaN</td>\n",
              "      <td>0.0</td>\n",
              "      <td>0.0</td>\n",
              "      <td>0.0</td>\n",
              "      <td>0.0</td>\n",
              "      <td>6.0</td>\n",
              "      <td>NaN</td>\n",
              "      <td>NaN</td>\n",
              "      <td>NaN</td>\n",
              "      <td>NaN</td>\n",
              "      <td>NaN</td>\n",
              "      <td>NaN</td>\n",
              "      <td>NaN</td>\n",
              "      <td>2</td>\n",
              "      <td>1</td>\n",
              "      <td>0</td>\n",
              "      <td>0</td>\n",
              "      <td>5</td>\n",
              "      <td>...</td>\n",
              "      <td>0.0</td>\n",
              "      <td>0.0</td>\n",
              "      <td>0.0</td>\n",
              "      <td>0.0</td>\n",
              "      <td>0.0</td>\n",
              "      <td>0.0</td>\n",
              "      <td>0.0</td>\n",
              "      <td>0.0</td>\n",
              "      <td>0.0</td>\n",
              "      <td>0.0</td>\n",
              "      <td>0.0</td>\n",
              "      <td>0.0</td>\n",
              "      <td>0.0</td>\n",
              "      <td>0.0</td>\n",
              "      <td>0.0</td>\n",
              "      <td>0.0</td>\n",
              "      <td>0.0</td>\n",
              "      <td>0.0</td>\n",
              "      <td>0.0</td>\n",
              "      <td>0.0</td>\n",
              "      <td>0.0</td>\n",
              "      <td>0.0</td>\n",
              "      <td>0.0</td>\n",
              "      <td>0.0</td>\n",
              "      <td>0.0</td>\n",
              "      <td>0.0</td>\n",
              "      <td>0.0</td>\n",
              "      <td>0.0</td>\n",
              "      <td>0.0</td>\n",
              "      <td>0.0</td>\n",
              "      <td>0.0</td>\n",
              "      <td>0.0</td>\n",
              "      <td>0.0</td>\n",
              "      <td>0.0</td>\n",
              "      <td>10.0</td>\n",
              "      <td>OPPO</td>\n",
              "      <td>1</td>\n",
              "      <td>0</td>\n",
              "      <td>0</td>\n",
              "      <td>0</td>\n",
              "    </tr>\n",
              "  </tbody>\n",
              "</table>\n",
              "<p>4 rows × 91 columns</p>\n",
              "</div>"
            ],
            "text/plain": [
              "   Unnamed: 0  Unnamed: 0.1  id  ...  AP006_api  AP006_h5  AP006_ios\n",
              "0           0             1   1  ...          0         0          1\n",
              "1           1             2   2  ...          0         1          0\n",
              "2           2             3   3  ...          0         1          0\n",
              "3           3             4   4  ...          0         0          0\n",
              "\n",
              "[4 rows x 91 columns]"
            ]
          },
          "metadata": {
            "tags": []
          },
          "execution_count": 133
        }
      ]
    },
    {
      "cell_type": "markdown",
      "metadata": {
        "id": "0Qg5vICj7Kh9"
      },
      "source": [
        "WEIGHT OF EVIDENCE (WOE) ENCODING for variable \"MB007\""
      ]
    },
    {
      "cell_type": "code",
      "metadata": {
        "id": "BN0ibkqp6ExY",
        "outputId": "8247bd41-434d-45d9-8e05-69b2dc19166d",
        "colab": {
          "base_uri": "https://localhost:8080/"
        }
      },
      "source": [
        "import category_encoders as ce"
      ],
      "execution_count": 97,
      "outputs": [
        {
          "output_type": "stream",
          "text": [
            "/usr/local/lib/python3.6/dist-packages/statsmodels/tools/_testing.py:19: FutureWarning: pandas.util.testing is deprecated. Use the functions in the public API at pandas.testing instead.\n",
            "  import pandas.util.testing as tm\n"
          ],
          "name": "stderr"
        }
      ]
    },
    {
      "cell_type": "code",
      "metadata": {
        "id": "23FWk8YL5zKP",
        "outputId": "8c2eab10-f233-45d5-d785-17a746e58c12",
        "colab": {
          "base_uri": "https://localhost:8080/",
          "height": 473
        }
      },
      "source": [
        "ec = ce.WOEEncoder()\n",
        "loan_data3['MB007'] = loan_data3['MB007'].fillna('NoData')\n",
        "X = loan_data3['MB007']\n",
        "y = loan_data3['loan_default']\n",
        "X_WOE = ec.fit(X, y)\n",
        "X_cleaned = ec.transform(X)\n",
        "X_cleaned.round(2)"
      ],
      "execution_count": 134,
      "outputs": [
        {
          "output_type": "stream",
          "text": [
            "/usr/local/lib/python3.6/dist-packages/category_encoders/utils.py:21: FutureWarning: is_categorical is deprecated and will be removed in a future version.  Use is_categorical_dtype instead\n",
            "  elif pd.api.types.is_categorical(cols):\n"
          ],
          "name": "stderr"
        },
        {
          "output_type": "execute_result",
          "data": {
            "text/html": [
              "<div>\n",
              "<style scoped>\n",
              "    .dataframe tbody tr th:only-of-type {\n",
              "        vertical-align: middle;\n",
              "    }\n",
              "\n",
              "    .dataframe tbody tr th {\n",
              "        vertical-align: top;\n",
              "    }\n",
              "\n",
              "    .dataframe thead th {\n",
              "        text-align: right;\n",
              "    }\n",
              "</style>\n",
              "<table border=\"1\" class=\"dataframe\">\n",
              "  <thead>\n",
              "    <tr style=\"text-align: right;\">\n",
              "      <th></th>\n",
              "      <th>MB007</th>\n",
              "    </tr>\n",
              "  </thead>\n",
              "  <tbody>\n",
              "    <tr>\n",
              "      <th>0</th>\n",
              "      <td>-0.08</td>\n",
              "    </tr>\n",
              "    <tr>\n",
              "      <th>1</th>\n",
              "      <td>-0.04</td>\n",
              "    </tr>\n",
              "    <tr>\n",
              "      <th>2</th>\n",
              "      <td>-0.04</td>\n",
              "    </tr>\n",
              "    <tr>\n",
              "      <th>3</th>\n",
              "      <td>0.30</td>\n",
              "    </tr>\n",
              "    <tr>\n",
              "      <th>4</th>\n",
              "      <td>-0.04</td>\n",
              "    </tr>\n",
              "    <tr>\n",
              "      <th>...</th>\n",
              "      <td>...</td>\n",
              "    </tr>\n",
              "    <tr>\n",
              "      <th>79995</th>\n",
              "      <td>0.30</td>\n",
              "    </tr>\n",
              "    <tr>\n",
              "      <th>79996</th>\n",
              "      <td>-0.08</td>\n",
              "    </tr>\n",
              "    <tr>\n",
              "      <th>79997</th>\n",
              "      <td>0.29</td>\n",
              "    </tr>\n",
              "    <tr>\n",
              "      <th>79998</th>\n",
              "      <td>0.06</td>\n",
              "    </tr>\n",
              "    <tr>\n",
              "      <th>79999</th>\n",
              "      <td>-0.04</td>\n",
              "    </tr>\n",
              "  </tbody>\n",
              "</table>\n",
              "<p>80000 rows × 1 columns</p>\n",
              "</div>"
            ],
            "text/plain": [
              "       MB007\n",
              "0      -0.08\n",
              "1      -0.04\n",
              "2      -0.04\n",
              "3       0.30\n",
              "4      -0.04\n",
              "...      ...\n",
              "79995   0.30\n",
              "79996  -0.08\n",
              "79997   0.29\n",
              "79998   0.06\n",
              "79999  -0.04\n",
              "\n",
              "[80000 rows x 1 columns]"
            ]
          },
          "metadata": {
            "tags": []
          },
          "execution_count": 134
        }
      ]
    },
    {
      "cell_type": "code",
      "metadata": {
        "id": "9Nn1nAkW7f0p"
      },
      "source": [
        "loan_data3 = loan_data3.drop('MB007', axis=1)"
      ],
      "execution_count": 135,
      "outputs": []
    },
    {
      "cell_type": "code",
      "metadata": {
        "id": "bllnD1wf7XcX"
      },
      "source": [
        "loan_data3 = pd.concat([loan_data3, X_cleaned], axis=1)"
      ],
      "execution_count": 136,
      "outputs": []
    },
    {
      "cell_type": "code",
      "metadata": {
        "id": "60Y0dk167by6",
        "outputId": "af1402d2-310c-4036-fb94-cdb603248153",
        "colab": {
          "base_uri": "https://localhost:8080/",
          "height": 239
        }
      },
      "source": [
        "loan_data3.head(4)"
      ],
      "execution_count": 137,
      "outputs": [
        {
          "output_type": "execute_result",
          "data": {
            "text/html": [
              "<div>\n",
              "<style scoped>\n",
              "    .dataframe tbody tr th:only-of-type {\n",
              "        vertical-align: middle;\n",
              "    }\n",
              "\n",
              "    .dataframe tbody tr th {\n",
              "        vertical-align: top;\n",
              "    }\n",
              "\n",
              "    .dataframe thead th {\n",
              "        text-align: right;\n",
              "    }\n",
              "</style>\n",
              "<table border=\"1\" class=\"dataframe\">\n",
              "  <thead>\n",
              "    <tr style=\"text-align: right;\">\n",
              "      <th></th>\n",
              "      <th>Unnamed: 0</th>\n",
              "      <th>Unnamed: 0.1</th>\n",
              "      <th>id</th>\n",
              "      <th>loan_default</th>\n",
              "      <th>AP001</th>\n",
              "      <th>AP002</th>\n",
              "      <th>AP003</th>\n",
              "      <th>AP004</th>\n",
              "      <th>AP007</th>\n",
              "      <th>AP008</th>\n",
              "      <th>AP009</th>\n",
              "      <th>TD001</th>\n",
              "      <th>TD002</th>\n",
              "      <th>TD005</th>\n",
              "      <th>TD006</th>\n",
              "      <th>TD009</th>\n",
              "      <th>TD010</th>\n",
              "      <th>TD013</th>\n",
              "      <th>TD014</th>\n",
              "      <th>TD015</th>\n",
              "      <th>TD022</th>\n",
              "      <th>TD023</th>\n",
              "      <th>TD024</th>\n",
              "      <th>TD025</th>\n",
              "      <th>TD026</th>\n",
              "      <th>TD027</th>\n",
              "      <th>TD028</th>\n",
              "      <th>TD029</th>\n",
              "      <th>TD044</th>\n",
              "      <th>TD048</th>\n",
              "      <th>TD051</th>\n",
              "      <th>TD054</th>\n",
              "      <th>TD055</th>\n",
              "      <th>TD061</th>\n",
              "      <th>TD062</th>\n",
              "      <th>CR004</th>\n",
              "      <th>CR005</th>\n",
              "      <th>CR009</th>\n",
              "      <th>CR012</th>\n",
              "      <th>CR015</th>\n",
              "      <th>...</th>\n",
              "      <th>CD071</th>\n",
              "      <th>CD072</th>\n",
              "      <th>CD088</th>\n",
              "      <th>CD100</th>\n",
              "      <th>CD101</th>\n",
              "      <th>CD106</th>\n",
              "      <th>CD107</th>\n",
              "      <th>CD108</th>\n",
              "      <th>CD113</th>\n",
              "      <th>CD114</th>\n",
              "      <th>CD115</th>\n",
              "      <th>CD117</th>\n",
              "      <th>CD118</th>\n",
              "      <th>CD120</th>\n",
              "      <th>CD121</th>\n",
              "      <th>CD123</th>\n",
              "      <th>CD130</th>\n",
              "      <th>CD131</th>\n",
              "      <th>CD132</th>\n",
              "      <th>CD133</th>\n",
              "      <th>CD135</th>\n",
              "      <th>CD136</th>\n",
              "      <th>CD137</th>\n",
              "      <th>CD152</th>\n",
              "      <th>CD153</th>\n",
              "      <th>CD160</th>\n",
              "      <th>CD162</th>\n",
              "      <th>CD164</th>\n",
              "      <th>CD166</th>\n",
              "      <th>CD167</th>\n",
              "      <th>CD169</th>\n",
              "      <th>CD170</th>\n",
              "      <th>CD172</th>\n",
              "      <th>CD173</th>\n",
              "      <th>MB005</th>\n",
              "      <th>AP006_android</th>\n",
              "      <th>AP006_api</th>\n",
              "      <th>AP006_h5</th>\n",
              "      <th>AP006_ios</th>\n",
              "      <th>MB007</th>\n",
              "    </tr>\n",
              "  </thead>\n",
              "  <tbody>\n",
              "    <tr>\n",
              "      <th>0</th>\n",
              "      <td>0</td>\n",
              "      <td>1</td>\n",
              "      <td>1</td>\n",
              "      <td>1</td>\n",
              "      <td>31</td>\n",
              "      <td>2</td>\n",
              "      <td>1</td>\n",
              "      <td>12</td>\n",
              "      <td>3</td>\n",
              "      <td>3</td>\n",
              "      <td>1</td>\n",
              "      <td>1</td>\n",
              "      <td>1</td>\n",
              "      <td>4</td>\n",
              "      <td>1</td>\n",
              "      <td>5</td>\n",
              "      <td>1</td>\n",
              "      <td>14</td>\n",
              "      <td>2</td>\n",
              "      <td>2</td>\n",
              "      <td>10.0</td>\n",
              "      <td>9.0</td>\n",
              "      <td>6.0</td>\n",
              "      <td>0.0</td>\n",
              "      <td>0.0</td>\n",
              "      <td>0.0</td>\n",
              "      <td>0.0</td>\n",
              "      <td>6.0</td>\n",
              "      <td>NaN</td>\n",
              "      <td>NaN</td>\n",
              "      <td>NaN</td>\n",
              "      <td>NaN</td>\n",
              "      <td>NaN</td>\n",
              "      <td>NaN</td>\n",
              "      <td>NaN</td>\n",
              "      <td>2</td>\n",
              "      <td>1</td>\n",
              "      <td>35807</td>\n",
              "      <td>0</td>\n",
              "      <td>4</td>\n",
              "      <td>...</td>\n",
              "      <td>0.0</td>\n",
              "      <td>0.0</td>\n",
              "      <td>0.0</td>\n",
              "      <td>0.0</td>\n",
              "      <td>0.0</td>\n",
              "      <td>1.0</td>\n",
              "      <td>0.0</td>\n",
              "      <td>1.0</td>\n",
              "      <td>0.0</td>\n",
              "      <td>1.0</td>\n",
              "      <td>57.0</td>\n",
              "      <td>48.0</td>\n",
              "      <td>95.0</td>\n",
              "      <td>79.0</td>\n",
              "      <td>125.0</td>\n",
              "      <td>103.0</td>\n",
              "      <td>43.0</td>\n",
              "      <td>55.0</td>\n",
              "      <td>56.0</td>\n",
              "      <td>52.0</td>\n",
              "      <td>65.0</td>\n",
              "      <td>91.0</td>\n",
              "      <td>96.0</td>\n",
              "      <td>10900.0</td>\n",
              "      <td>12757.0</td>\n",
              "      <td>8.0</td>\n",
              "      <td>13.0</td>\n",
              "      <td>13.0</td>\n",
              "      <td>0.0</td>\n",
              "      <td>0.0</td>\n",
              "      <td>1449.0</td>\n",
              "      <td>1449.0</td>\n",
              "      <td>2249.0</td>\n",
              "      <td>2249.0</td>\n",
              "      <td>7.0</td>\n",
              "      <td>0</td>\n",
              "      <td>0</td>\n",
              "      <td>0</td>\n",
              "      <td>1</td>\n",
              "      <td>-0.078644</td>\n",
              "    </tr>\n",
              "    <tr>\n",
              "      <th>1</th>\n",
              "      <td>1</td>\n",
              "      <td>2</td>\n",
              "      <td>2</td>\n",
              "      <td>0</td>\n",
              "      <td>27</td>\n",
              "      <td>1</td>\n",
              "      <td>1</td>\n",
              "      <td>12</td>\n",
              "      <td>5</td>\n",
              "      <td>4</td>\n",
              "      <td>0</td>\n",
              "      <td>2</td>\n",
              "      <td>0</td>\n",
              "      <td>3</td>\n",
              "      <td>1</td>\n",
              "      <td>3</td>\n",
              "      <td>1</td>\n",
              "      <td>3</td>\n",
              "      <td>2</td>\n",
              "      <td>0</td>\n",
              "      <td>15.0</td>\n",
              "      <td>6.0</td>\n",
              "      <td>0.0</td>\n",
              "      <td>0.0</td>\n",
              "      <td>0.0</td>\n",
              "      <td>0.0</td>\n",
              "      <td>0.0</td>\n",
              "      <td>6.0</td>\n",
              "      <td>NaN</td>\n",
              "      <td>NaN</td>\n",
              "      <td>NaN</td>\n",
              "      <td>NaN</td>\n",
              "      <td>NaN</td>\n",
              "      <td>NaN</td>\n",
              "      <td>NaN</td>\n",
              "      <td>3</td>\n",
              "      <td>1</td>\n",
              "      <td>7254</td>\n",
              "      <td>0</td>\n",
              "      <td>6</td>\n",
              "      <td>...</td>\n",
              "      <td>-99.0</td>\n",
              "      <td>-99.0</td>\n",
              "      <td>-99.0</td>\n",
              "      <td>-99.0</td>\n",
              "      <td>-99.0</td>\n",
              "      <td>-99.0</td>\n",
              "      <td>-99.0</td>\n",
              "      <td>-99.0</td>\n",
              "      <td>-99.0</td>\n",
              "      <td>-99.0</td>\n",
              "      <td>-99.0</td>\n",
              "      <td>-99.0</td>\n",
              "      <td>-99.0</td>\n",
              "      <td>-99.0</td>\n",
              "      <td>-99.0</td>\n",
              "      <td>-99.0</td>\n",
              "      <td>-99.0</td>\n",
              "      <td>-99.0</td>\n",
              "      <td>-99.0</td>\n",
              "      <td>-99.0</td>\n",
              "      <td>-99.0</td>\n",
              "      <td>-99.0</td>\n",
              "      <td>-99.0</td>\n",
              "      <td>-99.0</td>\n",
              "      <td>-99.0</td>\n",
              "      <td>-99.0</td>\n",
              "      <td>-99.0</td>\n",
              "      <td>-99.0</td>\n",
              "      <td>-99.0</td>\n",
              "      <td>-99.0</td>\n",
              "      <td>-99.0</td>\n",
              "      <td>-99.0</td>\n",
              "      <td>-99.0</td>\n",
              "      <td>-99.0</td>\n",
              "      <td>NaN</td>\n",
              "      <td>0</td>\n",
              "      <td>0</td>\n",
              "      <td>1</td>\n",
              "      <td>0</td>\n",
              "      <td>-0.039837</td>\n",
              "    </tr>\n",
              "    <tr>\n",
              "      <th>2</th>\n",
              "      <td>2</td>\n",
              "      <td>3</td>\n",
              "      <td>3</td>\n",
              "      <td>0</td>\n",
              "      <td>33</td>\n",
              "      <td>1</td>\n",
              "      <td>4</td>\n",
              "      <td>12</td>\n",
              "      <td>4</td>\n",
              "      <td>2</td>\n",
              "      <td>0</td>\n",
              "      <td>2</td>\n",
              "      <td>1</td>\n",
              "      <td>4</td>\n",
              "      <td>1</td>\n",
              "      <td>5</td>\n",
              "      <td>1</td>\n",
              "      <td>9</td>\n",
              "      <td>1</td>\n",
              "      <td>2</td>\n",
              "      <td>15.0</td>\n",
              "      <td>9.0</td>\n",
              "      <td>2.0</td>\n",
              "      <td>0.0</td>\n",
              "      <td>0.0</td>\n",
              "      <td>0.0</td>\n",
              "      <td>0.0</td>\n",
              "      <td>6.0</td>\n",
              "      <td>NaN</td>\n",
              "      <td>NaN</td>\n",
              "      <td>NaN</td>\n",
              "      <td>NaN</td>\n",
              "      <td>NaN</td>\n",
              "      <td>NaN</td>\n",
              "      <td>NaN</td>\n",
              "      <td>2</td>\n",
              "      <td>2</td>\n",
              "      <td>30377</td>\n",
              "      <td>0</td>\n",
              "      <td>2</td>\n",
              "      <td>...</td>\n",
              "      <td>0.0</td>\n",
              "      <td>0.0</td>\n",
              "      <td>0.0</td>\n",
              "      <td>0.0</td>\n",
              "      <td>0.0</td>\n",
              "      <td>0.0</td>\n",
              "      <td>0.0</td>\n",
              "      <td>0.0</td>\n",
              "      <td>0.0</td>\n",
              "      <td>0.0</td>\n",
              "      <td>13.0</td>\n",
              "      <td>13.0</td>\n",
              "      <td>20.0</td>\n",
              "      <td>20.0</td>\n",
              "      <td>23.0</td>\n",
              "      <td>21.0</td>\n",
              "      <td>11.0</td>\n",
              "      <td>9.0</td>\n",
              "      <td>10.0</td>\n",
              "      <td>12.0</td>\n",
              "      <td>13.0</td>\n",
              "      <td>9.0</td>\n",
              "      <td>11.0</td>\n",
              "      <td>3807.0</td>\n",
              "      <td>2314.0</td>\n",
              "      <td>0.0</td>\n",
              "      <td>3.0</td>\n",
              "      <td>2.0</td>\n",
              "      <td>33.0</td>\n",
              "      <td>0.0</td>\n",
              "      <td>33.0</td>\n",
              "      <td>0.0</td>\n",
              "      <td>143.0</td>\n",
              "      <td>110.0</td>\n",
              "      <td>8.0</td>\n",
              "      <td>0</td>\n",
              "      <td>0</td>\n",
              "      <td>1</td>\n",
              "      <td>0</td>\n",
              "      <td>-0.039837</td>\n",
              "    </tr>\n",
              "    <tr>\n",
              "      <th>3</th>\n",
              "      <td>3</td>\n",
              "      <td>4</td>\n",
              "      <td>4</td>\n",
              "      <td>0</td>\n",
              "      <td>34</td>\n",
              "      <td>2</td>\n",
              "      <td>4</td>\n",
              "      <td>12</td>\n",
              "      <td>5</td>\n",
              "      <td>5</td>\n",
              "      <td>0</td>\n",
              "      <td>0</td>\n",
              "      <td>0</td>\n",
              "      <td>0</td>\n",
              "      <td>0</td>\n",
              "      <td>0</td>\n",
              "      <td>0</td>\n",
              "      <td>1</td>\n",
              "      <td>1</td>\n",
              "      <td>0</td>\n",
              "      <td>NaN</td>\n",
              "      <td>NaN</td>\n",
              "      <td>NaN</td>\n",
              "      <td>0.0</td>\n",
              "      <td>0.0</td>\n",
              "      <td>0.0</td>\n",
              "      <td>0.0</td>\n",
              "      <td>6.0</td>\n",
              "      <td>NaN</td>\n",
              "      <td>NaN</td>\n",
              "      <td>NaN</td>\n",
              "      <td>NaN</td>\n",
              "      <td>NaN</td>\n",
              "      <td>NaN</td>\n",
              "      <td>NaN</td>\n",
              "      <td>2</td>\n",
              "      <td>1</td>\n",
              "      <td>0</td>\n",
              "      <td>0</td>\n",
              "      <td>5</td>\n",
              "      <td>...</td>\n",
              "      <td>0.0</td>\n",
              "      <td>0.0</td>\n",
              "      <td>0.0</td>\n",
              "      <td>0.0</td>\n",
              "      <td>0.0</td>\n",
              "      <td>0.0</td>\n",
              "      <td>0.0</td>\n",
              "      <td>0.0</td>\n",
              "      <td>0.0</td>\n",
              "      <td>0.0</td>\n",
              "      <td>0.0</td>\n",
              "      <td>0.0</td>\n",
              "      <td>0.0</td>\n",
              "      <td>0.0</td>\n",
              "      <td>0.0</td>\n",
              "      <td>0.0</td>\n",
              "      <td>0.0</td>\n",
              "      <td>0.0</td>\n",
              "      <td>0.0</td>\n",
              "      <td>0.0</td>\n",
              "      <td>0.0</td>\n",
              "      <td>0.0</td>\n",
              "      <td>0.0</td>\n",
              "      <td>0.0</td>\n",
              "      <td>0.0</td>\n",
              "      <td>0.0</td>\n",
              "      <td>0.0</td>\n",
              "      <td>0.0</td>\n",
              "      <td>0.0</td>\n",
              "      <td>0.0</td>\n",
              "      <td>0.0</td>\n",
              "      <td>0.0</td>\n",
              "      <td>0.0</td>\n",
              "      <td>0.0</td>\n",
              "      <td>10.0</td>\n",
              "      <td>1</td>\n",
              "      <td>0</td>\n",
              "      <td>0</td>\n",
              "      <td>0</td>\n",
              "      <td>0.303513</td>\n",
              "    </tr>\n",
              "  </tbody>\n",
              "</table>\n",
              "<p>4 rows × 91 columns</p>\n",
              "</div>"
            ],
            "text/plain": [
              "   Unnamed: 0  Unnamed: 0.1  id  ...  AP006_h5  AP006_ios     MB007\n",
              "0           0             1   1  ...         0          1 -0.078644\n",
              "1           1             2   2  ...         1          0 -0.039837\n",
              "2           2             3   3  ...         1          0 -0.039837\n",
              "3           3             4   4  ...         0          0  0.303513\n",
              "\n",
              "[4 rows x 91 columns]"
            ]
          },
          "metadata": {
            "tags": []
          },
          "execution_count": 137
        }
      ]
    },
    {
      "cell_type": "markdown",
      "metadata": {
        "id": "uUNk_H3kAku-"
      },
      "source": [
        "Calculating the missing values "
      ]
    },
    {
      "cell_type": "code",
      "metadata": {
        "id": "N6CtOFfBAnK4"
      },
      "source": [
        "# fill na with max\n",
        "for i in loan_data3.columns:\n",
        "  loan_data3[i] =  loan_data3[i].fillna(loan_data3[i].max())"
      ],
      "execution_count": 147,
      "outputs": []
    },
    {
      "cell_type": "markdown",
      "metadata": {
        "id": "b4Amb0bB782Q"
      },
      "source": [
        "Split the new data"
      ]
    },
    {
      "cell_type": "code",
      "metadata": {
        "id": "vr-hnJLM2658"
      },
      "source": [
        "train2, test2 = train_test_split(\n",
        "     loan_data3, test_size=0.40, random_state=42)"
      ],
      "execution_count": 149,
      "outputs": []
    },
    {
      "cell_type": "code",
      "metadata": {
        "id": "uRWOwOoEt2ty",
        "outputId": "d056f8f9-b0d0-4cea-a8eb-20c1ba1eacfb",
        "colab": {
          "base_uri": "https://localhost:8080/"
        }
      },
      "source": [
        "train_smp2 = train2.sample(frac=0.1, random_state=1)\n",
        "test_smp2 = test2.sample(frac=0.1, random_state=1)\n",
        "train_hex22 = h2o.H2OFrame(train_smp2)\n",
        "test_hex22 = h2o.H2OFrame(test_smp2)"
      ],
      "execution_count": 150,
      "outputs": [
        {
          "output_type": "stream",
          "text": [
            "Parse progress: |█████████████████████████████████████████████████████████| 100%\n",
            "Parse progress: |█████████████████████████████████████████████████████████| 100%\n"
          ],
          "name": "stdout"
        }
      ]
    },
    {
      "cell_type": "code",
      "metadata": {
        "id": "I4Z22ak3ueDn",
        "outputId": "c55d6e5a-0335-4201-ff89-a8882e63f566",
        "colab": {
          "base_uri": "https://localhost:8080/"
        }
      },
      "source": [
        "train_hex222 = h2o.H2OFrame(train2)\n",
        "test_hex222 = h2o.H2OFrame(test2)"
      ],
      "execution_count": 151,
      "outputs": [
        {
          "output_type": "stream",
          "text": [
            "Parse progress: |█████████████████████████████████████████████████████████| 100%\n",
            "Parse progress: |█████████████████████████████████████████████████████████| 100%\n"
          ],
          "name": "stdout"
        }
      ]
    },
    {
      "cell_type": "code",
      "metadata": {
        "id": "zkGD0KJEDVt4"
      },
      "source": [
        "target='loan_default'"
      ],
      "execution_count": 12,
      "outputs": []
    },
    {
      "cell_type": "code",
      "metadata": {
        "id": "k9T2onTR8ZA7",
        "outputId": "dd304c67-b297-4527-bb09-1b339ded6d53",
        "colab": {
          "base_uri": "https://localhost:8080/",
          "height": 204
        }
      },
      "source": [
        "var2 = pd.DataFrame(train2.dtypes).reset_index()\n",
        "var2.head()"
      ],
      "execution_count": 157,
      "outputs": [
        {
          "output_type": "execute_result",
          "data": {
            "text/html": [
              "<div>\n",
              "<style scoped>\n",
              "    .dataframe tbody tr th:only-of-type {\n",
              "        vertical-align: middle;\n",
              "    }\n",
              "\n",
              "    .dataframe tbody tr th {\n",
              "        vertical-align: top;\n",
              "    }\n",
              "\n",
              "    .dataframe thead th {\n",
              "        text-align: right;\n",
              "    }\n",
              "</style>\n",
              "<table border=\"1\" class=\"dataframe\">\n",
              "  <thead>\n",
              "    <tr style=\"text-align: right;\">\n",
              "      <th></th>\n",
              "      <th>index</th>\n",
              "      <th>0</th>\n",
              "    </tr>\n",
              "  </thead>\n",
              "  <tbody>\n",
              "    <tr>\n",
              "      <th>0</th>\n",
              "      <td>Unnamed: 0</td>\n",
              "      <td>int64</td>\n",
              "    </tr>\n",
              "    <tr>\n",
              "      <th>1</th>\n",
              "      <td>Unnamed: 0.1</td>\n",
              "      <td>int64</td>\n",
              "    </tr>\n",
              "    <tr>\n",
              "      <th>2</th>\n",
              "      <td>id</td>\n",
              "      <td>int64</td>\n",
              "    </tr>\n",
              "    <tr>\n",
              "      <th>3</th>\n",
              "      <td>loan_default</td>\n",
              "      <td>int64</td>\n",
              "    </tr>\n",
              "    <tr>\n",
              "      <th>4</th>\n",
              "      <td>AP001</td>\n",
              "      <td>int64</td>\n",
              "    </tr>\n",
              "  </tbody>\n",
              "</table>\n",
              "</div>"
            ],
            "text/plain": [
              "          index      0\n",
              "0    Unnamed: 0  int64\n",
              "1  Unnamed: 0.1  int64\n",
              "2            id  int64\n",
              "3  loan_default  int64\n",
              "4         AP001  int64"
            ]
          },
          "metadata": {
            "tags": []
          },
          "execution_count": 157
        }
      ]
    },
    {
      "cell_type": "code",
      "metadata": {
        "id": "VY6uasuq8d0a",
        "outputId": "2d6872d3-e3d9-4fce-e9dc-7816940e1175",
        "colab": {
          "base_uri": "https://localhost:8080/",
          "height": 204
        }
      },
      "source": [
        "var2.columns = ['varname','dtype'] \n",
        "var2['source'] = var2['varname'].str[:2]\n",
        "var2.head()"
      ],
      "execution_count": 158,
      "outputs": [
        {
          "output_type": "execute_result",
          "data": {
            "text/html": [
              "<div>\n",
              "<style scoped>\n",
              "    .dataframe tbody tr th:only-of-type {\n",
              "        vertical-align: middle;\n",
              "    }\n",
              "\n",
              "    .dataframe tbody tr th {\n",
              "        vertical-align: top;\n",
              "    }\n",
              "\n",
              "    .dataframe thead th {\n",
              "        text-align: right;\n",
              "    }\n",
              "</style>\n",
              "<table border=\"1\" class=\"dataframe\">\n",
              "  <thead>\n",
              "    <tr style=\"text-align: right;\">\n",
              "      <th></th>\n",
              "      <th>varname</th>\n",
              "      <th>dtype</th>\n",
              "      <th>source</th>\n",
              "    </tr>\n",
              "  </thead>\n",
              "  <tbody>\n",
              "    <tr>\n",
              "      <th>0</th>\n",
              "      <td>Unnamed: 0</td>\n",
              "      <td>int64</td>\n",
              "      <td>Un</td>\n",
              "    </tr>\n",
              "    <tr>\n",
              "      <th>1</th>\n",
              "      <td>Unnamed: 0.1</td>\n",
              "      <td>int64</td>\n",
              "      <td>Un</td>\n",
              "    </tr>\n",
              "    <tr>\n",
              "      <th>2</th>\n",
              "      <td>id</td>\n",
              "      <td>int64</td>\n",
              "      <td>id</td>\n",
              "    </tr>\n",
              "    <tr>\n",
              "      <th>3</th>\n",
              "      <td>loan_default</td>\n",
              "      <td>int64</td>\n",
              "      <td>lo</td>\n",
              "    </tr>\n",
              "    <tr>\n",
              "      <th>4</th>\n",
              "      <td>AP001</td>\n",
              "      <td>int64</td>\n",
              "      <td>AP</td>\n",
              "    </tr>\n",
              "  </tbody>\n",
              "</table>\n",
              "</div>"
            ],
            "text/plain": [
              "        varname  dtype source\n",
              "0    Unnamed: 0  int64     Un\n",
              "1  Unnamed: 0.1  int64     Un\n",
              "2            id  int64     id\n",
              "3  loan_default  int64     lo\n",
              "4         AP001  int64     AP"
            ]
          },
          "metadata": {
            "tags": []
          },
          "execution_count": 158
        }
      ]
    },
    {
      "cell_type": "code",
      "metadata": {
        "id": "IctZc9Q5BB9k",
        "outputId": "bcf488d9-9108-42f4-b97d-acaf316277d0",
        "colab": {
          "base_uri": "https://localhost:8080/"
        }
      },
      "source": [
        "var2['source'].value_counts()"
      ],
      "execution_count": 159,
      "outputs": [
        {
          "output_type": "execute_result",
          "data": {
            "text/plain": [
              "CD    36\n",
              "TD    24\n",
              "AP    11\n",
              "CR     8\n",
              "PA     6\n",
              "Un     2\n",
              "MB     2\n",
              "lo     1\n",
              "id     1\n",
              "Name: source, dtype: int64"
            ]
          },
          "metadata": {
            "tags": []
          },
          "execution_count": 159
        }
      ]
    },
    {
      "cell_type": "code",
      "metadata": {
        "id": "PzS9wV33BHIo"
      },
      "source": [
        "MB_list2 = list(var2[var2['source']=='MB']['varname'])\n",
        "AP_list2 = list(var2[var2['source']=='AP']['varname'])\n",
        "TD_list2 = list(var2[var2['source']=='TD']['varname'])\n",
        "CR_list2 = list(var2[var2['source']=='CR']['varname'])\n",
        "PA_list2 = list(var2[var2['source']=='PA']['varname'])\n",
        "CD_list2 = list(var2[var2['source']=='CD']['varname'])"
      ],
      "execution_count": 160,
      "outputs": []
    },
    {
      "cell_type": "code",
      "metadata": {
        "id": "EEwwT-1uDbbE"
      },
      "source": [
        "predictors2 = CR_list2 + TD_list2 + AP_list2 + MB_list2 + CR_list2 + PA_list2 "
      ],
      "execution_count": 161,
      "outputs": []
    },
    {
      "cell_type": "markdown",
      "metadata": {
        "id": "VS8JSMhJCn9H"
      },
      "source": [
        "# Random Forest"
      ]
    },
    {
      "cell_type": "code",
      "metadata": {
        "id": "Q-LQYChuDf92",
        "outputId": "50b30eeb-727b-4622-9814-d69eede97f52",
        "colab": {
          "base_uri": "https://localhost:8080/"
        }
      },
      "source": [
        "RF_modl = H2ORandomForestEstimator(\n",
        "        model_id = 'RF_modl',\n",
        "        ntrees = 300,\n",
        "        nfolds=10,\n",
        "        min_rows=100,\n",
        "        seed=1234)\n",
        "RF_modl.train(predictors,target,training_frame=train_hex)"
      ],
      "execution_count": 35,
      "outputs": [
        {
          "output_type": "stream",
          "text": [
            "/usr/local/lib/python3.6/dist-packages/h2o/estimators/estimator_base.py:200: RuntimeWarning: Dropping bad and constant columns: [TD054, TD051, TD062, TD061, CR012, TD048, AP005, TD055]\n",
            "  warnings.warn(mesg[\"message\"], RuntimeWarning)\n"
          ],
          "name": "stderr"
        },
        {
          "output_type": "stream",
          "text": [
            "drf Model Build progress: |███████████████████████████████████████████████| 100%\n"
          ],
          "name": "stdout"
        }
      ]
    },
    {
      "cell_type": "code",
      "metadata": {
        "id": "xyFdLv96EIIH",
        "outputId": "8ea6eac6-31c2-4804-ce7e-274ff4b5ddf7",
        "colab": {
          "base_uri": "https://localhost:8080/",
          "height": 1000
        }
      },
      "source": [
        "def VarImp(model_name,m_name):\n",
        "    \n",
        "    from sklearn.metrics import roc_curve,auc\n",
        "    from sklearn.metrics import average_precision_score\n",
        "    from sklearn.metrics import precision_recall_curve\n",
        "    import matplotlib.pyplot as plt\n",
        "    \n",
        "    # plot the variable importance\n",
        "    plt.rcdefaults()\n",
        "    variables = model_name._model_json['output']['variable_importances']['variable']\n",
        "    y_pos = np.arange(len(variables))\n",
        "    fig, ax = plt.subplots(figsize = (6,len(variables)/2))\n",
        "    scaled_importance = model_name._model_json['output']['variable_importances']['scaled_importance']\n",
        "    ax.barh(y_pos,scaled_importance,align='center',color='green')\n",
        "    ax.set_yticks(y_pos)\n",
        "    ax.set_yticklabels(variables)\n",
        "    ax.invert_yaxis()\n",
        "    ax.set_xlabel('Scaled Importance')\n",
        "    ax.set_title(m_name + ' Variable Importance')\n",
        "    plt.show()\n",
        "    \n",
        "VarImp(RF_modl,'Random Forest')\n"
      ],
      "execution_count": 48,
      "outputs": [
        {
          "output_type": "display_data",
          "data": {
            "image/png": "[encoded data removed]",
            "text/plain": [
              "<Figure size 600x2050 with 1 Axes>"
            ]
          },
          "metadata": {
            "tags": []
          }
        }
      ]
    },
    {
      "cell_type": "code",
      "metadata": {
        "id": "uwCfoGFNjoEa"
      },
      "source": [
        "def actual_predict(model,test_hex,target):\n",
        "    y_pred = model.predict(test_hex).as_data_frame()\n",
        "    y_actual = test_hex[target].as_data_frame()\n",
        "    df_actual_predict = pd.concat([y_actual,y_pred],axis=1)\n",
        "    df_actual_predict.columns = ['actual','pred']\n",
        "    return(df_actual_predict)"
      ],
      "execution_count": 16,
      "outputs": []
    },
    {
      "cell_type": "code",
      "metadata": {
        "id": "OFxF5bqdFD67",
        "outputId": "6b252a16-00f7-48a9-83a6-626c4f50175f",
        "colab": {
          "base_uri": "https://localhost:8080/",
          "height": 275
        }
      },
      "source": [
        "RF_actual_predict = actual_predict(RF_modl,test_hex,target)\n",
        "RF_actual_predict.head()"
      ],
      "execution_count": 45,
      "outputs": [
        {
          "output_type": "stream",
          "text": [
            "drf prediction progress: |████████████████████████████████████████████████| 100%\n"
          ],
          "name": "stdout"
        },
        {
          "output_type": "stream",
          "text": [
            "/usr/local/lib/python3.6/dist-packages/h2o/job.py:70: UserWarning: Test/Validation dataset column 'MB007' has levels not trained on: [4G, HASEE, HTC, IPAD4, IVVI, KINGSUN, PROTRULY, SMARTISAN, YEPEN]\n",
            "  warnings.warn(w)\n"
          ],
          "name": "stderr"
        },
        {
          "output_type": "execute_result",
          "data": {
            "text/html": [
              "<div>\n",
              "<style scoped>\n",
              "    .dataframe tbody tr th:only-of-type {\n",
              "        vertical-align: middle;\n",
              "    }\n",
              "\n",
              "    .dataframe tbody tr th {\n",
              "        vertical-align: top;\n",
              "    }\n",
              "\n",
              "    .dataframe thead th {\n",
              "        text-align: right;\n",
              "    }\n",
              "</style>\n",
              "<table border=\"1\" class=\"dataframe\">\n",
              "  <thead>\n",
              "    <tr style=\"text-align: right;\">\n",
              "      <th></th>\n",
              "      <th>actual</th>\n",
              "      <th>pred</th>\n",
              "    </tr>\n",
              "  </thead>\n",
              "  <tbody>\n",
              "    <tr>\n",
              "      <th>0</th>\n",
              "      <td>0</td>\n",
              "      <td>0.276288</td>\n",
              "    </tr>\n",
              "    <tr>\n",
              "      <th>1</th>\n",
              "      <td>0</td>\n",
              "      <td>0.158607</td>\n",
              "    </tr>\n",
              "    <tr>\n",
              "      <th>2</th>\n",
              "      <td>0</td>\n",
              "      <td>0.122370</td>\n",
              "    </tr>\n",
              "    <tr>\n",
              "      <th>3</th>\n",
              "      <td>0</td>\n",
              "      <td>0.225707</td>\n",
              "    </tr>\n",
              "    <tr>\n",
              "      <th>4</th>\n",
              "      <td>0</td>\n",
              "      <td>0.119219</td>\n",
              "    </tr>\n",
              "  </tbody>\n",
              "</table>\n",
              "</div>"
            ],
            "text/plain": [
              "   actual      pred\n",
              "0       0  0.276288\n",
              "1       0  0.158607\n",
              "2       0  0.122370\n",
              "3       0  0.225707\n",
              "4       0  0.119219"
            ]
          },
          "metadata": {
            "tags": []
          },
          "execution_count": 45
        }
      ]
    },
    {
      "cell_type": "code",
      "metadata": {
        "id": "kQI91Csejp96"
      },
      "source": [
        "def gains_table(df_actual_predict):\n",
        "    df_actual_predict = df_actual_predict.sort_values(by='pred',ascending=False)\n",
        "    df_actual_predict['row_id'] = range(0,0+len(df_actual_predict))\n",
        "    \n",
        "    df_actual_predict['decile'] = (df_actual_predict['row_id'] / (len(df_actual_predict)/10)).astype(int)\n",
        "    df_actual_predict.loc[df_actual_predict['decile'] == 10] =9\n",
        "    \n",
        "    # Create gains table\n",
        "    gains = df_actual_predict.groupby('decile')['actual'].agg(['count','sum'])\n",
        "    gains.columns = ['count','actual']\n",
        "    gains\n",
        "\n",
        "    gains['non_actual'] = gains['count'] - gains['actual']\n",
        "    gains['cum_count'] = gains['count'].cumsum()\n",
        "    gains['cum_actual'] = gains['actual'].cumsum()\n",
        "    gains['cum_non_actual'] = gains['non_actual'].cumsum()\n",
        "    gains['percent_cum_actual'] = (gains['cum_actual'] / np.max(gains['cum_actual'])).round(2)\n",
        "    gains['percent_cum_non_actual'] = (gains['cum_non_actual'] / np.max(gains['cum_non_actual'])).round(2)\n",
        "    gains['if_random'] = np.max(gains['cum_actual']) /10\n",
        "    gains['if_random'] = gains['if_random'].cumsum()\n",
        "    gains['lift'] = (gains['cum_actual'] / gains['if_random']).round(2)\n",
        "    gains['K_S'] = np.abs( gains['percent_cum_actual'] - gains['percent_cum_non_actual']  ) * 100 \n",
        "    gains['gain'] = (gains['cum_actual'] / gains['cum_count']*100).round(2)\n",
        "    return(gains)"
      ],
      "execution_count": 17,
      "outputs": []
    },
    {
      "cell_type": "code",
      "metadata": {
        "id": "Daab7_xyGTVG",
        "outputId": "3d1fa846-0516-4c15-bf3e-4143d5a9337b",
        "colab": {
          "base_uri": "https://localhost:8080/",
          "height": 410
        }
      },
      "source": [
        "RF_gains = gains_table(RF_actual_predict)\n",
        "RF_gains"
      ],
      "execution_count": 47,
      "outputs": [
        {
          "output_type": "execute_result",
          "data": {
            "text/html": [
              "<div>\n",
              "<style scoped>\n",
              "    .dataframe tbody tr th:only-of-type {\n",
              "        vertical-align: middle;\n",
              "    }\n",
              "\n",
              "    .dataframe tbody tr th {\n",
              "        vertical-align: top;\n",
              "    }\n",
              "\n",
              "    .dataframe thead th {\n",
              "        text-align: right;\n",
              "    }\n",
              "</style>\n",
              "<table border=\"1\" class=\"dataframe\">\n",
              "  <thead>\n",
              "    <tr style=\"text-align: right;\">\n",
              "      <th></th>\n",
              "      <th>count</th>\n",
              "      <th>actual</th>\n",
              "      <th>non_actual</th>\n",
              "      <th>cum_count</th>\n",
              "      <th>cum_actual</th>\n",
              "      <th>cum_non_actual</th>\n",
              "      <th>percent_cum_actual</th>\n",
              "      <th>percent_cum_non_actual</th>\n",
              "      <th>if_random</th>\n",
              "      <th>lift</th>\n",
              "      <th>K_S</th>\n",
              "      <th>gain</th>\n",
              "    </tr>\n",
              "    <tr>\n",
              "      <th>decile</th>\n",
              "      <th></th>\n",
              "      <th></th>\n",
              "      <th></th>\n",
              "      <th></th>\n",
              "      <th></th>\n",
              "      <th></th>\n",
              "      <th></th>\n",
              "      <th></th>\n",
              "      <th></th>\n",
              "      <th></th>\n",
              "      <th></th>\n",
              "      <th></th>\n",
              "    </tr>\n",
              "  </thead>\n",
              "  <tbody>\n",
              "    <tr>\n",
              "      <th>0</th>\n",
              "      <td>320</td>\n",
              "      <td>113</td>\n",
              "      <td>207</td>\n",
              "      <td>320</td>\n",
              "      <td>113</td>\n",
              "      <td>207</td>\n",
              "      <td>0.19</td>\n",
              "      <td>0.08</td>\n",
              "      <td>60.0</td>\n",
              "      <td>1.88</td>\n",
              "      <td>11.0</td>\n",
              "      <td>35.31</td>\n",
              "    </tr>\n",
              "    <tr>\n",
              "      <th>1</th>\n",
              "      <td>320</td>\n",
              "      <td>93</td>\n",
              "      <td>227</td>\n",
              "      <td>640</td>\n",
              "      <td>206</td>\n",
              "      <td>434</td>\n",
              "      <td>0.34</td>\n",
              "      <td>0.17</td>\n",
              "      <td>120.0</td>\n",
              "      <td>1.72</td>\n",
              "      <td>17.0</td>\n",
              "      <td>32.19</td>\n",
              "    </tr>\n",
              "    <tr>\n",
              "      <th>2</th>\n",
              "      <td>320</td>\n",
              "      <td>75</td>\n",
              "      <td>245</td>\n",
              "      <td>960</td>\n",
              "      <td>281</td>\n",
              "      <td>679</td>\n",
              "      <td>0.47</td>\n",
              "      <td>0.26</td>\n",
              "      <td>180.0</td>\n",
              "      <td>1.56</td>\n",
              "      <td>21.0</td>\n",
              "      <td>29.27</td>\n",
              "    </tr>\n",
              "    <tr>\n",
              "      <th>3</th>\n",
              "      <td>320</td>\n",
              "      <td>65</td>\n",
              "      <td>255</td>\n",
              "      <td>1280</td>\n",
              "      <td>346</td>\n",
              "      <td>934</td>\n",
              "      <td>0.58</td>\n",
              "      <td>0.36</td>\n",
              "      <td>240.0</td>\n",
              "      <td>1.44</td>\n",
              "      <td>22.0</td>\n",
              "      <td>27.03</td>\n",
              "    </tr>\n",
              "    <tr>\n",
              "      <th>4</th>\n",
              "      <td>320</td>\n",
              "      <td>60</td>\n",
              "      <td>260</td>\n",
              "      <td>1600</td>\n",
              "      <td>406</td>\n",
              "      <td>1194</td>\n",
              "      <td>0.68</td>\n",
              "      <td>0.46</td>\n",
              "      <td>300.0</td>\n",
              "      <td>1.35</td>\n",
              "      <td>22.0</td>\n",
              "      <td>25.37</td>\n",
              "    </tr>\n",
              "    <tr>\n",
              "      <th>5</th>\n",
              "      <td>320</td>\n",
              "      <td>44</td>\n",
              "      <td>276</td>\n",
              "      <td>1920</td>\n",
              "      <td>450</td>\n",
              "      <td>1470</td>\n",
              "      <td>0.75</td>\n",
              "      <td>0.57</td>\n",
              "      <td>360.0</td>\n",
              "      <td>1.25</td>\n",
              "      <td>18.0</td>\n",
              "      <td>23.44</td>\n",
              "    </tr>\n",
              "    <tr>\n",
              "      <th>6</th>\n",
              "      <td>320</td>\n",
              "      <td>38</td>\n",
              "      <td>282</td>\n",
              "      <td>2240</td>\n",
              "      <td>488</td>\n",
              "      <td>1752</td>\n",
              "      <td>0.81</td>\n",
              "      <td>0.67</td>\n",
              "      <td>420.0</td>\n",
              "      <td>1.16</td>\n",
              "      <td>14.0</td>\n",
              "      <td>21.79</td>\n",
              "    </tr>\n",
              "    <tr>\n",
              "      <th>7</th>\n",
              "      <td>320</td>\n",
              "      <td>52</td>\n",
              "      <td>268</td>\n",
              "      <td>2560</td>\n",
              "      <td>540</td>\n",
              "      <td>2020</td>\n",
              "      <td>0.90</td>\n",
              "      <td>0.78</td>\n",
              "      <td>480.0</td>\n",
              "      <td>1.12</td>\n",
              "      <td>12.0</td>\n",
              "      <td>21.09</td>\n",
              "    </tr>\n",
              "    <tr>\n",
              "      <th>8</th>\n",
              "      <td>320</td>\n",
              "      <td>37</td>\n",
              "      <td>283</td>\n",
              "      <td>2880</td>\n",
              "      <td>577</td>\n",
              "      <td>2303</td>\n",
              "      <td>0.96</td>\n",
              "      <td>0.89</td>\n",
              "      <td>540.0</td>\n",
              "      <td>1.07</td>\n",
              "      <td>7.0</td>\n",
              "      <td>20.03</td>\n",
              "    </tr>\n",
              "    <tr>\n",
              "      <th>9</th>\n",
              "      <td>320</td>\n",
              "      <td>23</td>\n",
              "      <td>297</td>\n",
              "      <td>3200</td>\n",
              "      <td>600</td>\n",
              "      <td>2600</td>\n",
              "      <td>1.00</td>\n",
              "      <td>1.00</td>\n",
              "      <td>600.0</td>\n",
              "      <td>1.00</td>\n",
              "      <td>0.0</td>\n",
              "      <td>18.75</td>\n",
              "    </tr>\n",
              "  </tbody>\n",
              "</table>\n",
              "</div>"
            ],
            "text/plain": [
              "        count  actual  non_actual  cum_count  ...  if_random  lift   K_S   gain\n",
              "decile                                        ...                              \n",
              "0         320     113         207        320  ...       60.0  1.88  11.0  35.31\n",
              "1         320      93         227        640  ...      120.0  1.72  17.0  32.19\n",
              "2         320      75         245        960  ...      180.0  1.56  21.0  29.27\n",
              "3         320      65         255       1280  ...      240.0  1.44  22.0  27.03\n",
              "4         320      60         260       1600  ...      300.0  1.35  22.0  25.37\n",
              "5         320      44         276       1920  ...      360.0  1.25  18.0  23.44\n",
              "6         320      38         282       2240  ...      420.0  1.16  14.0  21.79\n",
              "7         320      52         268       2560  ...      480.0  1.12  12.0  21.09\n",
              "8         320      37         283       2880  ...      540.0  1.07   7.0  20.03\n",
              "9         320      23         297       3200  ...      600.0  1.00   0.0  18.75\n",
              "\n",
              "[10 rows x 12 columns]"
            ]
          },
          "metadata": {
            "tags": []
          },
          "execution_count": 47
        }
      ]
    },
    {
      "cell_type": "code",
      "metadata": {
        "id": "15JVhEJSjwgP"
      },
      "source": [
        "# ROC\n",
        "from sklearn.metrics import roc_curve,roc_auc_score, auc \n",
        "from sklearn.metrics import average_precision_score, precision_recall_curve\n"
      ],
      "execution_count": 18,
      "outputs": []
    },
    {
      "cell_type": "code",
      "metadata": {
        "id": "2s5yiElOGQ0Y",
        "outputId": "17f36a91-cadc-4b81-9056-9b316d6a318a",
        "colab": {
          "base_uri": "https://localhost:8080/"
        }
      },
      "source": [
        "dd = RF_actual_predict\n",
        "RF_roc_auc_value = roc_auc_score(dd['actual'],dd['pred'])\n",
        "RF_roc_auc_value"
      ],
      "execution_count": 46,
      "outputs": [
        {
          "output_type": "execute_result",
          "data": {
            "text/plain": [
              "0.6473371794871795"
            ]
          },
          "metadata": {
            "tags": []
          },
          "execution_count": 46
        }
      ]
    },
    {
      "cell_type": "code",
      "metadata": {
        "id": "mbOfSDSZjz5P"
      },
      "source": [
        "def ROC_PR(df_actual_predict):\n",
        "    \n",
        "    # ROC\n",
        "    from sklearn.metrics import roc_curve,roc_auc_score, auc \n",
        "    from sklearn.metrics import average_precision_score, precision_recall_curve\n",
        "\n",
        "    roc_auc_value = roc_auc_score(df_actual_predict['actual'],df_actual_predict['pred'])\n",
        "    fpr, tpr, _ = roc_curve(df_actual_predict['actual'],df_actual_predict['pred'])\n",
        "    roc_auc = auc(fpr,tpr)\n",
        "    \n",
        "    import matplotlib.pyplot as plt\n",
        "    lw=2\n",
        "    plt.figure(figsize=(10,4))\n",
        "    plt.subplot(1,2,1)\n",
        "    plt.plot(fpr,tpr, color='darkorange',lw=lw,label='AUC = %0.4f)' %roc_auc_value)\n",
        "    plt.plot([0,1],[0,1], color='navy',lw=lw,linestyle='--')\n",
        "    plt.xlim([0,1])\n",
        "    plt.ylim([0,1])\n",
        "    plt.xlabel('False Positive Rate')\n",
        "    plt.ylabel('True Positive Rate')\n",
        "    plt.title('ROC Curve: AUC={0:0.4f}'.format(roc_auc_value))\n",
        "    plt.legend(loc='lower right')\n",
        "    \n",
        "    # Precision-Recall\n",
        "    plt.subplot(1,2,2)\n",
        "    average_precision = average_precision_score(df_actual_predict['actual'],df_actual_predict['pred'])\n",
        "    precision, recall, _ = precision_recall_curve(df_actual_predict['actual'],df_actual_predict['pred'])\n",
        "    plt.step(recall, precision, color='b', alpha=0.2, where='post')\n",
        "    plt.fill_between(recall,precision,step='post',alpha=0.2,color='b')\n",
        "    plt.xlabel('Recall')\n",
        "    plt.ylabel('Precision')\n",
        "    plt.ylim([0.0,1.05])\n",
        "    plt.ylim([0.0,1.05])\n",
        "    plt.title('Precision-Recall curve: PR={0:0.4f}'.format(average_precision))"
      ],
      "execution_count": 19,
      "outputs": []
    },
    {
      "cell_type": "code",
      "metadata": {
        "id": "JNvasu9qGXbR",
        "outputId": "a4fa567b-c9f9-45aa-e2f5-556391f355bd",
        "colab": {
          "base_uri": "https://localhost:8080/",
          "height": 410
        }
      },
      "source": [
        "ROC_PR(RF_actual_predict)"
      ],
      "execution_count": 49,
      "outputs": [
        {
          "output_type": "display_data",
          "data": {
            "image/png": "[encoded data removed]",
            "text/plain": [
              "<Figure size 1000x400 with 2 Axes>"
            ]
          },
          "metadata": {
            "tags": []
          }
        }
      ]
    },
    {
      "cell_type": "markdown",
      "metadata": {
        "id": "OVwWDEW-Gzvr"
      },
      "source": [
        "Now the code works fine with the small dataset, we can model with the entire dataset"
      ]
    },
    {
      "cell_type": "code",
      "metadata": {
        "id": "PS2FgARCG0UU",
        "outputId": "7f1d3e49-147f-4f36-8a43-e53d32acf42d",
        "colab": {
          "base_uri": "https://localhost:8080/"
        }
      },
      "source": [
        "rf_v2 = H2ORandomForestEstimator(\n",
        "        model_id = 'rf_v2',\n",
        "        ntrees = 300,\n",
        "        nfolds=10,\n",
        "        min_rows=100,\n",
        "        seed=1234)\n",
        "rf_v2.train(predictors,target,training_frame=train_hex2)"
      ],
      "execution_count": 57,
      "outputs": [
        {
          "output_type": "stream",
          "text": [
            "/usr/local/lib/python3.6/dist-packages/h2o/estimators/estimator_base.py:200: RuntimeWarning: Dropping bad and constant columns: [CR012, AP005]\n",
            "  warnings.warn(mesg[\"message\"], RuntimeWarning)\n"
          ],
          "name": "stderr"
        },
        {
          "output_type": "stream",
          "text": [
            "drf Model Build progress: |███████████████████████████████████████████████| 100%\n"
          ],
          "name": "stdout"
        }
      ]
    },
    {
      "cell_type": "code",
      "metadata": {
        "id": "ZzqKQyLLMx8k",
        "outputId": "406184f1-f8ef-4c57-ac9b-9204bdc743c5",
        "colab": {
          "base_uri": "https://localhost:8080/",
          "height": 275
        }
      },
      "source": [
        "RF_actual_predict2 = actual_predict(rf_v2,test_hex2,target)\n",
        "RF_actual_predict2.head()"
      ],
      "execution_count": 58,
      "outputs": [
        {
          "output_type": "stream",
          "text": [
            "drf prediction progress: |████████████████████████████████████████████████| 100%\n"
          ],
          "name": "stdout"
        },
        {
          "output_type": "stream",
          "text": [
            "/usr/local/lib/python3.6/dist-packages/h2o/job.py:70: UserWarning: Test/Validation dataset column 'MB007' has levels not trained on: [AND, ANDROID, APPLE, EYU, HASEE, HONGLAJIAO, IPAD3, KDDI, KINGSUN, MANN, MILAI, MLLED, MONEYMAKINGMACHINE, OUKI, PHILIPS, PROTRULY, RAMOS, REDGOO, SM-W2016, VOLTE, YEPEN]\n",
            "  warnings.warn(w)\n"
          ],
          "name": "stderr"
        },
        {
          "output_type": "execute_result",
          "data": {
            "text/html": [
              "<div>\n",
              "<style scoped>\n",
              "    .dataframe tbody tr th:only-of-type {\n",
              "        vertical-align: middle;\n",
              "    }\n",
              "\n",
              "    .dataframe tbody tr th {\n",
              "        vertical-align: top;\n",
              "    }\n",
              "\n",
              "    .dataframe thead th {\n",
              "        text-align: right;\n",
              "    }\n",
              "</style>\n",
              "<table border=\"1\" class=\"dataframe\">\n",
              "  <thead>\n",
              "    <tr style=\"text-align: right;\">\n",
              "      <th></th>\n",
              "      <th>actual</th>\n",
              "      <th>pred</th>\n",
              "    </tr>\n",
              "  </thead>\n",
              "  <tbody>\n",
              "    <tr>\n",
              "      <th>0</th>\n",
              "      <td>0</td>\n",
              "      <td>0.121171</td>\n",
              "    </tr>\n",
              "    <tr>\n",
              "      <th>1</th>\n",
              "      <td>0</td>\n",
              "      <td>0.190274</td>\n",
              "    </tr>\n",
              "    <tr>\n",
              "      <th>2</th>\n",
              "      <td>0</td>\n",
              "      <td>0.110506</td>\n",
              "    </tr>\n",
              "    <tr>\n",
              "      <th>3</th>\n",
              "      <td>1</td>\n",
              "      <td>0.207747</td>\n",
              "    </tr>\n",
              "    <tr>\n",
              "      <th>4</th>\n",
              "      <td>0</td>\n",
              "      <td>0.471553</td>\n",
              "    </tr>\n",
              "  </tbody>\n",
              "</table>\n",
              "</div>"
            ],
            "text/plain": [
              "   actual      pred\n",
              "0       0  0.121171\n",
              "1       0  0.190274\n",
              "2       0  0.110506\n",
              "3       1  0.207747\n",
              "4       0  0.471553"
            ]
          },
          "metadata": {
            "tags": []
          },
          "execution_count": 58
        }
      ]
    },
    {
      "cell_type": "code",
      "metadata": {
        "id": "xjQk_RQ9G5RL",
        "outputId": "b4e8ea06-18f1-41bf-a151-9dc920c78329",
        "colab": {
          "base_uri": "https://localhost:8080/",
          "height": 410
        }
      },
      "source": [
        "gains_table(RF_actual_predict2)"
      ],
      "execution_count": 59,
      "outputs": [
        {
          "output_type": "execute_result",
          "data": {
            "text/html": [
              "<div>\n",
              "<style scoped>\n",
              "    .dataframe tbody tr th:only-of-type {\n",
              "        vertical-align: middle;\n",
              "    }\n",
              "\n",
              "    .dataframe tbody tr th {\n",
              "        vertical-align: top;\n",
              "    }\n",
              "\n",
              "    .dataframe thead th {\n",
              "        text-align: right;\n",
              "    }\n",
              "</style>\n",
              "<table border=\"1\" class=\"dataframe\">\n",
              "  <thead>\n",
              "    <tr style=\"text-align: right;\">\n",
              "      <th></th>\n",
              "      <th>count</th>\n",
              "      <th>actual</th>\n",
              "      <th>non_actual</th>\n",
              "      <th>cum_count</th>\n",
              "      <th>cum_actual</th>\n",
              "      <th>cum_non_actual</th>\n",
              "      <th>percent_cum_actual</th>\n",
              "      <th>percent_cum_non_actual</th>\n",
              "      <th>if_random</th>\n",
              "      <th>lift</th>\n",
              "      <th>K_S</th>\n",
              "      <th>gain</th>\n",
              "    </tr>\n",
              "    <tr>\n",
              "      <th>decile</th>\n",
              "      <th></th>\n",
              "      <th></th>\n",
              "      <th></th>\n",
              "      <th></th>\n",
              "      <th></th>\n",
              "      <th></th>\n",
              "      <th></th>\n",
              "      <th></th>\n",
              "      <th></th>\n",
              "      <th></th>\n",
              "      <th></th>\n",
              "      <th></th>\n",
              "    </tr>\n",
              "  </thead>\n",
              "  <tbody>\n",
              "    <tr>\n",
              "      <th>0</th>\n",
              "      <td>3200</td>\n",
              "      <td>1270</td>\n",
              "      <td>1930</td>\n",
              "      <td>3200</td>\n",
              "      <td>1270</td>\n",
              "      <td>1930</td>\n",
              "      <td>0.20</td>\n",
              "      <td>0.07</td>\n",
              "      <td>622.4</td>\n",
              "      <td>2.04</td>\n",
              "      <td>13.0</td>\n",
              "      <td>39.69</td>\n",
              "    </tr>\n",
              "    <tr>\n",
              "      <th>1</th>\n",
              "      <td>3200</td>\n",
              "      <td>984</td>\n",
              "      <td>2216</td>\n",
              "      <td>6400</td>\n",
              "      <td>2254</td>\n",
              "      <td>4146</td>\n",
              "      <td>0.36</td>\n",
              "      <td>0.16</td>\n",
              "      <td>1244.8</td>\n",
              "      <td>1.81</td>\n",
              "      <td>20.0</td>\n",
              "      <td>35.22</td>\n",
              "    </tr>\n",
              "    <tr>\n",
              "      <th>2</th>\n",
              "      <td>3200</td>\n",
              "      <td>806</td>\n",
              "      <td>2394</td>\n",
              "      <td>9600</td>\n",
              "      <td>3060</td>\n",
              "      <td>6540</td>\n",
              "      <td>0.49</td>\n",
              "      <td>0.25</td>\n",
              "      <td>1867.2</td>\n",
              "      <td>1.64</td>\n",
              "      <td>24.0</td>\n",
              "      <td>31.87</td>\n",
              "    </tr>\n",
              "    <tr>\n",
              "      <th>3</th>\n",
              "      <td>3200</td>\n",
              "      <td>740</td>\n",
              "      <td>2460</td>\n",
              "      <td>12800</td>\n",
              "      <td>3800</td>\n",
              "      <td>9000</td>\n",
              "      <td>0.61</td>\n",
              "      <td>0.35</td>\n",
              "      <td>2489.6</td>\n",
              "      <td>1.53</td>\n",
              "      <td>26.0</td>\n",
              "      <td>29.69</td>\n",
              "    </tr>\n",
              "    <tr>\n",
              "      <th>4</th>\n",
              "      <td>3200</td>\n",
              "      <td>620</td>\n",
              "      <td>2580</td>\n",
              "      <td>16000</td>\n",
              "      <td>4420</td>\n",
              "      <td>11580</td>\n",
              "      <td>0.71</td>\n",
              "      <td>0.45</td>\n",
              "      <td>3112.0</td>\n",
              "      <td>1.42</td>\n",
              "      <td>26.0</td>\n",
              "      <td>27.62</td>\n",
              "    </tr>\n",
              "    <tr>\n",
              "      <th>5</th>\n",
              "      <td>3200</td>\n",
              "      <td>514</td>\n",
              "      <td>2686</td>\n",
              "      <td>19200</td>\n",
              "      <td>4934</td>\n",
              "      <td>14266</td>\n",
              "      <td>0.79</td>\n",
              "      <td>0.55</td>\n",
              "      <td>3734.4</td>\n",
              "      <td>1.32</td>\n",
              "      <td>24.0</td>\n",
              "      <td>25.70</td>\n",
              "    </tr>\n",
              "    <tr>\n",
              "      <th>6</th>\n",
              "      <td>3200</td>\n",
              "      <td>463</td>\n",
              "      <td>2737</td>\n",
              "      <td>22400</td>\n",
              "      <td>5397</td>\n",
              "      <td>17003</td>\n",
              "      <td>0.87</td>\n",
              "      <td>0.66</td>\n",
              "      <td>4356.8</td>\n",
              "      <td>1.24</td>\n",
              "      <td>21.0</td>\n",
              "      <td>24.09</td>\n",
              "    </tr>\n",
              "    <tr>\n",
              "      <th>7</th>\n",
              "      <td>3200</td>\n",
              "      <td>388</td>\n",
              "      <td>2812</td>\n",
              "      <td>25600</td>\n",
              "      <td>5785</td>\n",
              "      <td>19815</td>\n",
              "      <td>0.93</td>\n",
              "      <td>0.77</td>\n",
              "      <td>4979.2</td>\n",
              "      <td>1.16</td>\n",
              "      <td>16.0</td>\n",
              "      <td>22.60</td>\n",
              "    </tr>\n",
              "    <tr>\n",
              "      <th>8</th>\n",
              "      <td>3200</td>\n",
              "      <td>275</td>\n",
              "      <td>2925</td>\n",
              "      <td>28800</td>\n",
              "      <td>6060</td>\n",
              "      <td>22740</td>\n",
              "      <td>0.97</td>\n",
              "      <td>0.88</td>\n",
              "      <td>5601.6</td>\n",
              "      <td>1.08</td>\n",
              "      <td>9.0</td>\n",
              "      <td>21.04</td>\n",
              "    </tr>\n",
              "    <tr>\n",
              "      <th>9</th>\n",
              "      <td>3200</td>\n",
              "      <td>164</td>\n",
              "      <td>3036</td>\n",
              "      <td>32000</td>\n",
              "      <td>6224</td>\n",
              "      <td>25776</td>\n",
              "      <td>1.00</td>\n",
              "      <td>1.00</td>\n",
              "      <td>6224.0</td>\n",
              "      <td>1.00</td>\n",
              "      <td>0.0</td>\n",
              "      <td>19.45</td>\n",
              "    </tr>\n",
              "  </tbody>\n",
              "</table>\n",
              "</div>"
            ],
            "text/plain": [
              "        count  actual  non_actual  cum_count  ...  if_random  lift   K_S   gain\n",
              "decile                                        ...                              \n",
              "0        3200    1270        1930       3200  ...      622.4  2.04  13.0  39.69\n",
              "1        3200     984        2216       6400  ...     1244.8  1.81  20.0  35.22\n",
              "2        3200     806        2394       9600  ...     1867.2  1.64  24.0  31.87\n",
              "3        3200     740        2460      12800  ...     2489.6  1.53  26.0  29.69\n",
              "4        3200     620        2580      16000  ...     3112.0  1.42  26.0  27.62\n",
              "5        3200     514        2686      19200  ...     3734.4  1.32  24.0  25.70\n",
              "6        3200     463        2737      22400  ...     4356.8  1.24  21.0  24.09\n",
              "7        3200     388        2812      25600  ...     4979.2  1.16  16.0  22.60\n",
              "8        3200     275        2925      28800  ...     5601.6  1.08   9.0  21.04\n",
              "9        3200     164        3036      32000  ...     6224.0  1.00   0.0  19.45\n",
              "\n",
              "[10 rows x 12 columns]"
            ]
          },
          "metadata": {
            "tags": []
          },
          "execution_count": 59
        }
      ]
    },
    {
      "cell_type": "markdown",
      "metadata": {
        "id": "d9TPxXovPA3k"
      },
      "source": [
        "Random forest gives a 2.04 lift for the all dataset. The next step is to apply the concept of oversampling and undersampling, to test whether the predictability is enhanced"
      ]
    },
    {
      "cell_type": "markdown",
      "metadata": {
        "id": "Jbthy8SGSXi0"
      },
      "source": [
        "# Sampling"
      ]
    },
    {
      "cell_type": "code",
      "metadata": {
        "id": "IjSpIySNShw0",
        "outputId": "16aa7369-d7af-4d81-cd39-6065124ee6d0",
        "colab": {
          "base_uri": "https://localhost:8080/"
        }
      },
      "source": [
        "rf_v3 = H2ORandomForestEstimator(\n",
        "        model_id = 'rf_v3',\n",
        "        ntrees = 300,\n",
        "        nfolds=10,\n",
        "        min_rows=100,\n",
        "        balance_classes = True,\n",
        "        seed=1234)\n",
        "rf_v3.train(predictors,target,training_frame=train_hex)"
      ],
      "execution_count": 60,
      "outputs": [
        {
          "output_type": "stream",
          "text": [
            "/usr/local/lib/python3.6/dist-packages/h2o/estimators/estimator_base.py:200: RuntimeWarning: Dropping bad and constant columns: [TD054, TD051, TD062, TD061, CR012, TD048, AP005, TD055]\n",
            "  warnings.warn(mesg[\"message\"], RuntimeWarning)\n"
          ],
          "name": "stderr"
        },
        {
          "output_type": "stream",
          "text": [
            "drf Model Build progress: |███████████████████████████████████████████████| 100%\n"
          ],
          "name": "stdout"
        }
      ]
    },
    {
      "cell_type": "code",
      "metadata": {
        "id": "dm6qhVSBS6yl",
        "outputId": "2b6e9406-991a-45ae-b09f-571a4d6b2c09",
        "colab": {
          "base_uri": "https://localhost:8080/",
          "height": 275
        }
      },
      "source": [
        "RF_actual_predict3 = actual_predict(rf_v3,test_hex,target)\n",
        "RF_actual_predict3.head()"
      ],
      "execution_count": 63,
      "outputs": [
        {
          "output_type": "stream",
          "text": [
            "drf prediction progress: |████████████████████████████████████████████████| 100%\n"
          ],
          "name": "stdout"
        },
        {
          "output_type": "stream",
          "text": [
            "/usr/local/lib/python3.6/dist-packages/h2o/job.py:70: UserWarning: Test/Validation dataset column 'MB007' has levels not trained on: [4G, HASEE, HTC, IPAD4, IVVI, KINGSUN, PROTRULY, SMARTISAN, YEPEN]\n",
            "  warnings.warn(w)\n"
          ],
          "name": "stderr"
        },
        {
          "output_type": "execute_result",
          "data": {
            "text/html": [
              "<div>\n",
              "<style scoped>\n",
              "    .dataframe tbody tr th:only-of-type {\n",
              "        vertical-align: middle;\n",
              "    }\n",
              "\n",
              "    .dataframe tbody tr th {\n",
              "        vertical-align: top;\n",
              "    }\n",
              "\n",
              "    .dataframe thead th {\n",
              "        text-align: right;\n",
              "    }\n",
              "</style>\n",
              "<table border=\"1\" class=\"dataframe\">\n",
              "  <thead>\n",
              "    <tr style=\"text-align: right;\">\n",
              "      <th></th>\n",
              "      <th>actual</th>\n",
              "      <th>pred</th>\n",
              "    </tr>\n",
              "  </thead>\n",
              "  <tbody>\n",
              "    <tr>\n",
              "      <th>0</th>\n",
              "      <td>0</td>\n",
              "      <td>0.276288</td>\n",
              "    </tr>\n",
              "    <tr>\n",
              "      <th>1</th>\n",
              "      <td>0</td>\n",
              "      <td>0.158607</td>\n",
              "    </tr>\n",
              "    <tr>\n",
              "      <th>2</th>\n",
              "      <td>0</td>\n",
              "      <td>0.122370</td>\n",
              "    </tr>\n",
              "    <tr>\n",
              "      <th>3</th>\n",
              "      <td>0</td>\n",
              "      <td>0.225707</td>\n",
              "    </tr>\n",
              "    <tr>\n",
              "      <th>4</th>\n",
              "      <td>0</td>\n",
              "      <td>0.119219</td>\n",
              "    </tr>\n",
              "  </tbody>\n",
              "</table>\n",
              "</div>"
            ],
            "text/plain": [
              "   actual      pred\n",
              "0       0  0.276288\n",
              "1       0  0.158607\n",
              "2       0  0.122370\n",
              "3       0  0.225707\n",
              "4       0  0.119219"
            ]
          },
          "metadata": {
            "tags": []
          },
          "execution_count": 63
        }
      ]
    },
    {
      "cell_type": "code",
      "metadata": {
        "id": "5Csv-ML4S0QN",
        "outputId": "1571f671-35e3-4902-fd84-11840be0e80b",
        "colab": {
          "base_uri": "https://localhost:8080/",
          "height": 410
        }
      },
      "source": [
        "gains_table(RF_actual_predict3)"
      ],
      "execution_count": 64,
      "outputs": [
        {
          "output_type": "execute_result",
          "data": {
            "text/html": [
              "<div>\n",
              "<style scoped>\n",
              "    .dataframe tbody tr th:only-of-type {\n",
              "        vertical-align: middle;\n",
              "    }\n",
              "\n",
              "    .dataframe tbody tr th {\n",
              "        vertical-align: top;\n",
              "    }\n",
              "\n",
              "    .dataframe thead th {\n",
              "        text-align: right;\n",
              "    }\n",
              "</style>\n",
              "<table border=\"1\" class=\"dataframe\">\n",
              "  <thead>\n",
              "    <tr style=\"text-align: right;\">\n",
              "      <th></th>\n",
              "      <th>count</th>\n",
              "      <th>actual</th>\n",
              "      <th>non_actual</th>\n",
              "      <th>cum_count</th>\n",
              "      <th>cum_actual</th>\n",
              "      <th>cum_non_actual</th>\n",
              "      <th>percent_cum_actual</th>\n",
              "      <th>percent_cum_non_actual</th>\n",
              "      <th>if_random</th>\n",
              "      <th>lift</th>\n",
              "      <th>K_S</th>\n",
              "      <th>gain</th>\n",
              "    </tr>\n",
              "    <tr>\n",
              "      <th>decile</th>\n",
              "      <th></th>\n",
              "      <th></th>\n",
              "      <th></th>\n",
              "      <th></th>\n",
              "      <th></th>\n",
              "      <th></th>\n",
              "      <th></th>\n",
              "      <th></th>\n",
              "      <th></th>\n",
              "      <th></th>\n",
              "      <th></th>\n",
              "      <th></th>\n",
              "    </tr>\n",
              "  </thead>\n",
              "  <tbody>\n",
              "    <tr>\n",
              "      <th>0</th>\n",
              "      <td>320</td>\n",
              "      <td>113</td>\n",
              "      <td>207</td>\n",
              "      <td>320</td>\n",
              "      <td>113</td>\n",
              "      <td>207</td>\n",
              "      <td>0.19</td>\n",
              "      <td>0.08</td>\n",
              "      <td>60.0</td>\n",
              "      <td>1.88</td>\n",
              "      <td>11.0</td>\n",
              "      <td>35.31</td>\n",
              "    </tr>\n",
              "    <tr>\n",
              "      <th>1</th>\n",
              "      <td>320</td>\n",
              "      <td>93</td>\n",
              "      <td>227</td>\n",
              "      <td>640</td>\n",
              "      <td>206</td>\n",
              "      <td>434</td>\n",
              "      <td>0.34</td>\n",
              "      <td>0.17</td>\n",
              "      <td>120.0</td>\n",
              "      <td>1.72</td>\n",
              "      <td>17.0</td>\n",
              "      <td>32.19</td>\n",
              "    </tr>\n",
              "    <tr>\n",
              "      <th>2</th>\n",
              "      <td>320</td>\n",
              "      <td>75</td>\n",
              "      <td>245</td>\n",
              "      <td>960</td>\n",
              "      <td>281</td>\n",
              "      <td>679</td>\n",
              "      <td>0.47</td>\n",
              "      <td>0.26</td>\n",
              "      <td>180.0</td>\n",
              "      <td>1.56</td>\n",
              "      <td>21.0</td>\n",
              "      <td>29.27</td>\n",
              "    </tr>\n",
              "    <tr>\n",
              "      <th>3</th>\n",
              "      <td>320</td>\n",
              "      <td>65</td>\n",
              "      <td>255</td>\n",
              "      <td>1280</td>\n",
              "      <td>346</td>\n",
              "      <td>934</td>\n",
              "      <td>0.58</td>\n",
              "      <td>0.36</td>\n",
              "      <td>240.0</td>\n",
              "      <td>1.44</td>\n",
              "      <td>22.0</td>\n",
              "      <td>27.03</td>\n",
              "    </tr>\n",
              "    <tr>\n",
              "      <th>4</th>\n",
              "      <td>320</td>\n",
              "      <td>60</td>\n",
              "      <td>260</td>\n",
              "      <td>1600</td>\n",
              "      <td>406</td>\n",
              "      <td>1194</td>\n",
              "      <td>0.68</td>\n",
              "      <td>0.46</td>\n",
              "      <td>300.0</td>\n",
              "      <td>1.35</td>\n",
              "      <td>22.0</td>\n",
              "      <td>25.37</td>\n",
              "    </tr>\n",
              "    <tr>\n",
              "      <th>5</th>\n",
              "      <td>320</td>\n",
              "      <td>44</td>\n",
              "      <td>276</td>\n",
              "      <td>1920</td>\n",
              "      <td>450</td>\n",
              "      <td>1470</td>\n",
              "      <td>0.75</td>\n",
              "      <td>0.57</td>\n",
              "      <td>360.0</td>\n",
              "      <td>1.25</td>\n",
              "      <td>18.0</td>\n",
              "      <td>23.44</td>\n",
              "    </tr>\n",
              "    <tr>\n",
              "      <th>6</th>\n",
              "      <td>320</td>\n",
              "      <td>38</td>\n",
              "      <td>282</td>\n",
              "      <td>2240</td>\n",
              "      <td>488</td>\n",
              "      <td>1752</td>\n",
              "      <td>0.81</td>\n",
              "      <td>0.67</td>\n",
              "      <td>420.0</td>\n",
              "      <td>1.16</td>\n",
              "      <td>14.0</td>\n",
              "      <td>21.79</td>\n",
              "    </tr>\n",
              "    <tr>\n",
              "      <th>7</th>\n",
              "      <td>320</td>\n",
              "      <td>52</td>\n",
              "      <td>268</td>\n",
              "      <td>2560</td>\n",
              "      <td>540</td>\n",
              "      <td>2020</td>\n",
              "      <td>0.90</td>\n",
              "      <td>0.78</td>\n",
              "      <td>480.0</td>\n",
              "      <td>1.12</td>\n",
              "      <td>12.0</td>\n",
              "      <td>21.09</td>\n",
              "    </tr>\n",
              "    <tr>\n",
              "      <th>8</th>\n",
              "      <td>320</td>\n",
              "      <td>37</td>\n",
              "      <td>283</td>\n",
              "      <td>2880</td>\n",
              "      <td>577</td>\n",
              "      <td>2303</td>\n",
              "      <td>0.96</td>\n",
              "      <td>0.89</td>\n",
              "      <td>540.0</td>\n",
              "      <td>1.07</td>\n",
              "      <td>7.0</td>\n",
              "      <td>20.03</td>\n",
              "    </tr>\n",
              "    <tr>\n",
              "      <th>9</th>\n",
              "      <td>320</td>\n",
              "      <td>23</td>\n",
              "      <td>297</td>\n",
              "      <td>3200</td>\n",
              "      <td>600</td>\n",
              "      <td>2600</td>\n",
              "      <td>1.00</td>\n",
              "      <td>1.00</td>\n",
              "      <td>600.0</td>\n",
              "      <td>1.00</td>\n",
              "      <td>0.0</td>\n",
              "      <td>18.75</td>\n",
              "    </tr>\n",
              "  </tbody>\n",
              "</table>\n",
              "</div>"
            ],
            "text/plain": [
              "        count  actual  non_actual  cum_count  ...  if_random  lift   K_S   gain\n",
              "decile                                        ...                              \n",
              "0         320     113         207        320  ...       60.0  1.88  11.0  35.31\n",
              "1         320      93         227        640  ...      120.0  1.72  17.0  32.19\n",
              "2         320      75         245        960  ...      180.0  1.56  21.0  29.27\n",
              "3         320      65         255       1280  ...      240.0  1.44  22.0  27.03\n",
              "4         320      60         260       1600  ...      300.0  1.35  22.0  25.37\n",
              "5         320      44         276       1920  ...      360.0  1.25  18.0  23.44\n",
              "6         320      38         282       2240  ...      420.0  1.16  14.0  21.79\n",
              "7         320      52         268       2560  ...      480.0  1.12  12.0  21.09\n",
              "8         320      37         283       2880  ...      540.0  1.07   7.0  20.03\n",
              "9         320      23         297       3200  ...      600.0  1.00   0.0  18.75\n",
              "\n",
              "[10 rows x 12 columns]"
            ]
          },
          "metadata": {
            "tags": []
          },
          "execution_count": 64
        }
      ]
    },
    {
      "cell_type": "markdown",
      "metadata": {
        "id": "iW4nbi-YLNPT"
      },
      "source": [
        "## Oversampling Techniques"
      ]
    },
    {
      "cell_type": "code",
      "metadata": {
        "id": "FKSXCqA0wTVh"
      },
      "source": [
        "from imblearn.over_sampling import (RandomOverSampler, \n",
        "                                    SMOTE, \n",
        "                                    ADASYN)"
      ],
      "execution_count": 67,
      "outputs": []
    },
    {
      "cell_type": "code",
      "metadata": {
        "id": "ZBX1-FpWCho9"
      },
      "source": [
        "# RandomOverSampler\n",
        "# With over-sampling methods, the number of samples in a class\n",
        "# should be greater or equal to the original number of samples.\n",
        "sampler = RandomOverSampler(random_state=42)\n",
        "X_rs, y_rs = sampler.fit_sample(X2, y)"
      ],
      "execution_count": 203,
      "outputs": []
    },
    {
      "cell_type": "code",
      "metadata": {
        "id": "SPcv9IkcD4sE",
        "outputId": "ebd2f41d-3adc-436c-afc9-e674282350c8",
        "colab": {
          "base_uri": "https://localhost:8080/"
        }
      },
      "source": [
        "df_ro = pd.concat([X_rs, y_rs],axis=1)\n",
        "df_hex_ro = h2o.H2OFrame(df_ro)\n",
        "\n",
        "train_ro,test_ro = train_test_split(df_ro,test_size=0.4,random_state=1234)\n",
        "train_hex_ro = h2o.H2OFrame(train_ro)\n",
        "test_hex_ro = h2o.H2OFrame(test_ro)"
      ],
      "execution_count": 186,
      "outputs": [
        {
          "output_type": "stream",
          "text": [
            "Parse progress: |█████████████████████████████████████████████████████████| 100%\n",
            "Parse progress: |█████████████████████████████████████████████████████████| 100%\n",
            "Parse progress: |█████████████████████████████████████████████████████████| 100%\n"
          ],
          "name": "stdout"
        }
      ]
    },
    {
      "cell_type": "code",
      "metadata": {
        "id": "D7luz4oPHlUa",
        "outputId": "10ba0e26-bda5-4434-ad66-a7775cdabb99",
        "colab": {
          "base_uri": "https://localhost:8080/"
        }
      },
      "source": [
        "train_smp_ro = train_ro.sample(frac=0.1, random_state=1)\n",
        "test_smp_ro = test_ro.sample(frac=0.1, random_state=1)\n",
        "train_hex_sam_ro = h2o.H2OFrame(train_smp_ro)\n",
        "test_hex_sam_ro = h2o.H2OFrame(test_smp_ro)"
      ],
      "execution_count": 190,
      "outputs": [
        {
          "output_type": "stream",
          "text": [
            "Parse progress: |█████████████████████████████████████████████████████████| 100%\n",
            "Parse progress: |█████████████████████████████████████████████████████████| 100%\n"
          ],
          "name": "stdout"
        }
      ]
    },
    {
      "cell_type": "code",
      "metadata": {
        "id": "eTrqRa2jFS64",
        "outputId": "cf7fccfa-2e3d-4465-9f8d-0e03e755b754",
        "colab": {
          "base_uri": "https://localhost:8080/"
        }
      },
      "source": [
        "rf_v6 = H2ORandomForestEstimator(\n",
        "        model_id = 'rf_v6',\n",
        "        ntrees = 300,\n",
        "        nfolds=10,\n",
        "        min_rows=100,\n",
        "        seed=1234)\n",
        "rf_v6.train(predictors2,target,training_frame=train_hex_sam_ro)"
      ],
      "execution_count": 192,
      "outputs": [
        {
          "output_type": "stream",
          "text": [
            "/usr/local/lib/python3.6/dist-packages/h2o/estimators/estimator_base.py:200: RuntimeWarning: Dropping bad and constant columns: [TD054, TD051, TD062, TD061, CR012, TD029, TD028, TD027, TD026, TD048, TD025, TD044, TD055]\n",
            "  warnings.warn(mesg[\"message\"], RuntimeWarning)\n"
          ],
          "name": "stderr"
        },
        {
          "output_type": "stream",
          "text": [
            "drf Model Build progress: |███████████████████████████████████████████████| 100%\n"
          ],
          "name": "stdout"
        }
      ]
    },
    {
      "cell_type": "code",
      "metadata": {
        "id": "vixDFxCMIYAd",
        "outputId": "1873575b-e8de-4e89-b091-d94ee3b2cc3d",
        "colab": {
          "base_uri": "https://localhost:8080/",
          "height": 427
        }
      },
      "source": [
        "RF_actual_predict6 = actual_predict(rf_v6,test_hex_sam_ro,target)\n",
        "gains_table(RF_actual_predict6)"
      ],
      "execution_count": 193,
      "outputs": [
        {
          "output_type": "stream",
          "text": [
            "drf prediction progress: |████████████████████████████████████████████████| 100%\n"
          ],
          "name": "stdout"
        },
        {
          "output_type": "execute_result",
          "data": {
            "text/html": [
              "<div>\n",
              "<style scoped>\n",
              "    .dataframe tbody tr th:only-of-type {\n",
              "        vertical-align: middle;\n",
              "    }\n",
              "\n",
              "    .dataframe tbody tr th {\n",
              "        vertical-align: top;\n",
              "    }\n",
              "\n",
              "    .dataframe thead th {\n",
              "        text-align: right;\n",
              "    }\n",
              "</style>\n",
              "<table border=\"1\" class=\"dataframe\">\n",
              "  <thead>\n",
              "    <tr style=\"text-align: right;\">\n",
              "      <th></th>\n",
              "      <th>count</th>\n",
              "      <th>actual</th>\n",
              "      <th>non_actual</th>\n",
              "      <th>cum_count</th>\n",
              "      <th>cum_actual</th>\n",
              "      <th>cum_non_actual</th>\n",
              "      <th>percent_cum_actual</th>\n",
              "      <th>percent_cum_non_actual</th>\n",
              "      <th>if_random</th>\n",
              "      <th>lift</th>\n",
              "      <th>K_S</th>\n",
              "      <th>gain</th>\n",
              "    </tr>\n",
              "    <tr>\n",
              "      <th>decile</th>\n",
              "      <th></th>\n",
              "      <th></th>\n",
              "      <th></th>\n",
              "      <th></th>\n",
              "      <th></th>\n",
              "      <th></th>\n",
              "      <th></th>\n",
              "      <th></th>\n",
              "      <th></th>\n",
              "      <th></th>\n",
              "      <th></th>\n",
              "      <th></th>\n",
              "    </tr>\n",
              "  </thead>\n",
              "  <tbody>\n",
              "    <tr>\n",
              "      <th>0</th>\n",
              "      <td>517</td>\n",
              "      <td>391</td>\n",
              "      <td>126</td>\n",
              "      <td>517</td>\n",
              "      <td>391</td>\n",
              "      <td>126</td>\n",
              "      <td>0.15</td>\n",
              "      <td>0.05</td>\n",
              "      <td>257.9</td>\n",
              "      <td>1.52</td>\n",
              "      <td>10.0</td>\n",
              "      <td>75.63</td>\n",
              "    </tr>\n",
              "    <tr>\n",
              "      <th>1</th>\n",
              "      <td>516</td>\n",
              "      <td>348</td>\n",
              "      <td>168</td>\n",
              "      <td>1033</td>\n",
              "      <td>739</td>\n",
              "      <td>294</td>\n",
              "      <td>0.29</td>\n",
              "      <td>0.11</td>\n",
              "      <td>515.8</td>\n",
              "      <td>1.43</td>\n",
              "      <td>18.0</td>\n",
              "      <td>71.54</td>\n",
              "    </tr>\n",
              "    <tr>\n",
              "      <th>2</th>\n",
              "      <td>516</td>\n",
              "      <td>309</td>\n",
              "      <td>207</td>\n",
              "      <td>1549</td>\n",
              "      <td>1048</td>\n",
              "      <td>501</td>\n",
              "      <td>0.41</td>\n",
              "      <td>0.19</td>\n",
              "      <td>773.7</td>\n",
              "      <td>1.35</td>\n",
              "      <td>22.0</td>\n",
              "      <td>67.66</td>\n",
              "    </tr>\n",
              "    <tr>\n",
              "      <th>3</th>\n",
              "      <td>516</td>\n",
              "      <td>285</td>\n",
              "      <td>231</td>\n",
              "      <td>2065</td>\n",
              "      <td>1333</td>\n",
              "      <td>732</td>\n",
              "      <td>0.52</td>\n",
              "      <td>0.28</td>\n",
              "      <td>1031.6</td>\n",
              "      <td>1.29</td>\n",
              "      <td>24.0</td>\n",
              "      <td>64.55</td>\n",
              "    </tr>\n",
              "    <tr>\n",
              "      <th>4</th>\n",
              "      <td>516</td>\n",
              "      <td>281</td>\n",
              "      <td>235</td>\n",
              "      <td>2581</td>\n",
              "      <td>1614</td>\n",
              "      <td>967</td>\n",
              "      <td>0.63</td>\n",
              "      <td>0.37</td>\n",
              "      <td>1289.5</td>\n",
              "      <td>1.25</td>\n",
              "      <td>26.0</td>\n",
              "      <td>62.53</td>\n",
              "    </tr>\n",
              "    <tr>\n",
              "      <th>5</th>\n",
              "      <td>516</td>\n",
              "      <td>250</td>\n",
              "      <td>266</td>\n",
              "      <td>3097</td>\n",
              "      <td>1864</td>\n",
              "      <td>1233</td>\n",
              "      <td>0.72</td>\n",
              "      <td>0.48</td>\n",
              "      <td>1547.4</td>\n",
              "      <td>1.20</td>\n",
              "      <td>24.0</td>\n",
              "      <td>60.19</td>\n",
              "    </tr>\n",
              "    <tr>\n",
              "      <th>6</th>\n",
              "      <td>516</td>\n",
              "      <td>235</td>\n",
              "      <td>281</td>\n",
              "      <td>3613</td>\n",
              "      <td>2099</td>\n",
              "      <td>1514</td>\n",
              "      <td>0.81</td>\n",
              "      <td>0.59</td>\n",
              "      <td>1805.3</td>\n",
              "      <td>1.16</td>\n",
              "      <td>22.0</td>\n",
              "      <td>58.10</td>\n",
              "    </tr>\n",
              "    <tr>\n",
              "      <th>7</th>\n",
              "      <td>516</td>\n",
              "      <td>204</td>\n",
              "      <td>312</td>\n",
              "      <td>4129</td>\n",
              "      <td>2303</td>\n",
              "      <td>1826</td>\n",
              "      <td>0.89</td>\n",
              "      <td>0.71</td>\n",
              "      <td>2063.2</td>\n",
              "      <td>1.12</td>\n",
              "      <td>18.0</td>\n",
              "      <td>55.78</td>\n",
              "    </tr>\n",
              "    <tr>\n",
              "      <th>8</th>\n",
              "      <td>516</td>\n",
              "      <td>176</td>\n",
              "      <td>340</td>\n",
              "      <td>4645</td>\n",
              "      <td>2479</td>\n",
              "      <td>2166</td>\n",
              "      <td>0.96</td>\n",
              "      <td>0.84</td>\n",
              "      <td>2321.1</td>\n",
              "      <td>1.07</td>\n",
              "      <td>12.0</td>\n",
              "      <td>53.37</td>\n",
              "    </tr>\n",
              "    <tr>\n",
              "      <th>9</th>\n",
              "      <td>516</td>\n",
              "      <td>100</td>\n",
              "      <td>416</td>\n",
              "      <td>5161</td>\n",
              "      <td>2579</td>\n",
              "      <td>2582</td>\n",
              "      <td>1.00</td>\n",
              "      <td>1.00</td>\n",
              "      <td>2579.0</td>\n",
              "      <td>1.00</td>\n",
              "      <td>0.0</td>\n",
              "      <td>49.97</td>\n",
              "    </tr>\n",
              "  </tbody>\n",
              "</table>\n",
              "</div>"
            ],
            "text/plain": [
              "        count  actual  non_actual  cum_count  ...  if_random  lift   K_S   gain\n",
              "decile                                        ...                              \n",
              "0         517     391         126        517  ...      257.9  1.52  10.0  75.63\n",
              "1         516     348         168       1033  ...      515.8  1.43  18.0  71.54\n",
              "2         516     309         207       1549  ...      773.7  1.35  22.0  67.66\n",
              "3         516     285         231       2065  ...     1031.6  1.29  24.0  64.55\n",
              "4         516     281         235       2581  ...     1289.5  1.25  26.0  62.53\n",
              "5         516     250         266       3097  ...     1547.4  1.20  24.0  60.19\n",
              "6         516     235         281       3613  ...     1805.3  1.16  22.0  58.10\n",
              "7         516     204         312       4129  ...     2063.2  1.12  18.0  55.78\n",
              "8         516     176         340       4645  ...     2321.1  1.07  12.0  53.37\n",
              "9         516     100         416       5161  ...     2579.0  1.00   0.0  49.97\n",
              "\n",
              "[10 rows x 12 columns]"
            ]
          },
          "metadata": {
            "tags": []
          },
          "execution_count": 193
        }
      ]
    },
    {
      "cell_type": "code",
      "metadata": {
        "id": "E9QLok-jcuQf"
      },
      "source": [
        "# SMOTE\n",
        "sampler_smote = SMOTE(random_state=0)\n",
        "X_rs_smote, y_rs_smote = sampler_smote.fit_sample(X2, y)\n",
        "#plot_this(X_rs_smote, y_rs_smote,'Oversampling Using SMOTE')"
      ],
      "execution_count": 169,
      "outputs": []
    },
    {
      "cell_type": "code",
      "metadata": {
        "id": "1T-u0Y6CIiRE",
        "outputId": "29ef3352-1e48-42c2-abd9-cce8ee7bd5cf",
        "colab": {
          "base_uri": "https://localhost:8080/"
        }
      },
      "source": [
        "df_smote = pd.concat([X_rs_smote, y_rs_smote],axis=1)\n",
        "df_hex_smote = h2o.H2OFrame(df_smote)\n",
        "\n",
        "train_smote,test_smote = train_test_split(df_smote,test_size=0.4,random_state=1234)\n",
        "train_smp_smote = train_smote.sample(frac=0.1, random_state=1)\n",
        "test_smp_smote = test_smote.sample(frac=0.1, random_state=1)\n",
        "train_hex_sam_smote = h2o.H2OFrame(train_smp_smote)\n",
        "test_hex_sam_smote = h2o.H2OFrame(test_smp_smote)"
      ],
      "execution_count": 197,
      "outputs": [
        {
          "output_type": "stream",
          "text": [
            "Parse progress: |█████████████████████████████████████████████████████████| 100%\n",
            "Parse progress: |█████████████████████████████████████████████████████████| 100%\n",
            "Parse progress: |█████████████████████████████████████████████████████████| 100%\n"
          ],
          "name": "stdout"
        }
      ]
    },
    {
      "cell_type": "code",
      "metadata": {
        "id": "2KUmBjJoJHim",
        "outputId": "e4719404-a78c-4831-bcf2-f54ebf9153bf",
        "colab": {
          "base_uri": "https://localhost:8080/"
        }
      },
      "source": [
        "rf_v7 = H2ORandomForestEstimator(\n",
        "        model_id = 'rf_v7',\n",
        "        ntrees = 300,\n",
        "        nfolds=10,\n",
        "        min_rows=100,\n",
        "        seed=1234)\n",
        "rf_v7.train(predictors2,target,training_frame=train_hex_sam_smote)"
      ],
      "execution_count": 195,
      "outputs": [
        {
          "output_type": "stream",
          "text": [
            "/usr/local/lib/python3.6/dist-packages/h2o/estimators/estimator_base.py:200: RuntimeWarning: Dropping bad and constant columns: [TD054, TD051, TD062, TD061, CR012, TD029, TD028, TD027, TD026, TD048, TD025, TD044, TD055]\n",
            "  warnings.warn(mesg[\"message\"], RuntimeWarning)\n"
          ],
          "name": "stderr"
        },
        {
          "output_type": "stream",
          "text": [
            "drf Model Build progress: |███████████████████████████████████████████████| 100%\n"
          ],
          "name": "stdout"
        }
      ]
    },
    {
      "cell_type": "code",
      "metadata": {
        "id": "3zC4MJwLJRwq",
        "outputId": "36e261c0-e3d0-4912-c668-eb2ab160fb2b",
        "colab": {
          "base_uri": "https://localhost:8080/",
          "height": 427
        }
      },
      "source": [
        "RF_actual_predict7 = actual_predict(rf_v7,test_hex_sam_smote,target)\n",
        "gains_table(RF_actual_predict7)"
      ],
      "execution_count": 198,
      "outputs": [
        {
          "output_type": "stream",
          "text": [
            "drf prediction progress: |████████████████████████████████████████████████| 100%\n"
          ],
          "name": "stdout"
        },
        {
          "output_type": "execute_result",
          "data": {
            "text/html": [
              "<div>\n",
              "<style scoped>\n",
              "    .dataframe tbody tr th:only-of-type {\n",
              "        vertical-align: middle;\n",
              "    }\n",
              "\n",
              "    .dataframe tbody tr th {\n",
              "        vertical-align: top;\n",
              "    }\n",
              "\n",
              "    .dataframe thead th {\n",
              "        text-align: right;\n",
              "    }\n",
              "</style>\n",
              "<table border=\"1\" class=\"dataframe\">\n",
              "  <thead>\n",
              "    <tr style=\"text-align: right;\">\n",
              "      <th></th>\n",
              "      <th>count</th>\n",
              "      <th>actual</th>\n",
              "      <th>non_actual</th>\n",
              "      <th>cum_count</th>\n",
              "      <th>cum_actual</th>\n",
              "      <th>cum_non_actual</th>\n",
              "      <th>percent_cum_actual</th>\n",
              "      <th>percent_cum_non_actual</th>\n",
              "      <th>if_random</th>\n",
              "      <th>lift</th>\n",
              "      <th>K_S</th>\n",
              "      <th>gain</th>\n",
              "    </tr>\n",
              "    <tr>\n",
              "      <th>decile</th>\n",
              "      <th></th>\n",
              "      <th></th>\n",
              "      <th></th>\n",
              "      <th></th>\n",
              "      <th></th>\n",
              "      <th></th>\n",
              "      <th></th>\n",
              "      <th></th>\n",
              "      <th></th>\n",
              "      <th></th>\n",
              "      <th></th>\n",
              "      <th></th>\n",
              "    </tr>\n",
              "  </thead>\n",
              "  <tbody>\n",
              "    <tr>\n",
              "      <th>0</th>\n",
              "      <td>517</td>\n",
              "      <td>517</td>\n",
              "      <td>0</td>\n",
              "      <td>517</td>\n",
              "      <td>517</td>\n",
              "      <td>0</td>\n",
              "      <td>0.20</td>\n",
              "      <td>0.00</td>\n",
              "      <td>257.9</td>\n",
              "      <td>2.00</td>\n",
              "      <td>20.0</td>\n",
              "      <td>100.00</td>\n",
              "    </tr>\n",
              "    <tr>\n",
              "      <th>1</th>\n",
              "      <td>516</td>\n",
              "      <td>512</td>\n",
              "      <td>4</td>\n",
              "      <td>1033</td>\n",
              "      <td>1029</td>\n",
              "      <td>4</td>\n",
              "      <td>0.40</td>\n",
              "      <td>0.00</td>\n",
              "      <td>515.8</td>\n",
              "      <td>1.99</td>\n",
              "      <td>40.0</td>\n",
              "      <td>99.61</td>\n",
              "    </tr>\n",
              "    <tr>\n",
              "      <th>2</th>\n",
              "      <td>516</td>\n",
              "      <td>441</td>\n",
              "      <td>75</td>\n",
              "      <td>1549</td>\n",
              "      <td>1470</td>\n",
              "      <td>79</td>\n",
              "      <td>0.57</td>\n",
              "      <td>0.03</td>\n",
              "      <td>773.7</td>\n",
              "      <td>1.90</td>\n",
              "      <td>54.0</td>\n",
              "      <td>94.90</td>\n",
              "    </tr>\n",
              "    <tr>\n",
              "      <th>3</th>\n",
              "      <td>516</td>\n",
              "      <td>287</td>\n",
              "      <td>229</td>\n",
              "      <td>2065</td>\n",
              "      <td>1757</td>\n",
              "      <td>308</td>\n",
              "      <td>0.68</td>\n",
              "      <td>0.12</td>\n",
              "      <td>1031.6</td>\n",
              "      <td>1.70</td>\n",
              "      <td>56.0</td>\n",
              "      <td>85.08</td>\n",
              "    </tr>\n",
              "    <tr>\n",
              "      <th>4</th>\n",
              "      <td>516</td>\n",
              "      <td>248</td>\n",
              "      <td>268</td>\n",
              "      <td>2581</td>\n",
              "      <td>2005</td>\n",
              "      <td>576</td>\n",
              "      <td>0.78</td>\n",
              "      <td>0.22</td>\n",
              "      <td>1289.5</td>\n",
              "      <td>1.55</td>\n",
              "      <td>56.0</td>\n",
              "      <td>77.68</td>\n",
              "    </tr>\n",
              "    <tr>\n",
              "      <th>5</th>\n",
              "      <td>516</td>\n",
              "      <td>174</td>\n",
              "      <td>342</td>\n",
              "      <td>3097</td>\n",
              "      <td>2179</td>\n",
              "      <td>918</td>\n",
              "      <td>0.84</td>\n",
              "      <td>0.36</td>\n",
              "      <td>1547.4</td>\n",
              "      <td>1.41</td>\n",
              "      <td>48.0</td>\n",
              "      <td>70.36</td>\n",
              "    </tr>\n",
              "    <tr>\n",
              "      <th>6</th>\n",
              "      <td>516</td>\n",
              "      <td>151</td>\n",
              "      <td>365</td>\n",
              "      <td>3613</td>\n",
              "      <td>2330</td>\n",
              "      <td>1283</td>\n",
              "      <td>0.90</td>\n",
              "      <td>0.50</td>\n",
              "      <td>1805.3</td>\n",
              "      <td>1.29</td>\n",
              "      <td>40.0</td>\n",
              "      <td>64.49</td>\n",
              "    </tr>\n",
              "    <tr>\n",
              "      <th>7</th>\n",
              "      <td>516</td>\n",
              "      <td>104</td>\n",
              "      <td>412</td>\n",
              "      <td>4129</td>\n",
              "      <td>2434</td>\n",
              "      <td>1695</td>\n",
              "      <td>0.94</td>\n",
              "      <td>0.66</td>\n",
              "      <td>2063.2</td>\n",
              "      <td>1.18</td>\n",
              "      <td>28.0</td>\n",
              "      <td>58.95</td>\n",
              "    </tr>\n",
              "    <tr>\n",
              "      <th>8</th>\n",
              "      <td>516</td>\n",
              "      <td>85</td>\n",
              "      <td>431</td>\n",
              "      <td>4645</td>\n",
              "      <td>2519</td>\n",
              "      <td>2126</td>\n",
              "      <td>0.98</td>\n",
              "      <td>0.82</td>\n",
              "      <td>2321.1</td>\n",
              "      <td>1.09</td>\n",
              "      <td>16.0</td>\n",
              "      <td>54.23</td>\n",
              "    </tr>\n",
              "    <tr>\n",
              "      <th>9</th>\n",
              "      <td>516</td>\n",
              "      <td>60</td>\n",
              "      <td>456</td>\n",
              "      <td>5161</td>\n",
              "      <td>2579</td>\n",
              "      <td>2582</td>\n",
              "      <td>1.00</td>\n",
              "      <td>1.00</td>\n",
              "      <td>2579.0</td>\n",
              "      <td>1.00</td>\n",
              "      <td>0.0</td>\n",
              "      <td>49.97</td>\n",
              "    </tr>\n",
              "  </tbody>\n",
              "</table>\n",
              "</div>"
            ],
            "text/plain": [
              "        count  actual  non_actual  cum_count  ...  if_random  lift   K_S    gain\n",
              "decile                                        ...                               \n",
              "0         517     517           0        517  ...      257.9  2.00  20.0  100.00\n",
              "1         516     512           4       1033  ...      515.8  1.99  40.0   99.61\n",
              "2         516     441          75       1549  ...      773.7  1.90  54.0   94.90\n",
              "3         516     287         229       2065  ...     1031.6  1.70  56.0   85.08\n",
              "4         516     248         268       2581  ...     1289.5  1.55  56.0   77.68\n",
              "5         516     174         342       3097  ...     1547.4  1.41  48.0   70.36\n",
              "6         516     151         365       3613  ...     1805.3  1.29  40.0   64.49\n",
              "7         516     104         412       4129  ...     2063.2  1.18  28.0   58.95\n",
              "8         516      85         431       4645  ...     2321.1  1.09  16.0   54.23\n",
              "9         516      60         456       5161  ...     2579.0  1.00   0.0   49.97\n",
              "\n",
              "[10 rows x 12 columns]"
            ]
          },
          "metadata": {
            "tags": []
          },
          "execution_count": 198
        }
      ]
    },
    {
      "cell_type": "code",
      "metadata": {
        "id": "OSJ04RSfc0Ct"
      },
      "source": [
        "# ADASYN\n",
        "sampler_ada = ADASYN(random_state=0)\n",
        "X_rs_ada, y_rs_ada = sampler.fit_sample(X2, y)\n",
        "#plot_this(X_rs_ada, y_rs_ada,'Oversampling Using ADASYN')"
      ],
      "execution_count": 170,
      "outputs": []
    },
    {
      "cell_type": "code",
      "metadata": {
        "id": "b5YE166rE3e8",
        "outputId": "83a2eb53-6ea3-448a-dbd7-56638bfa63c5",
        "colab": {
          "base_uri": "https://localhost:8080/"
        }
      },
      "source": [
        "df_ada = pd.concat([X_rs_ada, y_rs_ada],axis=1)\n",
        "df_hex_ada = h2o.H2OFrame(df_ada)\n",
        "\n",
        "train_ada,test_ada = train_test_split(df_ada,test_size=0.4,random_state=1234)\n",
        "train_smp_ada = train_ada.sample(frac=0.1, random_state=1)\n",
        "test_smp_ada = test_ada.sample(frac=0.1, random_state=1)\n",
        "train_hex_sam_ada = h2o.H2OFrame(train_smp_ada)\n",
        "test_hex_sam_ada = h2o.H2OFrame(test_smp_ada)"
      ],
      "execution_count": 199,
      "outputs": [
        {
          "output_type": "stream",
          "text": [
            "Parse progress: |█████████████████████████████████████████████████████████| 100%\n",
            "Parse progress: |█████████████████████████████████████████████████████████| 100%\n",
            "Parse progress: |█████████████████████████████████████████████████████████| 100%\n"
          ],
          "name": "stdout"
        }
      ]
    },
    {
      "cell_type": "code",
      "metadata": {
        "id": "cHxNQEg6J01T",
        "outputId": "dfcac199-2e44-4b67-cda7-259ed8a7d6ca",
        "colab": {
          "base_uri": "https://localhost:8080/"
        }
      },
      "source": [
        "rf_v8 = H2ORandomForestEstimator(\n",
        "        model_id = 'rf_v8',\n",
        "        ntrees = 300,\n",
        "        nfolds=10,\n",
        "        min_rows=100,\n",
        "        seed=1234)\n",
        "rf_v8.train(predictors2,target,training_frame=train_hex_sam_ada)"
      ],
      "execution_count": 200,
      "outputs": [
        {
          "output_type": "stream",
          "text": [
            "/usr/local/lib/python3.6/dist-packages/h2o/estimators/estimator_base.py:200: RuntimeWarning: Dropping bad and constant columns: [TD054, TD051, TD062, TD061, CR012, TD029, TD028, TD027, TD026, TD048, TD025, TD044, TD055]\n",
            "  warnings.warn(mesg[\"message\"], RuntimeWarning)\n"
          ],
          "name": "stderr"
        },
        {
          "output_type": "stream",
          "text": [
            "drf Model Build progress: |███████████████████████████████████████████████| 100%\n"
          ],
          "name": "stdout"
        }
      ]
    },
    {
      "cell_type": "code",
      "metadata": {
        "id": "rIuIr8DrKAeM",
        "outputId": "d69452de-48d1-432d-91ea-719e175b2de1",
        "colab": {
          "base_uri": "https://localhost:8080/",
          "height": 427
        }
      },
      "source": [
        "RF_actual_predict8 = actual_predict(rf_v8,test_hex_sam_ada,target)\n",
        "gains_table(RF_actual_predict8)"
      ],
      "execution_count": 201,
      "outputs": [
        {
          "output_type": "stream",
          "text": [
            "drf prediction progress: |████████████████████████████████████████████████| 100%\n"
          ],
          "name": "stdout"
        },
        {
          "output_type": "execute_result",
          "data": {
            "text/html": [
              "<div>\n",
              "<style scoped>\n",
              "    .dataframe tbody tr th:only-of-type {\n",
              "        vertical-align: middle;\n",
              "    }\n",
              "\n",
              "    .dataframe tbody tr th {\n",
              "        vertical-align: top;\n",
              "    }\n",
              "\n",
              "    .dataframe thead th {\n",
              "        text-align: right;\n",
              "    }\n",
              "</style>\n",
              "<table border=\"1\" class=\"dataframe\">\n",
              "  <thead>\n",
              "    <tr style=\"text-align: right;\">\n",
              "      <th></th>\n",
              "      <th>count</th>\n",
              "      <th>actual</th>\n",
              "      <th>non_actual</th>\n",
              "      <th>cum_count</th>\n",
              "      <th>cum_actual</th>\n",
              "      <th>cum_non_actual</th>\n",
              "      <th>percent_cum_actual</th>\n",
              "      <th>percent_cum_non_actual</th>\n",
              "      <th>if_random</th>\n",
              "      <th>lift</th>\n",
              "      <th>K_S</th>\n",
              "      <th>gain</th>\n",
              "    </tr>\n",
              "    <tr>\n",
              "      <th>decile</th>\n",
              "      <th></th>\n",
              "      <th></th>\n",
              "      <th></th>\n",
              "      <th></th>\n",
              "      <th></th>\n",
              "      <th></th>\n",
              "      <th></th>\n",
              "      <th></th>\n",
              "      <th></th>\n",
              "      <th></th>\n",
              "      <th></th>\n",
              "      <th></th>\n",
              "    </tr>\n",
              "  </thead>\n",
              "  <tbody>\n",
              "    <tr>\n",
              "      <th>0</th>\n",
              "      <td>517</td>\n",
              "      <td>391</td>\n",
              "      <td>126</td>\n",
              "      <td>517</td>\n",
              "      <td>391</td>\n",
              "      <td>126</td>\n",
              "      <td>0.15</td>\n",
              "      <td>0.05</td>\n",
              "      <td>257.9</td>\n",
              "      <td>1.52</td>\n",
              "      <td>10.0</td>\n",
              "      <td>75.63</td>\n",
              "    </tr>\n",
              "    <tr>\n",
              "      <th>1</th>\n",
              "      <td>516</td>\n",
              "      <td>348</td>\n",
              "      <td>168</td>\n",
              "      <td>1033</td>\n",
              "      <td>739</td>\n",
              "      <td>294</td>\n",
              "      <td>0.29</td>\n",
              "      <td>0.11</td>\n",
              "      <td>515.8</td>\n",
              "      <td>1.43</td>\n",
              "      <td>18.0</td>\n",
              "      <td>71.54</td>\n",
              "    </tr>\n",
              "    <tr>\n",
              "      <th>2</th>\n",
              "      <td>516</td>\n",
              "      <td>309</td>\n",
              "      <td>207</td>\n",
              "      <td>1549</td>\n",
              "      <td>1048</td>\n",
              "      <td>501</td>\n",
              "      <td>0.41</td>\n",
              "      <td>0.19</td>\n",
              "      <td>773.7</td>\n",
              "      <td>1.35</td>\n",
              "      <td>22.0</td>\n",
              "      <td>67.66</td>\n",
              "    </tr>\n",
              "    <tr>\n",
              "      <th>3</th>\n",
              "      <td>516</td>\n",
              "      <td>285</td>\n",
              "      <td>231</td>\n",
              "      <td>2065</td>\n",
              "      <td>1333</td>\n",
              "      <td>732</td>\n",
              "      <td>0.52</td>\n",
              "      <td>0.28</td>\n",
              "      <td>1031.6</td>\n",
              "      <td>1.29</td>\n",
              "      <td>24.0</td>\n",
              "      <td>64.55</td>\n",
              "    </tr>\n",
              "    <tr>\n",
              "      <th>4</th>\n",
              "      <td>516</td>\n",
              "      <td>281</td>\n",
              "      <td>235</td>\n",
              "      <td>2581</td>\n",
              "      <td>1614</td>\n",
              "      <td>967</td>\n",
              "      <td>0.63</td>\n",
              "      <td>0.37</td>\n",
              "      <td>1289.5</td>\n",
              "      <td>1.25</td>\n",
              "      <td>26.0</td>\n",
              "      <td>62.53</td>\n",
              "    </tr>\n",
              "    <tr>\n",
              "      <th>5</th>\n",
              "      <td>516</td>\n",
              "      <td>250</td>\n",
              "      <td>266</td>\n",
              "      <td>3097</td>\n",
              "      <td>1864</td>\n",
              "      <td>1233</td>\n",
              "      <td>0.72</td>\n",
              "      <td>0.48</td>\n",
              "      <td>1547.4</td>\n",
              "      <td>1.20</td>\n",
              "      <td>24.0</td>\n",
              "      <td>60.19</td>\n",
              "    </tr>\n",
              "    <tr>\n",
              "      <th>6</th>\n",
              "      <td>516</td>\n",
              "      <td>235</td>\n",
              "      <td>281</td>\n",
              "      <td>3613</td>\n",
              "      <td>2099</td>\n",
              "      <td>1514</td>\n",
              "      <td>0.81</td>\n",
              "      <td>0.59</td>\n",
              "      <td>1805.3</td>\n",
              "      <td>1.16</td>\n",
              "      <td>22.0</td>\n",
              "      <td>58.10</td>\n",
              "    </tr>\n",
              "    <tr>\n",
              "      <th>7</th>\n",
              "      <td>516</td>\n",
              "      <td>204</td>\n",
              "      <td>312</td>\n",
              "      <td>4129</td>\n",
              "      <td>2303</td>\n",
              "      <td>1826</td>\n",
              "      <td>0.89</td>\n",
              "      <td>0.71</td>\n",
              "      <td>2063.2</td>\n",
              "      <td>1.12</td>\n",
              "      <td>18.0</td>\n",
              "      <td>55.78</td>\n",
              "    </tr>\n",
              "    <tr>\n",
              "      <th>8</th>\n",
              "      <td>516</td>\n",
              "      <td>176</td>\n",
              "      <td>340</td>\n",
              "      <td>4645</td>\n",
              "      <td>2479</td>\n",
              "      <td>2166</td>\n",
              "      <td>0.96</td>\n",
              "      <td>0.84</td>\n",
              "      <td>2321.1</td>\n",
              "      <td>1.07</td>\n",
              "      <td>12.0</td>\n",
              "      <td>53.37</td>\n",
              "    </tr>\n",
              "    <tr>\n",
              "      <th>9</th>\n",
              "      <td>516</td>\n",
              "      <td>100</td>\n",
              "      <td>416</td>\n",
              "      <td>5161</td>\n",
              "      <td>2579</td>\n",
              "      <td>2582</td>\n",
              "      <td>1.00</td>\n",
              "      <td>1.00</td>\n",
              "      <td>2579.0</td>\n",
              "      <td>1.00</td>\n",
              "      <td>0.0</td>\n",
              "      <td>49.97</td>\n",
              "    </tr>\n",
              "  </tbody>\n",
              "</table>\n",
              "</div>"
            ],
            "text/plain": [
              "        count  actual  non_actual  cum_count  ...  if_random  lift   K_S   gain\n",
              "decile                                        ...                              \n",
              "0         517     391         126        517  ...      257.9  1.52  10.0  75.63\n",
              "1         516     348         168       1033  ...      515.8  1.43  18.0  71.54\n",
              "2         516     309         207       1549  ...      773.7  1.35  22.0  67.66\n",
              "3         516     285         231       2065  ...     1031.6  1.29  24.0  64.55\n",
              "4         516     281         235       2581  ...     1289.5  1.25  26.0  62.53\n",
              "5         516     250         266       3097  ...     1547.4  1.20  24.0  60.19\n",
              "6         516     235         281       3613  ...     1805.3  1.16  22.0  58.10\n",
              "7         516     204         312       4129  ...     2063.2  1.12  18.0  55.78\n",
              "8         516     176         340       4645  ...     2321.1  1.07  12.0  53.37\n",
              "9         516     100         416       5161  ...     2579.0  1.00   0.0  49.97\n",
              "\n",
              "[10 rows x 12 columns]"
            ]
          },
          "metadata": {
            "tags": []
          },
          "execution_count": 201
        }
      ]
    },
    {
      "cell_type": "markdown",
      "metadata": {
        "id": "1VJd9PxMK2kE"
      },
      "source": [
        "## Undersampling"
      ]
    },
    {
      "cell_type": "markdown",
      "metadata": {
        "id": "LjlHN2kuKIFX"
      },
      "source": [
        "Using Make imbalance"
      ]
    },
    {
      "cell_type": "code",
      "metadata": {
        "id": "idweVGzfLjqt",
        "outputId": "2ba005f0-dc50-48e8-db40-c0bd2d5f12d6",
        "colab": {
          "base_uri": "https://localhost:8080/"
        }
      },
      "source": [
        "y = loan_data[target]\n",
        "X = loan_data.drop(target,axis=1)\n",
        "y.dtypes"
      ],
      "execution_count": 204,
      "outputs": [
        {
          "output_type": "execute_result",
          "data": {
            "text/plain": [
              "dtype('int64')"
            ]
          },
          "metadata": {
            "tags": []
          },
          "execution_count": 204
        }
      ]
    },
    {
      "cell_type": "code",
      "metadata": {
        "id": "p9R5mFhRRtCM"
      },
      "source": [
        "X2 = loan_data3.drop(target, axis = 1)"
      ],
      "execution_count": 220,
      "outputs": []
    },
    {
      "cell_type": "code",
      "metadata": {
        "id": "1OS-VziOLrKa",
        "outputId": "c59ff77d-f096-4837-c4d8-471f75c1a05a",
        "colab": {
          "base_uri": "https://localhost:8080/"
        }
      },
      "source": [
        "y1_cnt = loan_data[target].sum()\n",
        "y1_cnt"
      ],
      "execution_count": 207,
      "outputs": [
        {
          "output_type": "execute_result",
          "data": {
            "text/plain": [
              "15488"
            ]
          },
          "metadata": {
            "tags": []
          },
          "execution_count": 207
        }
      ]
    },
    {
      "cell_type": "code",
      "metadata": {
        "id": "yV_IP9A8LvUU",
        "outputId": "23df2440-6940-44a5-c653-2012c2f72bdc",
        "colab": {
          "base_uri": "https://localhost:8080/"
        }
      },
      "source": [
        "N = 2\n",
        "y0_cnt = y1_cnt * N\n",
        "y0_cnt"
      ],
      "execution_count": 208,
      "outputs": [
        {
          "output_type": "execute_result",
          "data": {
            "text/plain": [
              "30976"
            ]
          },
          "metadata": {
            "tags": []
          },
          "execution_count": 208
        }
      ]
    },
    {
      "cell_type": "code",
      "metadata": {
        "id": "LDkbprvncT_T"
      },
      "source": [
        "from imblearn.under_sampling import (RandomUnderSampler, \n",
        "                                     ClusterCentroids,\n",
        "                                     TomekLinks,\n",
        "                                     NeighbourhoodCleaningRule,\n",
        "                                     NearMiss)"
      ],
      "execution_count": 39,
      "outputs": []
    },
    {
      "cell_type": "code",
      "metadata": {
        "id": "zh8jVFGcTZEw"
      },
      "source": [
        "from imblearn.datasets import make_imbalance\n",
        "X_rs, y_rs = make_imbalance(X, y, \n",
        "                            sampling_strategy={1:y1_cnt , 0:  y0_cnt},\n",
        "                            random_state=0)\n",
        "X_rs = pd.DataFrame(X_rs)\n",
        "y_rs = pd.DataFrame(y_rs)  "
      ],
      "execution_count": 209,
      "outputs": []
    },
    {
      "cell_type": "code",
      "metadata": {
        "id": "1Gwm8oHekKRE",
        "outputId": "a0af94ef-351c-4fe0-f2b4-cb4a27362979",
        "colab": {
          "base_uri": "https://localhost:8080/"
        }
      },
      "source": [
        "y_rs = loan_data[loan_data[target]==1]\n",
        "X_rs = loan_data[loan_data[target]==0].sample(n=y0_cnt)\n",
        "smpl = pd.concat([X_rs,y_rs])\n",
        "smpl_hex = h2o.H2OFrame(smpl)"
      ],
      "execution_count": 210,
      "outputs": [
        {
          "output_type": "stream",
          "text": [
            "Parse progress: |█████████████████████████████████████████████████████████| 100%\n"
          ],
          "name": "stdout"
        }
      ]
    },
    {
      "cell_type": "code",
      "metadata": {
        "id": "asb3Z3s6kmJ4",
        "outputId": "42d4d290-0b50-492b-c3a3-123e7bf384a5",
        "colab": {
          "base_uri": "https://localhost:8080/"
        }
      },
      "source": [
        "rf_v4 = H2ORandomForestEstimator(\n",
        "        model_id = 'rf_v4',\n",
        "        ntrees = 300,\n",
        "        nfolds=10,\n",
        "        min_rows=100,\n",
        "        seed=1234)\n",
        "rf_v4.train(predictors,target,training_frame=smpl_hex)"
      ],
      "execution_count": 211,
      "outputs": [
        {
          "output_type": "stream",
          "text": [
            "/usr/local/lib/python3.6/dist-packages/h2o/estimators/estimator_base.py:200: RuntimeWarning: Dropping bad and constant columns: [CR012, TD062]\n",
            "  warnings.warn(mesg[\"message\"], RuntimeWarning)\n"
          ],
          "name": "stderr"
        },
        {
          "output_type": "stream",
          "text": [
            "drf Model Build progress: |███████████████████████████████████████████████| 100%\n"
          ],
          "name": "stdout"
        }
      ]
    },
    {
      "cell_type": "code",
      "metadata": {
        "id": "6MBaajk2pI_o"
      },
      "source": [
        "def ROC_AUC(my_result,df,target):\n",
        "    from sklearn.metrics import roc_curve,auc\n",
        "    from sklearn.metrics import average_precision_score\n",
        "    from sklearn.metrics import precision_recall_curve\n",
        "    import matplotlib.pyplot as plt\n",
        "\n",
        "    # ROC\n",
        "    y_actual = df[target].as_data_frame()\n",
        "    y_pred = my_result.predict(df).as_data_frame()\n",
        "    fpr = list()\n",
        "    tpr = list()\n",
        "    roc_auc = list()\n",
        "    fpr,tpr,_ = roc_curve(y_actual,y_pred)\n",
        "    roc_auc = auc(fpr,tpr)\n",
        "    \n",
        "    # Precision-Recall\n",
        "    average_precision = average_precision_score(y_actual,y_pred)\n",
        "\n",
        "    print('')\n",
        "    print('   * ROC curve: The ROC curve plots the true positive rate vs. the false rositive sate')\n",
        "    print('')\n",
        "    print('\t  * The area under the curve (AUC): A value between 0.5 (random) and 1.0 (perfect), measuring the prediction accuracy')\n",
        "    print('')\n",
        "    print('   * Recall (R) = The number of true positives / (the number of true positives + the number of false negatives)')\n",
        "    print('')\n",
        "    \n",
        "    # plotting\n",
        "    plt.figure(figsize=(10,4))\n",
        "\n",
        "    # ROC\n",
        "    plt.subplot(1,2,1)\n",
        "    plt.plot(fpr,tpr,color='darkorange',lw=2,label='ROC curve (aare=%0.2f)' % roc_auc)\n",
        "    plt.plot([0,1],[0,1],color='navy',lw=3,linestyle='--')\n",
        "    plt.xlim([0.0,1.0])\n",
        "    plt.ylim([0.0,1.05])\n",
        "    plt.xlabel('False Positive Rate')\n",
        "    plt.ylabel('True Positive Rate')\n",
        "    plt.title('Receiver operating characteristic: AUC={0:0.4f}'.format(roc_auc))\n",
        "    plt.legend(loc='lower right')\n",
        "\n",
        "    # Precision-Recall\n",
        "    plt.subplot(1,2,2)\n",
        "    precision,recall,_ = precision_recall_curve(y_actual,y_pred)\n",
        "    plt.step(recall,precision,color='b',alpha=0.2,where='post')\n",
        "    plt.fill_between(recall,precision,step='post',alpha=0.2,color='b')\n",
        "    plt.xlabel('Recall')\n",
        "    plt.ylabel('Precision')\n",
        "    plt.ylim([0.0,1.05])\n",
        "    plt.xlim([0.0,1.0])\n",
        "    plt.title('Precision-Recall curve: PR={0:0.4f}'.format(average_precision))\n",
        "    plt.show()"
      ],
      "execution_count": 30,
      "outputs": []
    },
    {
      "cell_type": "code",
      "metadata": {
        "id": "tCxBypW3ktP0",
        "outputId": "f03d1a7f-510a-41c2-9746-24477d411b37",
        "colab": {
          "base_uri": "https://localhost:8080/",
          "height": 431
        }
      },
      "source": [
        "ROC_AUC(rf_v4,smpl_hex,'loan_default')"
      ],
      "execution_count": 212,
      "outputs": [
        {
          "output_type": "stream",
          "text": [
            "drf prediction progress: |████████████████████████████████████████████████| 100%\n",
            "\n",
            "   * ROC curve: The ROC curve plots the true positive rate vs. the false rositive sate\n",
            "\n",
            "\t  * The area under the curve (AUC): A value between 0.5 (random) and 1.0 (perfect), measuring the prediction accuracy\n",
            "\n",
            "   * Recall (R) = The number of true positives / (the number of true positives + the number of false negatives)\n",
            "\n"
          ],
          "name": "stdout"
        },
        {
          "output_type": "display_data",
          "data": {
            "image/png": "[encoded data removed]",
            "text/plain": [
              "<Figure size 720x288 with 2 Axes>"
            ]
          },
          "metadata": {
            "tags": [],
            "needs_background": "light"
          }
        }
      ]
    },
    {
      "cell_type": "code",
      "metadata": {
        "id": "KKQbQYOlaL9y"
      },
      "source": [
        "RF_actual_predict4 = actual_predict(rf_v4,test_hex,target)\n",
        "RF_actual_predict4.head()"
      ],
      "execution_count": null,
      "outputs": []
    },
    {
      "cell_type": "code",
      "metadata": {
        "id": "6EBN8O2gkvqg",
        "outputId": "249c1f88-f0be-473a-8619-a5770aa50530",
        "colab": {
          "base_uri": "https://localhost:8080/",
          "height": 410
        }
      },
      "source": [
        "gains_table(RF_actual_predict4)"
      ],
      "execution_count": 37,
      "outputs": [
        {
          "output_type": "execute_result",
          "data": {
            "text/html": [
              "<div>\n",
              "<style scoped>\n",
              "    .dataframe tbody tr th:only-of-type {\n",
              "        vertical-align: middle;\n",
              "    }\n",
              "\n",
              "    .dataframe tbody tr th {\n",
              "        vertical-align: top;\n",
              "    }\n",
              "\n",
              "    .dataframe thead th {\n",
              "        text-align: right;\n",
              "    }\n",
              "</style>\n",
              "<table border=\"1\" class=\"dataframe\">\n",
              "  <thead>\n",
              "    <tr style=\"text-align: right;\">\n",
              "      <th></th>\n",
              "      <th>count</th>\n",
              "      <th>actual</th>\n",
              "      <th>non_actual</th>\n",
              "      <th>cum_count</th>\n",
              "      <th>cum_actual</th>\n",
              "      <th>cum_non_actual</th>\n",
              "      <th>percent_cum_actual</th>\n",
              "      <th>percent_cum_non_actual</th>\n",
              "      <th>if_random</th>\n",
              "      <th>lift</th>\n",
              "      <th>K_S</th>\n",
              "      <th>gain</th>\n",
              "    </tr>\n",
              "    <tr>\n",
              "      <th>decile</th>\n",
              "      <th></th>\n",
              "      <th></th>\n",
              "      <th></th>\n",
              "      <th></th>\n",
              "      <th></th>\n",
              "      <th></th>\n",
              "      <th></th>\n",
              "      <th></th>\n",
              "      <th></th>\n",
              "      <th></th>\n",
              "      <th></th>\n",
              "      <th></th>\n",
              "    </tr>\n",
              "  </thead>\n",
              "  <tbody>\n",
              "    <tr>\n",
              "      <th>0</th>\n",
              "      <td>320</td>\n",
              "      <td>127</td>\n",
              "      <td>193</td>\n",
              "      <td>320</td>\n",
              "      <td>127</td>\n",
              "      <td>193</td>\n",
              "      <td>0.21</td>\n",
              "      <td>0.07</td>\n",
              "      <td>60.0</td>\n",
              "      <td>2.12</td>\n",
              "      <td>14.0</td>\n",
              "      <td>39.69</td>\n",
              "    </tr>\n",
              "    <tr>\n",
              "      <th>1</th>\n",
              "      <td>320</td>\n",
              "      <td>108</td>\n",
              "      <td>212</td>\n",
              "      <td>640</td>\n",
              "      <td>235</td>\n",
              "      <td>405</td>\n",
              "      <td>0.39</td>\n",
              "      <td>0.16</td>\n",
              "      <td>120.0</td>\n",
              "      <td>1.96</td>\n",
              "      <td>23.0</td>\n",
              "      <td>36.72</td>\n",
              "    </tr>\n",
              "    <tr>\n",
              "      <th>2</th>\n",
              "      <td>320</td>\n",
              "      <td>75</td>\n",
              "      <td>245</td>\n",
              "      <td>960</td>\n",
              "      <td>310</td>\n",
              "      <td>650</td>\n",
              "      <td>0.52</td>\n",
              "      <td>0.25</td>\n",
              "      <td>180.0</td>\n",
              "      <td>1.72</td>\n",
              "      <td>27.0</td>\n",
              "      <td>32.29</td>\n",
              "    </tr>\n",
              "    <tr>\n",
              "      <th>3</th>\n",
              "      <td>320</td>\n",
              "      <td>79</td>\n",
              "      <td>241</td>\n",
              "      <td>1280</td>\n",
              "      <td>389</td>\n",
              "      <td>891</td>\n",
              "      <td>0.65</td>\n",
              "      <td>0.34</td>\n",
              "      <td>240.0</td>\n",
              "      <td>1.62</td>\n",
              "      <td>31.0</td>\n",
              "      <td>30.39</td>\n",
              "    </tr>\n",
              "    <tr>\n",
              "      <th>4</th>\n",
              "      <td>320</td>\n",
              "      <td>63</td>\n",
              "      <td>257</td>\n",
              "      <td>1600</td>\n",
              "      <td>452</td>\n",
              "      <td>1148</td>\n",
              "      <td>0.75</td>\n",
              "      <td>0.44</td>\n",
              "      <td>300.0</td>\n",
              "      <td>1.51</td>\n",
              "      <td>31.0</td>\n",
              "      <td>28.25</td>\n",
              "    </tr>\n",
              "    <tr>\n",
              "      <th>5</th>\n",
              "      <td>320</td>\n",
              "      <td>56</td>\n",
              "      <td>264</td>\n",
              "      <td>1920</td>\n",
              "      <td>508</td>\n",
              "      <td>1412</td>\n",
              "      <td>0.85</td>\n",
              "      <td>0.54</td>\n",
              "      <td>360.0</td>\n",
              "      <td>1.41</td>\n",
              "      <td>31.0</td>\n",
              "      <td>26.46</td>\n",
              "    </tr>\n",
              "    <tr>\n",
              "      <th>6</th>\n",
              "      <td>320</td>\n",
              "      <td>34</td>\n",
              "      <td>286</td>\n",
              "      <td>2240</td>\n",
              "      <td>542</td>\n",
              "      <td>1698</td>\n",
              "      <td>0.90</td>\n",
              "      <td>0.65</td>\n",
              "      <td>420.0</td>\n",
              "      <td>1.29</td>\n",
              "      <td>25.0</td>\n",
              "      <td>24.20</td>\n",
              "    </tr>\n",
              "    <tr>\n",
              "      <th>7</th>\n",
              "      <td>320</td>\n",
              "      <td>31</td>\n",
              "      <td>289</td>\n",
              "      <td>2560</td>\n",
              "      <td>573</td>\n",
              "      <td>1987</td>\n",
              "      <td>0.96</td>\n",
              "      <td>0.76</td>\n",
              "      <td>480.0</td>\n",
              "      <td>1.19</td>\n",
              "      <td>20.0</td>\n",
              "      <td>22.38</td>\n",
              "    </tr>\n",
              "    <tr>\n",
              "      <th>8</th>\n",
              "      <td>320</td>\n",
              "      <td>20</td>\n",
              "      <td>300</td>\n",
              "      <td>2880</td>\n",
              "      <td>593</td>\n",
              "      <td>2287</td>\n",
              "      <td>0.99</td>\n",
              "      <td>0.88</td>\n",
              "      <td>540.0</td>\n",
              "      <td>1.10</td>\n",
              "      <td>11.0</td>\n",
              "      <td>20.59</td>\n",
              "    </tr>\n",
              "    <tr>\n",
              "      <th>9</th>\n",
              "      <td>320</td>\n",
              "      <td>7</td>\n",
              "      <td>313</td>\n",
              "      <td>3200</td>\n",
              "      <td>600</td>\n",
              "      <td>2600</td>\n",
              "      <td>1.00</td>\n",
              "      <td>1.00</td>\n",
              "      <td>600.0</td>\n",
              "      <td>1.00</td>\n",
              "      <td>0.0</td>\n",
              "      <td>18.75</td>\n",
              "    </tr>\n",
              "  </tbody>\n",
              "</table>\n",
              "</div>"
            ],
            "text/plain": [
              "        count  actual  non_actual  cum_count  ...  if_random  lift   K_S   gain\n",
              "decile                                        ...                              \n",
              "0         320     127         193        320  ...       60.0  2.12  14.0  39.69\n",
              "1         320     108         212        640  ...      120.0  1.96  23.0  36.72\n",
              "2         320      75         245        960  ...      180.0  1.72  27.0  32.29\n",
              "3         320      79         241       1280  ...      240.0  1.62  31.0  30.39\n",
              "4         320      63         257       1600  ...      300.0  1.51  31.0  28.25\n",
              "5         320      56         264       1920  ...      360.0  1.41  31.0  26.46\n",
              "6         320      34         286       2240  ...      420.0  1.29  25.0  24.20\n",
              "7         320      31         289       2560  ...      480.0  1.19  20.0  22.38\n",
              "8         320      20         300       2880  ...      540.0  1.10  11.0  20.59\n",
              "9         320       7         313       3200  ...      600.0  1.00   0.0  18.75\n",
              "\n",
              "[10 rows x 12 columns]"
            ]
          },
          "metadata": {
            "tags": []
          },
          "execution_count": 37
        }
      ]
    },
    {
      "cell_type": "markdown",
      "metadata": {
        "id": "iXyk5xBpMG_O"
      },
      "source": [
        "Other Undersampling Techniques"
      ]
    },
    {
      "cell_type": "markdown",
      "metadata": {
        "id": "wOmYZLcRSoss"
      },
      "source": [
        "1. Random UnderSampler\n",
        " - Using raw data\n",
        "\n",
        "\n",
        "\n"
      ]
    },
    {
      "cell_type": "code",
      "metadata": {
        "id": "Wsk2TsouMJg7"
      },
      "source": [
        "# RandomUnderSampler\n",
        "sampler = RandomUnderSampler()\n",
        "X_rs_ru, y_rs_ru = sampler.fit_sample(X, y)\n",
        "#plot_this(X_rs,y_rs,'Random undersampling')"
      ],
      "execution_count": 215,
      "outputs": []
    },
    {
      "cell_type": "code",
      "metadata": {
        "id": "IrTHiId_R54B",
        "outputId": "1e81207c-b36b-4d28-b34f-41f234fff7bb",
        "colab": {
          "base_uri": "https://localhost:8080/"
        }
      },
      "source": [
        "df_ru1 = pd.concat([X_rs_ru, y_rs_ru],axis=1)\n",
        "df_hex_ru1 = h2o.H2OFrame(df_ru1)\n",
        "\n",
        "train_ru1,test_ru1 = train_test_split(df_ru1,test_size=0.4,random_state=1234)\n",
        "train_smp_ru1 = train_ru1.sample(frac=0.1, random_state=1)\n",
        "test_smp_ru1 = test_ru1.sample(frac=0.1, random_state=1)\n",
        "train_hex_sam_ru1 = h2o.H2OFrame(train_smp_ru1)\n",
        "test_hex_sam_ru1 = h2o.H2OFrame(test_smp_ru1)"
      ],
      "execution_count": 223,
      "outputs": [
        {
          "output_type": "stream",
          "text": [
            "Parse progress: |█████████████████████████████████████████████████████████| 100%\n",
            "Parse progress: |█████████████████████████████████████████████████████████| 100%\n",
            "Parse progress: |█████████████████████████████████████████████████████████| 100%\n"
          ],
          "name": "stdout"
        }
      ]
    },
    {
      "cell_type": "code",
      "metadata": {
        "id": "Fr8vq9_RSRYg",
        "outputId": "a92bc90c-ad9c-4042-a4fa-a4441a0c4bd2",
        "colab": {
          "base_uri": "https://localhost:8080/"
        }
      },
      "source": [
        "rf_v9 = H2ORandomForestEstimator(\n",
        "        model_id = 'rf_v9',\n",
        "        ntrees = 300,\n",
        "        nfolds=10,\n",
        "        min_rows=100,\n",
        "        seed=1234)\n",
        "rf_v9.train(predictors,target,training_frame=train_hex_sam_ru1)"
      ],
      "execution_count": 224,
      "outputs": [
        {
          "output_type": "stream",
          "text": [
            "/usr/local/lib/python3.6/dist-packages/h2o/estimators/estimator_base.py:200: RuntimeWarning: Dropping bad and constant columns: [TD054, TD051, TD062, TD061, CR012, TD048, AP005, TD044, TD055]\n",
            "  warnings.warn(mesg[\"message\"], RuntimeWarning)\n"
          ],
          "name": "stderr"
        },
        {
          "output_type": "stream",
          "text": [
            "drf Model Build progress: |███████████████████████████████████████████████| 100%\n"
          ],
          "name": "stdout"
        }
      ]
    },
    {
      "cell_type": "code",
      "metadata": {
        "id": "1XABR0XeSX8X",
        "outputId": "ac714f0f-d5a0-4095-9f0c-62d0bd240918",
        "colab": {
          "base_uri": "https://localhost:8080/",
          "height": 461
        }
      },
      "source": [
        "RF_actual_predict9 = actual_predict(rf_v9,test_hex_sam_ru1,target)\n",
        "gains_table(RF_actual_predict9)"
      ],
      "execution_count": 225,
      "outputs": [
        {
          "output_type": "stream",
          "text": [
            "drf prediction progress: |████████████████████████████████████████████████| 100%\n"
          ],
          "name": "stdout"
        },
        {
          "output_type": "stream",
          "text": [
            "/usr/local/lib/python3.6/dist-packages/h2o/job.py:70: UserWarning: Test/Validation dataset column 'MB007' has levels not trained on: [CMCC, DOOV, MOTOROLA, QIKU, RAMOS, SMARTISAN, SUGAR]\n",
            "  warnings.warn(w)\n"
          ],
          "name": "stderr"
        },
        {
          "output_type": "execute_result",
          "data": {
            "text/html": [
              "<div>\n",
              "<style scoped>\n",
              "    .dataframe tbody tr th:only-of-type {\n",
              "        vertical-align: middle;\n",
              "    }\n",
              "\n",
              "    .dataframe tbody tr th {\n",
              "        vertical-align: top;\n",
              "    }\n",
              "\n",
              "    .dataframe thead th {\n",
              "        text-align: right;\n",
              "    }\n",
              "</style>\n",
              "<table border=\"1\" class=\"dataframe\">\n",
              "  <thead>\n",
              "    <tr style=\"text-align: right;\">\n",
              "      <th></th>\n",
              "      <th>count</th>\n",
              "      <th>actual</th>\n",
              "      <th>non_actual</th>\n",
              "      <th>cum_count</th>\n",
              "      <th>cum_actual</th>\n",
              "      <th>cum_non_actual</th>\n",
              "      <th>percent_cum_actual</th>\n",
              "      <th>percent_cum_non_actual</th>\n",
              "      <th>if_random</th>\n",
              "      <th>lift</th>\n",
              "      <th>K_S</th>\n",
              "      <th>gain</th>\n",
              "    </tr>\n",
              "    <tr>\n",
              "      <th>decile</th>\n",
              "      <th></th>\n",
              "      <th></th>\n",
              "      <th></th>\n",
              "      <th></th>\n",
              "      <th></th>\n",
              "      <th></th>\n",
              "      <th></th>\n",
              "      <th></th>\n",
              "      <th></th>\n",
              "      <th></th>\n",
              "      <th></th>\n",
              "      <th></th>\n",
              "    </tr>\n",
              "  </thead>\n",
              "  <tbody>\n",
              "    <tr>\n",
              "      <th>0</th>\n",
              "      <td>124</td>\n",
              "      <td>92</td>\n",
              "      <td>32</td>\n",
              "      <td>124</td>\n",
              "      <td>92</td>\n",
              "      <td>32</td>\n",
              "      <td>0.15</td>\n",
              "      <td>0.05</td>\n",
              "      <td>60.9</td>\n",
              "      <td>1.51</td>\n",
              "      <td>10.0</td>\n",
              "      <td>74.19</td>\n",
              "    </tr>\n",
              "    <tr>\n",
              "      <th>1</th>\n",
              "      <td>124</td>\n",
              "      <td>76</td>\n",
              "      <td>48</td>\n",
              "      <td>248</td>\n",
              "      <td>168</td>\n",
              "      <td>80</td>\n",
              "      <td>0.28</td>\n",
              "      <td>0.13</td>\n",
              "      <td>121.8</td>\n",
              "      <td>1.38</td>\n",
              "      <td>15.0</td>\n",
              "      <td>67.74</td>\n",
              "    </tr>\n",
              "    <tr>\n",
              "      <th>2</th>\n",
              "      <td>124</td>\n",
              "      <td>75</td>\n",
              "      <td>49</td>\n",
              "      <td>372</td>\n",
              "      <td>243</td>\n",
              "      <td>129</td>\n",
              "      <td>0.40</td>\n",
              "      <td>0.20</td>\n",
              "      <td>182.7</td>\n",
              "      <td>1.33</td>\n",
              "      <td>20.0</td>\n",
              "      <td>65.32</td>\n",
              "    </tr>\n",
              "    <tr>\n",
              "      <th>3</th>\n",
              "      <td>124</td>\n",
              "      <td>63</td>\n",
              "      <td>61</td>\n",
              "      <td>496</td>\n",
              "      <td>306</td>\n",
              "      <td>190</td>\n",
              "      <td>0.50</td>\n",
              "      <td>0.30</td>\n",
              "      <td>243.6</td>\n",
              "      <td>1.26</td>\n",
              "      <td>20.0</td>\n",
              "      <td>61.69</td>\n",
              "    </tr>\n",
              "    <tr>\n",
              "      <th>4</th>\n",
              "      <td>124</td>\n",
              "      <td>66</td>\n",
              "      <td>58</td>\n",
              "      <td>620</td>\n",
              "      <td>372</td>\n",
              "      <td>248</td>\n",
              "      <td>0.61</td>\n",
              "      <td>0.39</td>\n",
              "      <td>304.5</td>\n",
              "      <td>1.22</td>\n",
              "      <td>22.0</td>\n",
              "      <td>60.00</td>\n",
              "    </tr>\n",
              "    <tr>\n",
              "      <th>5</th>\n",
              "      <td>124</td>\n",
              "      <td>53</td>\n",
              "      <td>71</td>\n",
              "      <td>744</td>\n",
              "      <td>425</td>\n",
              "      <td>319</td>\n",
              "      <td>0.70</td>\n",
              "      <td>0.51</td>\n",
              "      <td>365.4</td>\n",
              "      <td>1.16</td>\n",
              "      <td>19.0</td>\n",
              "      <td>57.12</td>\n",
              "    </tr>\n",
              "    <tr>\n",
              "      <th>6</th>\n",
              "      <td>124</td>\n",
              "      <td>63</td>\n",
              "      <td>61</td>\n",
              "      <td>868</td>\n",
              "      <td>488</td>\n",
              "      <td>380</td>\n",
              "      <td>0.80</td>\n",
              "      <td>0.60</td>\n",
              "      <td>426.3</td>\n",
              "      <td>1.14</td>\n",
              "      <td>20.0</td>\n",
              "      <td>56.22</td>\n",
              "    </tr>\n",
              "    <tr>\n",
              "      <th>7</th>\n",
              "      <td>124</td>\n",
              "      <td>47</td>\n",
              "      <td>77</td>\n",
              "      <td>992</td>\n",
              "      <td>535</td>\n",
              "      <td>457</td>\n",
              "      <td>0.88</td>\n",
              "      <td>0.73</td>\n",
              "      <td>487.2</td>\n",
              "      <td>1.10</td>\n",
              "      <td>15.0</td>\n",
              "      <td>53.93</td>\n",
              "    </tr>\n",
              "    <tr>\n",
              "      <th>8</th>\n",
              "      <td>124</td>\n",
              "      <td>45</td>\n",
              "      <td>79</td>\n",
              "      <td>1116</td>\n",
              "      <td>580</td>\n",
              "      <td>536</td>\n",
              "      <td>0.95</td>\n",
              "      <td>0.85</td>\n",
              "      <td>548.1</td>\n",
              "      <td>1.06</td>\n",
              "      <td>10.0</td>\n",
              "      <td>51.97</td>\n",
              "    </tr>\n",
              "    <tr>\n",
              "      <th>9</th>\n",
              "      <td>123</td>\n",
              "      <td>29</td>\n",
              "      <td>94</td>\n",
              "      <td>1239</td>\n",
              "      <td>609</td>\n",
              "      <td>630</td>\n",
              "      <td>1.00</td>\n",
              "      <td>1.00</td>\n",
              "      <td>609.0</td>\n",
              "      <td>1.00</td>\n",
              "      <td>0.0</td>\n",
              "      <td>49.15</td>\n",
              "    </tr>\n",
              "  </tbody>\n",
              "</table>\n",
              "</div>"
            ],
            "text/plain": [
              "        count  actual  non_actual  cum_count  ...  if_random  lift   K_S   gain\n",
              "decile                                        ...                              \n",
              "0         124      92          32        124  ...       60.9  1.51  10.0  74.19\n",
              "1         124      76          48        248  ...      121.8  1.38  15.0  67.74\n",
              "2         124      75          49        372  ...      182.7  1.33  20.0  65.32\n",
              "3         124      63          61        496  ...      243.6  1.26  20.0  61.69\n",
              "4         124      66          58        620  ...      304.5  1.22  22.0  60.00\n",
              "5         124      53          71        744  ...      365.4  1.16  19.0  57.12\n",
              "6         124      63          61        868  ...      426.3  1.14  20.0  56.22\n",
              "7         124      47          77        992  ...      487.2  1.10  15.0  53.93\n",
              "8         124      45          79       1116  ...      548.1  1.06  10.0  51.97\n",
              "9         123      29          94       1239  ...      609.0  1.00   0.0  49.15\n",
              "\n",
              "[10 rows x 12 columns]"
            ]
          },
          "metadata": {
            "tags": []
          },
          "execution_count": 225
        }
      ]
    },
    {
      "cell_type": "markdown",
      "metadata": {
        "id": "WN9hloBpTAFc"
      },
      "source": [
        "1. Random UnderSampler\n",
        " - Using cleaned data"
      ]
    },
    {
      "cell_type": "code",
      "metadata": {
        "id": "JFwZfB7NSggB"
      },
      "source": [
        "# RandomUnderSampler\n",
        "sampler = RandomUnderSampler()\n",
        "X_rs_ru2, y_rs_ru2 = sampler.fit_sample(X2, y)\n",
        "#plot_this(X_rs,y_rs,'Random undersampling')"
      ],
      "execution_count": 226,
      "outputs": []
    },
    {
      "cell_type": "code",
      "metadata": {
        "id": "zDUNIuzxTCqP",
        "outputId": "64c74d96-7454-4321-e92b-dbde2d82d850",
        "colab": {
          "base_uri": "https://localhost:8080/"
        }
      },
      "source": [
        "df_ru2 = pd.concat([X_rs_ru2, y_rs_ru2],axis=1)\n",
        "df_hex_ru2 = h2o.H2OFrame(df_ru2)\n",
        "\n",
        "train_ru2,test_ru2 = train_test_split(df_ru2,test_size=0.4,random_state=1234)\n",
        "train_smp_ru2 = train_ru2.sample(frac=0.1, random_state=1)\n",
        "test_smp_ru2 = test_ru2.sample(frac=0.1, random_state=1)\n",
        "train_hex_sam_ru2 = h2o.H2OFrame(train_smp_ru2)\n",
        "test_hex_sam_ru2 = h2o.H2OFrame(test_smp_ru2)"
      ],
      "execution_count": 227,
      "outputs": [
        {
          "output_type": "stream",
          "text": [
            "Parse progress: |█████████████████████████████████████████████████████████| 100%\n",
            "Parse progress: |█████████████████████████████████████████████████████████| 100%\n",
            "Parse progress: |█████████████████████████████████████████████████████████| 100%\n"
          ],
          "name": "stdout"
        }
      ]
    },
    {
      "cell_type": "code",
      "metadata": {
        "id": "As-mU-4qTRJv",
        "outputId": "6cf75d51-e40d-4de3-8112-7e3f32bbe6b4",
        "colab": {
          "base_uri": "https://localhost:8080/"
        }
      },
      "source": [
        "rf_v10 = H2ORandomForestEstimator(\n",
        "        model_id = 'rf_v10',\n",
        "        ntrees = 300,\n",
        "        nfolds=10,\n",
        "        min_rows=100,\n",
        "        seed=1234)\n",
        "rf_v10.train(predictors2,target,training_frame=train_hex_sam_ru2)"
      ],
      "execution_count": 228,
      "outputs": [
        {
          "output_type": "stream",
          "text": [
            "/usr/local/lib/python3.6/dist-packages/h2o/estimators/estimator_base.py:200: RuntimeWarning: Dropping bad and constant columns: [TD054, TD051, TD062, TD061, CR012, TD029, TD028, TD027, TD026, TD048, TD025, TD044, TD055]\n",
            "  warnings.warn(mesg[\"message\"], RuntimeWarning)\n"
          ],
          "name": "stderr"
        },
        {
          "output_type": "stream",
          "text": [
            "drf Model Build progress: |███████████████████████████████████████████████| 100%\n"
          ],
          "name": "stdout"
        }
      ]
    },
    {
      "cell_type": "code",
      "metadata": {
        "id": "VnGHsA5-Tcr4",
        "outputId": "cf607dc3-5c87-425a-8c39-9e4dc5736cb7",
        "colab": {
          "base_uri": "https://localhost:8080/",
          "height": 427
        }
      },
      "source": [
        "RF_actual_predict10 = actual_predict(rf_v10,test_hex_sam_ru2,target)\n",
        "gains_table(RF_actual_predict10)"
      ],
      "execution_count": 229,
      "outputs": [
        {
          "output_type": "stream",
          "text": [
            "drf prediction progress: |████████████████████████████████████████████████| 100%\n"
          ],
          "name": "stdout"
        },
        {
          "output_type": "execute_result",
          "data": {
            "text/html": [
              "<div>\n",
              "<style scoped>\n",
              "    .dataframe tbody tr th:only-of-type {\n",
              "        vertical-align: middle;\n",
              "    }\n",
              "\n",
              "    .dataframe tbody tr th {\n",
              "        vertical-align: top;\n",
              "    }\n",
              "\n",
              "    .dataframe thead th {\n",
              "        text-align: right;\n",
              "    }\n",
              "</style>\n",
              "<table border=\"1\" class=\"dataframe\">\n",
              "  <thead>\n",
              "    <tr style=\"text-align: right;\">\n",
              "      <th></th>\n",
              "      <th>count</th>\n",
              "      <th>actual</th>\n",
              "      <th>non_actual</th>\n",
              "      <th>cum_count</th>\n",
              "      <th>cum_actual</th>\n",
              "      <th>cum_non_actual</th>\n",
              "      <th>percent_cum_actual</th>\n",
              "      <th>percent_cum_non_actual</th>\n",
              "      <th>if_random</th>\n",
              "      <th>lift</th>\n",
              "      <th>K_S</th>\n",
              "      <th>gain</th>\n",
              "    </tr>\n",
              "    <tr>\n",
              "      <th>decile</th>\n",
              "      <th></th>\n",
              "      <th></th>\n",
              "      <th></th>\n",
              "      <th></th>\n",
              "      <th></th>\n",
              "      <th></th>\n",
              "      <th></th>\n",
              "      <th></th>\n",
              "      <th></th>\n",
              "      <th></th>\n",
              "      <th></th>\n",
              "      <th></th>\n",
              "    </tr>\n",
              "  </thead>\n",
              "  <tbody>\n",
              "    <tr>\n",
              "      <th>0</th>\n",
              "      <td>124</td>\n",
              "      <td>82</td>\n",
              "      <td>42</td>\n",
              "      <td>124</td>\n",
              "      <td>82</td>\n",
              "      <td>42</td>\n",
              "      <td>0.13</td>\n",
              "      <td>0.07</td>\n",
              "      <td>60.9</td>\n",
              "      <td>1.35</td>\n",
              "      <td>6.0</td>\n",
              "      <td>66.13</td>\n",
              "    </tr>\n",
              "    <tr>\n",
              "      <th>1</th>\n",
              "      <td>124</td>\n",
              "      <td>74</td>\n",
              "      <td>50</td>\n",
              "      <td>248</td>\n",
              "      <td>156</td>\n",
              "      <td>92</td>\n",
              "      <td>0.26</td>\n",
              "      <td>0.15</td>\n",
              "      <td>121.8</td>\n",
              "      <td>1.28</td>\n",
              "      <td>11.0</td>\n",
              "      <td>62.90</td>\n",
              "    </tr>\n",
              "    <tr>\n",
              "      <th>2</th>\n",
              "      <td>124</td>\n",
              "      <td>77</td>\n",
              "      <td>47</td>\n",
              "      <td>372</td>\n",
              "      <td>233</td>\n",
              "      <td>139</td>\n",
              "      <td>0.38</td>\n",
              "      <td>0.22</td>\n",
              "      <td>182.7</td>\n",
              "      <td>1.28</td>\n",
              "      <td>16.0</td>\n",
              "      <td>62.63</td>\n",
              "    </tr>\n",
              "    <tr>\n",
              "      <th>3</th>\n",
              "      <td>124</td>\n",
              "      <td>68</td>\n",
              "      <td>56</td>\n",
              "      <td>496</td>\n",
              "      <td>301</td>\n",
              "      <td>195</td>\n",
              "      <td>0.49</td>\n",
              "      <td>0.31</td>\n",
              "      <td>243.6</td>\n",
              "      <td>1.24</td>\n",
              "      <td>18.0</td>\n",
              "      <td>60.69</td>\n",
              "    </tr>\n",
              "    <tr>\n",
              "      <th>4</th>\n",
              "      <td>124</td>\n",
              "      <td>68</td>\n",
              "      <td>56</td>\n",
              "      <td>620</td>\n",
              "      <td>369</td>\n",
              "      <td>251</td>\n",
              "      <td>0.61</td>\n",
              "      <td>0.40</td>\n",
              "      <td>304.5</td>\n",
              "      <td>1.21</td>\n",
              "      <td>21.0</td>\n",
              "      <td>59.52</td>\n",
              "    </tr>\n",
              "    <tr>\n",
              "      <th>5</th>\n",
              "      <td>124</td>\n",
              "      <td>59</td>\n",
              "      <td>65</td>\n",
              "      <td>744</td>\n",
              "      <td>428</td>\n",
              "      <td>316</td>\n",
              "      <td>0.70</td>\n",
              "      <td>0.50</td>\n",
              "      <td>365.4</td>\n",
              "      <td>1.17</td>\n",
              "      <td>20.0</td>\n",
              "      <td>57.53</td>\n",
              "    </tr>\n",
              "    <tr>\n",
              "      <th>6</th>\n",
              "      <td>124</td>\n",
              "      <td>55</td>\n",
              "      <td>69</td>\n",
              "      <td>868</td>\n",
              "      <td>483</td>\n",
              "      <td>385</td>\n",
              "      <td>0.79</td>\n",
              "      <td>0.61</td>\n",
              "      <td>426.3</td>\n",
              "      <td>1.13</td>\n",
              "      <td>18.0</td>\n",
              "      <td>55.65</td>\n",
              "    </tr>\n",
              "    <tr>\n",
              "      <th>7</th>\n",
              "      <td>124</td>\n",
              "      <td>49</td>\n",
              "      <td>75</td>\n",
              "      <td>992</td>\n",
              "      <td>532</td>\n",
              "      <td>460</td>\n",
              "      <td>0.87</td>\n",
              "      <td>0.73</td>\n",
              "      <td>487.2</td>\n",
              "      <td>1.09</td>\n",
              "      <td>14.0</td>\n",
              "      <td>53.63</td>\n",
              "    </tr>\n",
              "    <tr>\n",
              "      <th>8</th>\n",
              "      <td>124</td>\n",
              "      <td>45</td>\n",
              "      <td>79</td>\n",
              "      <td>1116</td>\n",
              "      <td>577</td>\n",
              "      <td>539</td>\n",
              "      <td>0.95</td>\n",
              "      <td>0.86</td>\n",
              "      <td>548.1</td>\n",
              "      <td>1.05</td>\n",
              "      <td>9.0</td>\n",
              "      <td>51.70</td>\n",
              "    </tr>\n",
              "    <tr>\n",
              "      <th>9</th>\n",
              "      <td>123</td>\n",
              "      <td>32</td>\n",
              "      <td>91</td>\n",
              "      <td>1239</td>\n",
              "      <td>609</td>\n",
              "      <td>630</td>\n",
              "      <td>1.00</td>\n",
              "      <td>1.00</td>\n",
              "      <td>609.0</td>\n",
              "      <td>1.00</td>\n",
              "      <td>0.0</td>\n",
              "      <td>49.15</td>\n",
              "    </tr>\n",
              "  </tbody>\n",
              "</table>\n",
              "</div>"
            ],
            "text/plain": [
              "        count  actual  non_actual  cum_count  ...  if_random  lift   K_S   gain\n",
              "decile                                        ...                              \n",
              "0         124      82          42        124  ...       60.9  1.35   6.0  66.13\n",
              "1         124      74          50        248  ...      121.8  1.28  11.0  62.90\n",
              "2         124      77          47        372  ...      182.7  1.28  16.0  62.63\n",
              "3         124      68          56        496  ...      243.6  1.24  18.0  60.69\n",
              "4         124      68          56        620  ...      304.5  1.21  21.0  59.52\n",
              "5         124      59          65        744  ...      365.4  1.17  20.0  57.53\n",
              "6         124      55          69        868  ...      426.3  1.13  18.0  55.65\n",
              "7         124      49          75        992  ...      487.2  1.09  14.0  53.63\n",
              "8         124      45          79       1116  ...      548.1  1.05   9.0  51.70\n",
              "9         123      32          91       1239  ...      609.0  1.00   0.0  49.15\n",
              "\n",
              "[10 rows x 12 columns]"
            ]
          },
          "metadata": {
            "tags": []
          },
          "execution_count": 229
        }
      ]
    },
    {
      "cell_type": "markdown",
      "metadata": {
        "id": "jjtAJD3TTlIn"
      },
      "source": [
        "This is even worse than using the raw data"
      ]
    },
    {
      "cell_type": "markdown",
      "metadata": {
        "id": "r0lXTsaMUMIN"
      },
      "source": [
        "2. Near Miss"
      ]
    },
    {
      "cell_type": "code",
      "metadata": {
        "id": "MIFS9q__NiVo"
      },
      "source": [
        "# NearMiss\n",
        "sampler = NearMiss()\n",
        "X_rs_nm, y_rs_nm = sampler.fit_sample(X2, y)\n",
        "#plot_this(X_rs,y_rs,'NearMiss')"
      ],
      "execution_count": 221,
      "outputs": []
    },
    {
      "cell_type": "code",
      "metadata": {
        "id": "xTVmP6WkNlwM",
        "outputId": "78a0af6a-6c2b-4c23-edf3-3e87f5031125",
        "colab": {
          "base_uri": "https://localhost:8080/"
        }
      },
      "source": [
        "df_nm = pd.concat([X_rs_nm, y_rs_nm],axis=1)\n",
        "df_hex_nm = h2o.H2OFrame(df_nm)\n",
        "\n",
        "train_nm,test_nm = train_test_split(df_nm,test_size=0.4,random_state=1234)\n",
        "train_smp_nm = train_nm.sample(frac=0.1, random_state=1)\n",
        "test_smp_nm = test_nm.sample(frac=0.1, random_state=1)\n",
        "train_hex_sam_nm = h2o.H2OFrame(train_smp_nm)\n",
        "test_hex_sam_nm = h2o.H2OFrame(test_smp_nm)"
      ],
      "execution_count": 230,
      "outputs": [
        {
          "output_type": "stream",
          "text": [
            "Parse progress: |█████████████████████████████████████████████████████████| 100%\n",
            "Parse progress: |█████████████████████████████████████████████████████████| 100%\n",
            "Parse progress: |█████████████████████████████████████████████████████████| 100%\n"
          ],
          "name": "stdout"
        }
      ]
    },
    {
      "cell_type": "code",
      "metadata": {
        "id": "dQJkXgwLT31I",
        "outputId": "7aca58c1-7309-47e1-e814-0dd80cd2f1c0",
        "colab": {
          "base_uri": "https://localhost:8080/"
        }
      },
      "source": [
        "rf_v11 = H2ORandomForestEstimator(\n",
        "        model_id = 'rf_v11',\n",
        "        ntrees = 300,\n",
        "        nfolds=10,\n",
        "        min_rows=100,\n",
        "        seed=1234)\n",
        "rf_v11.train(predictors2,target,training_frame=train_hex_sam_nm)"
      ],
      "execution_count": 231,
      "outputs": [
        {
          "output_type": "stream",
          "text": [
            "/usr/local/lib/python3.6/dist-packages/h2o/estimators/estimator_base.py:200: RuntimeWarning: Dropping bad and constant columns: [TD054, TD051, TD062, TD061, CR012, TD029, TD028, TD027, TD026, TD048, TD025, TD044, TD055]\n",
            "  warnings.warn(mesg[\"message\"], RuntimeWarning)\n"
          ],
          "name": "stderr"
        },
        {
          "output_type": "stream",
          "text": [
            "drf Model Build progress: |███████████████████████████████████████████████| 100%\n"
          ],
          "name": "stdout"
        }
      ]
    },
    {
      "cell_type": "code",
      "metadata": {
        "id": "TdTpcVrHT-zT",
        "outputId": "2683623d-f8eb-4934-98df-c9c4384b9c3f",
        "colab": {
          "base_uri": "https://localhost:8080/",
          "height": 427
        }
      },
      "source": [
        "RF_actual_predict11 = actual_predict(rf_v11,test_hex_sam_nm,target)\n",
        "gains_table(RF_actual_predict11)"
      ],
      "execution_count": 232,
      "outputs": [
        {
          "output_type": "stream",
          "text": [
            "drf prediction progress: |████████████████████████████████████████████████| 100%\n"
          ],
          "name": "stdout"
        },
        {
          "output_type": "execute_result",
          "data": {
            "text/html": [
              "<div>\n",
              "<style scoped>\n",
              "    .dataframe tbody tr th:only-of-type {\n",
              "        vertical-align: middle;\n",
              "    }\n",
              "\n",
              "    .dataframe tbody tr th {\n",
              "        vertical-align: top;\n",
              "    }\n",
              "\n",
              "    .dataframe thead th {\n",
              "        text-align: right;\n",
              "    }\n",
              "</style>\n",
              "<table border=\"1\" class=\"dataframe\">\n",
              "  <thead>\n",
              "    <tr style=\"text-align: right;\">\n",
              "      <th></th>\n",
              "      <th>count</th>\n",
              "      <th>actual</th>\n",
              "      <th>non_actual</th>\n",
              "      <th>cum_count</th>\n",
              "      <th>cum_actual</th>\n",
              "      <th>cum_non_actual</th>\n",
              "      <th>percent_cum_actual</th>\n",
              "      <th>percent_cum_non_actual</th>\n",
              "      <th>if_random</th>\n",
              "      <th>lift</th>\n",
              "      <th>K_S</th>\n",
              "      <th>gain</th>\n",
              "    </tr>\n",
              "    <tr>\n",
              "      <th>decile</th>\n",
              "      <th></th>\n",
              "      <th></th>\n",
              "      <th></th>\n",
              "      <th></th>\n",
              "      <th></th>\n",
              "      <th></th>\n",
              "      <th></th>\n",
              "      <th></th>\n",
              "      <th></th>\n",
              "      <th></th>\n",
              "      <th></th>\n",
              "      <th></th>\n",
              "    </tr>\n",
              "  </thead>\n",
              "  <tbody>\n",
              "    <tr>\n",
              "      <th>0</th>\n",
              "      <td>124</td>\n",
              "      <td>108</td>\n",
              "      <td>16</td>\n",
              "      <td>124</td>\n",
              "      <td>108</td>\n",
              "      <td>16</td>\n",
              "      <td>0.18</td>\n",
              "      <td>0.03</td>\n",
              "      <td>60.9</td>\n",
              "      <td>1.77</td>\n",
              "      <td>15.0</td>\n",
              "      <td>87.10</td>\n",
              "    </tr>\n",
              "    <tr>\n",
              "      <th>1</th>\n",
              "      <td>124</td>\n",
              "      <td>86</td>\n",
              "      <td>38</td>\n",
              "      <td>248</td>\n",
              "      <td>194</td>\n",
              "      <td>54</td>\n",
              "      <td>0.32</td>\n",
              "      <td>0.09</td>\n",
              "      <td>121.8</td>\n",
              "      <td>1.59</td>\n",
              "      <td>23.0</td>\n",
              "      <td>78.23</td>\n",
              "    </tr>\n",
              "    <tr>\n",
              "      <th>2</th>\n",
              "      <td>124</td>\n",
              "      <td>79</td>\n",
              "      <td>45</td>\n",
              "      <td>372</td>\n",
              "      <td>273</td>\n",
              "      <td>99</td>\n",
              "      <td>0.45</td>\n",
              "      <td>0.16</td>\n",
              "      <td>182.7</td>\n",
              "      <td>1.49</td>\n",
              "      <td>29.0</td>\n",
              "      <td>73.39</td>\n",
              "    </tr>\n",
              "    <tr>\n",
              "      <th>3</th>\n",
              "      <td>124</td>\n",
              "      <td>60</td>\n",
              "      <td>64</td>\n",
              "      <td>496</td>\n",
              "      <td>333</td>\n",
              "      <td>163</td>\n",
              "      <td>0.55</td>\n",
              "      <td>0.26</td>\n",
              "      <td>243.6</td>\n",
              "      <td>1.37</td>\n",
              "      <td>29.0</td>\n",
              "      <td>67.14</td>\n",
              "    </tr>\n",
              "    <tr>\n",
              "      <th>4</th>\n",
              "      <td>124</td>\n",
              "      <td>67</td>\n",
              "      <td>57</td>\n",
              "      <td>620</td>\n",
              "      <td>400</td>\n",
              "      <td>220</td>\n",
              "      <td>0.66</td>\n",
              "      <td>0.35</td>\n",
              "      <td>304.5</td>\n",
              "      <td>1.31</td>\n",
              "      <td>31.0</td>\n",
              "      <td>64.52</td>\n",
              "    </tr>\n",
              "    <tr>\n",
              "      <th>5</th>\n",
              "      <td>124</td>\n",
              "      <td>61</td>\n",
              "      <td>63</td>\n",
              "      <td>744</td>\n",
              "      <td>461</td>\n",
              "      <td>283</td>\n",
              "      <td>0.76</td>\n",
              "      <td>0.45</td>\n",
              "      <td>365.4</td>\n",
              "      <td>1.26</td>\n",
              "      <td>31.0</td>\n",
              "      <td>61.96</td>\n",
              "    </tr>\n",
              "    <tr>\n",
              "      <th>6</th>\n",
              "      <td>124</td>\n",
              "      <td>51</td>\n",
              "      <td>73</td>\n",
              "      <td>868</td>\n",
              "      <td>512</td>\n",
              "      <td>356</td>\n",
              "      <td>0.84</td>\n",
              "      <td>0.57</td>\n",
              "      <td>426.3</td>\n",
              "      <td>1.20</td>\n",
              "      <td>27.0</td>\n",
              "      <td>58.99</td>\n",
              "    </tr>\n",
              "    <tr>\n",
              "      <th>7</th>\n",
              "      <td>124</td>\n",
              "      <td>44</td>\n",
              "      <td>80</td>\n",
              "      <td>992</td>\n",
              "      <td>556</td>\n",
              "      <td>436</td>\n",
              "      <td>0.91</td>\n",
              "      <td>0.69</td>\n",
              "      <td>487.2</td>\n",
              "      <td>1.14</td>\n",
              "      <td>22.0</td>\n",
              "      <td>56.05</td>\n",
              "    </tr>\n",
              "    <tr>\n",
              "      <th>8</th>\n",
              "      <td>124</td>\n",
              "      <td>33</td>\n",
              "      <td>91</td>\n",
              "      <td>1116</td>\n",
              "      <td>589</td>\n",
              "      <td>527</td>\n",
              "      <td>0.97</td>\n",
              "      <td>0.84</td>\n",
              "      <td>548.1</td>\n",
              "      <td>1.07</td>\n",
              "      <td>13.0</td>\n",
              "      <td>52.78</td>\n",
              "    </tr>\n",
              "    <tr>\n",
              "      <th>9</th>\n",
              "      <td>123</td>\n",
              "      <td>20</td>\n",
              "      <td>103</td>\n",
              "      <td>1239</td>\n",
              "      <td>609</td>\n",
              "      <td>630</td>\n",
              "      <td>1.00</td>\n",
              "      <td>1.00</td>\n",
              "      <td>609.0</td>\n",
              "      <td>1.00</td>\n",
              "      <td>0.0</td>\n",
              "      <td>49.15</td>\n",
              "    </tr>\n",
              "  </tbody>\n",
              "</table>\n",
              "</div>"
            ],
            "text/plain": [
              "        count  actual  non_actual  cum_count  ...  if_random  lift   K_S   gain\n",
              "decile                                        ...                              \n",
              "0         124     108          16        124  ...       60.9  1.77  15.0  87.10\n",
              "1         124      86          38        248  ...      121.8  1.59  23.0  78.23\n",
              "2         124      79          45        372  ...      182.7  1.49  29.0  73.39\n",
              "3         124      60          64        496  ...      243.6  1.37  29.0  67.14\n",
              "4         124      67          57        620  ...      304.5  1.31  31.0  64.52\n",
              "5         124      61          63        744  ...      365.4  1.26  31.0  61.96\n",
              "6         124      51          73        868  ...      426.3  1.20  27.0  58.99\n",
              "7         124      44          80        992  ...      487.2  1.14  22.0  56.05\n",
              "8         124      33          91       1116  ...      548.1  1.07  13.0  52.78\n",
              "9         123      20         103       1239  ...      609.0  1.00   0.0  49.15\n",
              "\n",
              "[10 rows x 12 columns]"
            ]
          },
          "metadata": {
            "tags": []
          },
          "execution_count": 232
        }
      ]
    },
    {
      "cell_type": "markdown",
      "metadata": {
        "id": "aGksZdemUc-5"
      },
      "source": [
        "3. TomekLinks"
      ]
    },
    {
      "cell_type": "code",
      "metadata": {
        "id": "z5dz9BT6UbY4"
      },
      "source": [
        "sampler = TomekLinks()\n",
        "X_rs, y_rs = sampler.fit_sample(X2, y)"
      ],
      "execution_count": 237,
      "outputs": []
    },
    {
      "cell_type": "code",
      "metadata": {
        "id": "8LgGQ4YaWeW0",
        "outputId": "c91e75e7-a3b9-4010-8a5f-ac5c1f66fe6d",
        "colab": {
          "base_uri": "https://localhost:8080/"
        }
      },
      "source": [
        "df_tl = pd.concat([X_rs, y_rs],axis=1)\n",
        "df_hex_tl = h2o.H2OFrame(df_tl)\n",
        "\n",
        "train_tl,test_tl = train_test_split(df_tl,test_size=0.4,random_state=1234)\n",
        "train_smp_tl = train_tl.sample(frac=0.1, random_state=1)\n",
        "test_smp_tl = test_tl.sample(frac=0.1, random_state=1)\n",
        "train_hex_sam_tl = h2o.H2OFrame(train_smp_tl)\n",
        "test_hex_sam_tl = h2o.H2OFrame(test_smp_tl)"
      ],
      "execution_count": 238,
      "outputs": [
        {
          "output_type": "stream",
          "text": [
            "Parse progress: |█████████████████████████████████████████████████████████| 100%\n",
            "Parse progress: |█████████████████████████████████████████████████████████| 100%\n",
            "Parse progress: |█████████████████████████████████████████████████████████| 100%\n"
          ],
          "name": "stdout"
        }
      ]
    },
    {
      "cell_type": "code",
      "metadata": {
        "id": "1i2np1swWxNm",
        "outputId": "26f1305e-a04f-480d-e42d-2989740f6198",
        "colab": {
          "base_uri": "https://localhost:8080/"
        }
      },
      "source": [
        "rf_v12 = H2ORandomForestEstimator(\n",
        "        model_id = 'rf_v12',\n",
        "        ntrees = 300,\n",
        "        nfolds=10,\n",
        "        min_rows=100,\n",
        "        seed=1234)\n",
        "rf_v12.train(predictors2,target,training_frame=train_hex_sam_tl)\n"
      ],
      "execution_count": 239,
      "outputs": [
        {
          "output_type": "stream",
          "text": [
            "/usr/local/lib/python3.6/dist-packages/h2o/estimators/estimator_base.py:200: RuntimeWarning: Dropping bad and constant columns: [TD054, TD051, TD062, TD061, CR012, TD029, TD028, TD027, TD026, TD048, TD025, TD044, TD055]\n",
            "  warnings.warn(mesg[\"message\"], RuntimeWarning)\n"
          ],
          "name": "stderr"
        },
        {
          "output_type": "stream",
          "text": [
            "drf Model Build progress: |███████████████████████████████████████████████| 100%\n"
          ],
          "name": "stdout"
        }
      ]
    },
    {
      "cell_type": "code",
      "metadata": {
        "id": "CVSOt2K6W4RM",
        "outputId": "f496ab59-bc54-4791-9533-5ef2ab368140",
        "colab": {
          "base_uri": "https://localhost:8080/",
          "height": 427
        }
      },
      "source": [
        "RF_actual_predict12 = actual_predict(rf_v12,test_hex_sam_tl,target)\n",
        "gains_table(RF_actual_predict12)"
      ],
      "execution_count": 240,
      "outputs": [
        {
          "output_type": "stream",
          "text": [
            "drf prediction progress: |████████████████████████████████████████████████| 100%\n"
          ],
          "name": "stdout"
        },
        {
          "output_type": "execute_result",
          "data": {
            "text/html": [
              "<div>\n",
              "<style scoped>\n",
              "    .dataframe tbody tr th:only-of-type {\n",
              "        vertical-align: middle;\n",
              "    }\n",
              "\n",
              "    .dataframe tbody tr th {\n",
              "        vertical-align: top;\n",
              "    }\n",
              "\n",
              "    .dataframe thead th {\n",
              "        text-align: right;\n",
              "    }\n",
              "</style>\n",
              "<table border=\"1\" class=\"dataframe\">\n",
              "  <thead>\n",
              "    <tr style=\"text-align: right;\">\n",
              "      <th></th>\n",
              "      <th>count</th>\n",
              "      <th>actual</th>\n",
              "      <th>non_actual</th>\n",
              "      <th>cum_count</th>\n",
              "      <th>cum_actual</th>\n",
              "      <th>cum_non_actual</th>\n",
              "      <th>percent_cum_actual</th>\n",
              "      <th>percent_cum_non_actual</th>\n",
              "      <th>if_random</th>\n",
              "      <th>lift</th>\n",
              "      <th>K_S</th>\n",
              "      <th>gain</th>\n",
              "    </tr>\n",
              "    <tr>\n",
              "      <th>decile</th>\n",
              "      <th></th>\n",
              "      <th></th>\n",
              "      <th></th>\n",
              "      <th></th>\n",
              "      <th></th>\n",
              "      <th></th>\n",
              "      <th></th>\n",
              "      <th></th>\n",
              "      <th></th>\n",
              "      <th></th>\n",
              "      <th></th>\n",
              "      <th></th>\n",
              "    </tr>\n",
              "  </thead>\n",
              "  <tbody>\n",
              "    <tr>\n",
              "      <th>0</th>\n",
              "      <td>296</td>\n",
              "      <td>122</td>\n",
              "      <td>174</td>\n",
              "      <td>296</td>\n",
              "      <td>122</td>\n",
              "      <td>174</td>\n",
              "      <td>0.20</td>\n",
              "      <td>0.07</td>\n",
              "      <td>61.4</td>\n",
              "      <td>1.99</td>\n",
              "      <td>13.0</td>\n",
              "      <td>41.22</td>\n",
              "    </tr>\n",
              "    <tr>\n",
              "      <th>1</th>\n",
              "      <td>296</td>\n",
              "      <td>93</td>\n",
              "      <td>203</td>\n",
              "      <td>592</td>\n",
              "      <td>215</td>\n",
              "      <td>377</td>\n",
              "      <td>0.35</td>\n",
              "      <td>0.16</td>\n",
              "      <td>122.8</td>\n",
              "      <td>1.75</td>\n",
              "      <td>19.0</td>\n",
              "      <td>36.32</td>\n",
              "    </tr>\n",
              "    <tr>\n",
              "      <th>2</th>\n",
              "      <td>296</td>\n",
              "      <td>79</td>\n",
              "      <td>217</td>\n",
              "      <td>888</td>\n",
              "      <td>294</td>\n",
              "      <td>594</td>\n",
              "      <td>0.48</td>\n",
              "      <td>0.25</td>\n",
              "      <td>184.2</td>\n",
              "      <td>1.60</td>\n",
              "      <td>23.0</td>\n",
              "      <td>33.11</td>\n",
              "    </tr>\n",
              "    <tr>\n",
              "      <th>3</th>\n",
              "      <td>296</td>\n",
              "      <td>62</td>\n",
              "      <td>234</td>\n",
              "      <td>1184</td>\n",
              "      <td>356</td>\n",
              "      <td>828</td>\n",
              "      <td>0.58</td>\n",
              "      <td>0.35</td>\n",
              "      <td>245.6</td>\n",
              "      <td>1.45</td>\n",
              "      <td>23.0</td>\n",
              "      <td>30.07</td>\n",
              "    </tr>\n",
              "    <tr>\n",
              "      <th>4</th>\n",
              "      <td>295</td>\n",
              "      <td>55</td>\n",
              "      <td>240</td>\n",
              "      <td>1479</td>\n",
              "      <td>411</td>\n",
              "      <td>1068</td>\n",
              "      <td>0.67</td>\n",
              "      <td>0.46</td>\n",
              "      <td>307.0</td>\n",
              "      <td>1.34</td>\n",
              "      <td>21.0</td>\n",
              "      <td>27.79</td>\n",
              "    </tr>\n",
              "    <tr>\n",
              "      <th>5</th>\n",
              "      <td>296</td>\n",
              "      <td>63</td>\n",
              "      <td>233</td>\n",
              "      <td>1775</td>\n",
              "      <td>474</td>\n",
              "      <td>1301</td>\n",
              "      <td>0.77</td>\n",
              "      <td>0.56</td>\n",
              "      <td>368.4</td>\n",
              "      <td>1.29</td>\n",
              "      <td>21.0</td>\n",
              "      <td>26.70</td>\n",
              "    </tr>\n",
              "    <tr>\n",
              "      <th>6</th>\n",
              "      <td>296</td>\n",
              "      <td>37</td>\n",
              "      <td>259</td>\n",
              "      <td>2071</td>\n",
              "      <td>511</td>\n",
              "      <td>1560</td>\n",
              "      <td>0.83</td>\n",
              "      <td>0.67</td>\n",
              "      <td>429.8</td>\n",
              "      <td>1.19</td>\n",
              "      <td>16.0</td>\n",
              "      <td>24.67</td>\n",
              "    </tr>\n",
              "    <tr>\n",
              "      <th>7</th>\n",
              "      <td>296</td>\n",
              "      <td>34</td>\n",
              "      <td>262</td>\n",
              "      <td>2367</td>\n",
              "      <td>545</td>\n",
              "      <td>1822</td>\n",
              "      <td>0.89</td>\n",
              "      <td>0.78</td>\n",
              "      <td>491.2</td>\n",
              "      <td>1.11</td>\n",
              "      <td>11.0</td>\n",
              "      <td>23.02</td>\n",
              "    </tr>\n",
              "    <tr>\n",
              "      <th>8</th>\n",
              "      <td>296</td>\n",
              "      <td>40</td>\n",
              "      <td>256</td>\n",
              "      <td>2663</td>\n",
              "      <td>585</td>\n",
              "      <td>2078</td>\n",
              "      <td>0.95</td>\n",
              "      <td>0.89</td>\n",
              "      <td>552.6</td>\n",
              "      <td>1.06</td>\n",
              "      <td>6.0</td>\n",
              "      <td>21.97</td>\n",
              "    </tr>\n",
              "    <tr>\n",
              "      <th>9</th>\n",
              "      <td>295</td>\n",
              "      <td>29</td>\n",
              "      <td>266</td>\n",
              "      <td>2958</td>\n",
              "      <td>614</td>\n",
              "      <td>2344</td>\n",
              "      <td>1.00</td>\n",
              "      <td>1.00</td>\n",
              "      <td>614.0</td>\n",
              "      <td>1.00</td>\n",
              "      <td>0.0</td>\n",
              "      <td>20.76</td>\n",
              "    </tr>\n",
              "  </tbody>\n",
              "</table>\n",
              "</div>"
            ],
            "text/plain": [
              "        count  actual  non_actual  cum_count  ...  if_random  lift   K_S   gain\n",
              "decile                                        ...                              \n",
              "0         296     122         174        296  ...       61.4  1.99  13.0  41.22\n",
              "1         296      93         203        592  ...      122.8  1.75  19.0  36.32\n",
              "2         296      79         217        888  ...      184.2  1.60  23.0  33.11\n",
              "3         296      62         234       1184  ...      245.6  1.45  23.0  30.07\n",
              "4         295      55         240       1479  ...      307.0  1.34  21.0  27.79\n",
              "5         296      63         233       1775  ...      368.4  1.29  21.0  26.70\n",
              "6         296      37         259       2071  ...      429.8  1.19  16.0  24.67\n",
              "7         296      34         262       2367  ...      491.2  1.11  11.0  23.02\n",
              "8         296      40         256       2663  ...      552.6  1.06   6.0  21.97\n",
              "9         295      29         266       2958  ...      614.0  1.00   0.0  20.76\n",
              "\n",
              "[10 rows x 12 columns]"
            ]
          },
          "metadata": {
            "tags": []
          },
          "execution_count": 240
        }
      ]
    },
    {
      "cell_type": "markdown",
      "metadata": {
        "id": "KS5a2N1HUr8Q"
      },
      "source": [
        "4. NeighbourhoodCleaningRule"
      ]
    },
    {
      "cell_type": "code",
      "metadata": {
        "id": "VmjuhwDqX5zE"
      },
      "source": [
        "sampler = NeighbourhoodCleaningRule()\n",
        "X_rs_ncr, y_rs_ncr = sampler.fit_sample(X2, y)"
      ],
      "execution_count": null,
      "outputs": []
    },
    {
      "cell_type": "code",
      "metadata": {
        "id": "Xif09BQbXA0c",
        "outputId": "af16df67-7a36-4b6d-d51b-fd0d51177551",
        "colab": {
          "base_uri": "https://localhost:8080/"
        }
      },
      "source": [
        "df_ncr = pd.concat([X_rs_ncr, y_rs_ncr],axis=1)\n",
        "df_hex_ncr = h2o.H2OFrame(df_ncr)\n",
        "\n",
        "train_ncr,test_ncr = train_test_split(df_ncr,test_size=0.4,random_state=1234)\n",
        "train_smp_ncr = train_ncr.sample(frac=0.1, random_state=1)\n",
        "test_smp_ncr = test_ncr.sample(frac=0.1, random_state=1)\n",
        "train_hex_sam_ncr = h2o.H2OFrame(train_smp_ncr)\n",
        "test_hex_sam_ncr = h2o.H2OFrame(test_smp_ncr)"
      ],
      "execution_count": 243,
      "outputs": [
        {
          "output_type": "stream",
          "text": [
            "Parse progress: |█████████████████████████████████████████████████████████| 100%\n",
            "Parse progress: |█████████████████████████████████████████████████████████| 100%\n",
            "Parse progress: |█████████████████████████████████████████████████████████| 100%\n"
          ],
          "name": "stdout"
        }
      ]
    },
    {
      "cell_type": "code",
      "metadata": {
        "id": "M-R0Z6_IXbqA",
        "outputId": "58da1b3b-3542-4ce3-8b1d-6947a65b4849",
        "colab": {
          "base_uri": "https://localhost:8080/"
        }
      },
      "source": [
        "rf_v13 = H2ORandomForestEstimator(\n",
        "        model_id = 'rf_v13',\n",
        "        ntrees = 300,\n",
        "        nfolds=10,\n",
        "        min_rows=100,\n",
        "        seed=1234)\n",
        "rf_v13.train(predictors2,target,training_frame=train_hex_sam_ncr)"
      ],
      "execution_count": 244,
      "outputs": [
        {
          "output_type": "stream",
          "text": [
            "/usr/local/lib/python3.6/dist-packages/h2o/estimators/estimator_base.py:200: RuntimeWarning: Dropping bad and constant columns: [TD054, TD051, TD062, TD061, CR012, TD029, TD028, TD027, TD026, TD048, TD025, TD044, TD055]\n",
            "  warnings.warn(mesg[\"message\"], RuntimeWarning)\n"
          ],
          "name": "stderr"
        },
        {
          "output_type": "stream",
          "text": [
            "drf Model Build progress: |███████████████████████████████████████████████| 100%\n"
          ],
          "name": "stdout"
        }
      ]
    },
    {
      "cell_type": "code",
      "metadata": {
        "id": "6epGIuWrXhNF",
        "outputId": "b200f4bb-0a8a-46e6-e446-01d273688652",
        "colab": {
          "base_uri": "https://localhost:8080/",
          "height": 427
        }
      },
      "source": [
        "RF_actual_predict13 = actual_predict(rf_v13,test_hex_sam_ncr,target)\n",
        "gains_table(RF_actual_predict13)"
      ],
      "execution_count": 246,
      "outputs": [
        {
          "output_type": "stream",
          "text": [
            "drf prediction progress: |████████████████████████████████████████████████| 100%\n"
          ],
          "name": "stdout"
        },
        {
          "output_type": "execute_result",
          "data": {
            "text/html": [
              "<div>\n",
              "<style scoped>\n",
              "    .dataframe tbody tr th:only-of-type {\n",
              "        vertical-align: middle;\n",
              "    }\n",
              "\n",
              "    .dataframe tbody tr th {\n",
              "        vertical-align: top;\n",
              "    }\n",
              "\n",
              "    .dataframe thead th {\n",
              "        text-align: right;\n",
              "    }\n",
              "</style>\n",
              "<table border=\"1\" class=\"dataframe\">\n",
              "  <thead>\n",
              "    <tr style=\"text-align: right;\">\n",
              "      <th></th>\n",
              "      <th>count</th>\n",
              "      <th>actual</th>\n",
              "      <th>non_actual</th>\n",
              "      <th>cum_count</th>\n",
              "      <th>cum_actual</th>\n",
              "      <th>cum_non_actual</th>\n",
              "      <th>percent_cum_actual</th>\n",
              "      <th>percent_cum_non_actual</th>\n",
              "      <th>if_random</th>\n",
              "      <th>lift</th>\n",
              "      <th>K_S</th>\n",
              "      <th>gain</th>\n",
              "    </tr>\n",
              "    <tr>\n",
              "      <th>decile</th>\n",
              "      <th></th>\n",
              "      <th></th>\n",
              "      <th></th>\n",
              "      <th></th>\n",
              "      <th></th>\n",
              "      <th></th>\n",
              "      <th></th>\n",
              "      <th></th>\n",
              "      <th></th>\n",
              "      <th></th>\n",
              "      <th></th>\n",
              "      <th></th>\n",
              "    </tr>\n",
              "  </thead>\n",
              "  <tbody>\n",
              "    <tr>\n",
              "      <th>0</th>\n",
              "      <td>204</td>\n",
              "      <td>106</td>\n",
              "      <td>98</td>\n",
              "      <td>204</td>\n",
              "      <td>106</td>\n",
              "      <td>98</td>\n",
              "      <td>0.17</td>\n",
              "      <td>0.07</td>\n",
              "      <td>63.8</td>\n",
              "      <td>1.66</td>\n",
              "      <td>10.0</td>\n",
              "      <td>51.96</td>\n",
              "    </tr>\n",
              "    <tr>\n",
              "      <th>1</th>\n",
              "      <td>203</td>\n",
              "      <td>91</td>\n",
              "      <td>112</td>\n",
              "      <td>407</td>\n",
              "      <td>197</td>\n",
              "      <td>210</td>\n",
              "      <td>0.31</td>\n",
              "      <td>0.15</td>\n",
              "      <td>127.6</td>\n",
              "      <td>1.54</td>\n",
              "      <td>16.0</td>\n",
              "      <td>48.40</td>\n",
              "    </tr>\n",
              "    <tr>\n",
              "      <th>2</th>\n",
              "      <td>204</td>\n",
              "      <td>73</td>\n",
              "      <td>131</td>\n",
              "      <td>611</td>\n",
              "      <td>270</td>\n",
              "      <td>341</td>\n",
              "      <td>0.42</td>\n",
              "      <td>0.24</td>\n",
              "      <td>191.4</td>\n",
              "      <td>1.41</td>\n",
              "      <td>18.0</td>\n",
              "      <td>44.19</td>\n",
              "    </tr>\n",
              "    <tr>\n",
              "      <th>3</th>\n",
              "      <td>203</td>\n",
              "      <td>78</td>\n",
              "      <td>125</td>\n",
              "      <td>814</td>\n",
              "      <td>348</td>\n",
              "      <td>466</td>\n",
              "      <td>0.55</td>\n",
              "      <td>0.33</td>\n",
              "      <td>255.2</td>\n",
              "      <td>1.36</td>\n",
              "      <td>22.0</td>\n",
              "      <td>42.75</td>\n",
              "    </tr>\n",
              "    <tr>\n",
              "      <th>4</th>\n",
              "      <td>204</td>\n",
              "      <td>60</td>\n",
              "      <td>144</td>\n",
              "      <td>1018</td>\n",
              "      <td>408</td>\n",
              "      <td>610</td>\n",
              "      <td>0.64</td>\n",
              "      <td>0.44</td>\n",
              "      <td>319.0</td>\n",
              "      <td>1.28</td>\n",
              "      <td>20.0</td>\n",
              "      <td>40.08</td>\n",
              "    </tr>\n",
              "    <tr>\n",
              "      <th>5</th>\n",
              "      <td>203</td>\n",
              "      <td>66</td>\n",
              "      <td>137</td>\n",
              "      <td>1221</td>\n",
              "      <td>474</td>\n",
              "      <td>747</td>\n",
              "      <td>0.74</td>\n",
              "      <td>0.53</td>\n",
              "      <td>382.8</td>\n",
              "      <td>1.24</td>\n",
              "      <td>21.0</td>\n",
              "      <td>38.82</td>\n",
              "    </tr>\n",
              "    <tr>\n",
              "      <th>6</th>\n",
              "      <td>204</td>\n",
              "      <td>55</td>\n",
              "      <td>149</td>\n",
              "      <td>1425</td>\n",
              "      <td>529</td>\n",
              "      <td>896</td>\n",
              "      <td>0.83</td>\n",
              "      <td>0.64</td>\n",
              "      <td>446.6</td>\n",
              "      <td>1.18</td>\n",
              "      <td>19.0</td>\n",
              "      <td>37.12</td>\n",
              "    </tr>\n",
              "    <tr>\n",
              "      <th>7</th>\n",
              "      <td>203</td>\n",
              "      <td>39</td>\n",
              "      <td>164</td>\n",
              "      <td>1628</td>\n",
              "      <td>568</td>\n",
              "      <td>1060</td>\n",
              "      <td>0.89</td>\n",
              "      <td>0.76</td>\n",
              "      <td>510.4</td>\n",
              "      <td>1.11</td>\n",
              "      <td>13.0</td>\n",
              "      <td>34.89</td>\n",
              "    </tr>\n",
              "    <tr>\n",
              "      <th>8</th>\n",
              "      <td>204</td>\n",
              "      <td>42</td>\n",
              "      <td>162</td>\n",
              "      <td>1832</td>\n",
              "      <td>610</td>\n",
              "      <td>1222</td>\n",
              "      <td>0.96</td>\n",
              "      <td>0.87</td>\n",
              "      <td>574.2</td>\n",
              "      <td>1.06</td>\n",
              "      <td>9.0</td>\n",
              "      <td>33.30</td>\n",
              "    </tr>\n",
              "    <tr>\n",
              "      <th>9</th>\n",
              "      <td>203</td>\n",
              "      <td>28</td>\n",
              "      <td>175</td>\n",
              "      <td>2035</td>\n",
              "      <td>638</td>\n",
              "      <td>1397</td>\n",
              "      <td>1.00</td>\n",
              "      <td>1.00</td>\n",
              "      <td>638.0</td>\n",
              "      <td>1.00</td>\n",
              "      <td>0.0</td>\n",
              "      <td>31.35</td>\n",
              "    </tr>\n",
              "  </tbody>\n",
              "</table>\n",
              "</div>"
            ],
            "text/plain": [
              "        count  actual  non_actual  cum_count  ...  if_random  lift   K_S   gain\n",
              "decile                                        ...                              \n",
              "0         204     106          98        204  ...       63.8  1.66  10.0  51.96\n",
              "1         203      91         112        407  ...      127.6  1.54  16.0  48.40\n",
              "2         204      73         131        611  ...      191.4  1.41  18.0  44.19\n",
              "3         203      78         125        814  ...      255.2  1.36  22.0  42.75\n",
              "4         204      60         144       1018  ...      319.0  1.28  20.0  40.08\n",
              "5         203      66         137       1221  ...      382.8  1.24  21.0  38.82\n",
              "6         204      55         149       1425  ...      446.6  1.18  19.0  37.12\n",
              "7         203      39         164       1628  ...      510.4  1.11  13.0  34.89\n",
              "8         204      42         162       1832  ...      574.2  1.06   9.0  33.30\n",
              "9         203      28         175       2035  ...      638.0  1.00   0.0  31.35\n",
              "\n",
              "[10 rows x 12 columns]"
            ]
          },
          "metadata": {
            "tags": []
          },
          "execution_count": 246
        }
      ]
    },
    {
      "cell_type": "markdown",
      "metadata": {
        "id": "w0uRnsB5VIpE"
      },
      "source": [
        "After testing different sampling methods, the one with the highest lift value 2.12 is use make_imbalance function to do a undersampling, with a ROC score 0.73. Clearly, since the mortgage dataset is unbalanced, using undersampling method to under-sampling the majority of the class improves the model predictability.\n",
        "\n",
        "Limitation: Keep all the variables, instead of conducting feature selections when cleaning the data. Moving forward, if only select e.g. top 15 features, the lift score could be higher and the running time will be reduced as well"
      ]
    }
  ]
}